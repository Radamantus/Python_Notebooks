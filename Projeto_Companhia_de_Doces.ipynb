{
 "cells": [
  {
   "cell_type": "markdown",
   "metadata": {},
   "source": [
    "\n",
    "#### Cenário do Problema\n",
    "\n",
    "Você trabalha para um grande produtor de doces e seu objetivo é escrever um relatório que sua empresa possa usar para orientar o design de seu próximo produto. Logo depois de iniciar sua pesquisa, você se depara com um conjunto de dados muito interessante contendo resultados de uma pesquisa divertida realizada com uma pequena parcela da população sobre os doces favoritos. Para ter sucesso, você precisará importar dados para o python, responder a perguntas usando os dados e gerar **gráficos de dispersão** para entender os padrões nos dados."
   ]
  },
  {
   "cell_type": "code",
   "execution_count": 11,
   "metadata": {
    "execution": {
     "iopub.execute_input": "2021-06-02T00:04:45.788361Z",
     "iopub.status.busy": "2021-06-02T00:04:45.787647Z",
     "iopub.status.idle": "2021-06-02T00:04:46.781396Z",
     "shell.execute_reply": "2021-06-02T00:04:46.779424Z",
     "shell.execute_reply.started": "2021-06-02T00:04:45.788250Z"
    }
   },
   "outputs": [],
   "source": [
    "import pandas as pd\n",
    "import matplotlib.pyplot as plt\n",
    "import seaborn as sns"
   ]
  },
  {
   "cell_type": "markdown",
   "metadata": {},
   "source": [
    "#### Passo 01: Carregar os Dados"
   ]
  },
  {
   "cell_type": "code",
   "execution_count": 4,
   "metadata": {
    "execution": {
     "iopub.execute_input": "2021-06-02T00:05:55.428463Z",
     "iopub.status.busy": "2021-06-02T00:05:55.427765Z",
     "iopub.status.idle": "2021-06-02T00:05:55.449010Z",
     "shell.execute_reply": "2021-06-02T00:05:55.447934Z",
     "shell.execute_reply.started": "2021-06-02T00:05:55.428410Z"
    }
   },
   "outputs": [
    {
     "name": "stdout",
     "output_type": "stream",
     "text": [
      "A base de dados possui 83 linhas e 13 colunas.\n"
     ]
    },
    {
     "data": {
      "text/html": [
       "<div>\n",
       "<style scoped>\n",
       "    .dataframe tbody tr th:only-of-type {\n",
       "        vertical-align: middle;\n",
       "    }\n",
       "\n",
       "    .dataframe tbody tr th {\n",
       "        vertical-align: top;\n",
       "    }\n",
       "\n",
       "    .dataframe thead th {\n",
       "        text-align: right;\n",
       "    }\n",
       "</style>\n",
       "<table border=\"1\" class=\"dataframe\">\n",
       "  <thead>\n",
       "    <tr style=\"text-align: right;\">\n",
       "      <th></th>\n",
       "      <th>competitorname</th>\n",
       "      <th>chocolate</th>\n",
       "      <th>fruity</th>\n",
       "      <th>caramel</th>\n",
       "      <th>peanutyalmondy</th>\n",
       "      <th>nougat</th>\n",
       "      <th>crispedricewafer</th>\n",
       "      <th>hard</th>\n",
       "      <th>bar</th>\n",
       "      <th>pluribus</th>\n",
       "      <th>sugarpercent</th>\n",
       "      <th>pricepercent</th>\n",
       "      <th>winpercent</th>\n",
       "    </tr>\n",
       "    <tr>\n",
       "      <th>id</th>\n",
       "      <th></th>\n",
       "      <th></th>\n",
       "      <th></th>\n",
       "      <th></th>\n",
       "      <th></th>\n",
       "      <th></th>\n",
       "      <th></th>\n",
       "      <th></th>\n",
       "      <th></th>\n",
       "      <th></th>\n",
       "      <th></th>\n",
       "      <th></th>\n",
       "      <th></th>\n",
       "    </tr>\n",
       "  </thead>\n",
       "  <tbody>\n",
       "    <tr>\n",
       "      <th>0</th>\n",
       "      <td>100 Grand</td>\n",
       "      <td>Yes</td>\n",
       "      <td>No</td>\n",
       "      <td>Yes</td>\n",
       "      <td>No</td>\n",
       "      <td>No</td>\n",
       "      <td>Yes</td>\n",
       "      <td>No</td>\n",
       "      <td>Yes</td>\n",
       "      <td>No</td>\n",
       "      <td>0.732</td>\n",
       "      <td>0.860</td>\n",
       "      <td>66.971725</td>\n",
       "    </tr>\n",
       "    <tr>\n",
       "      <th>1</th>\n",
       "      <td>3 Musketeers</td>\n",
       "      <td>Yes</td>\n",
       "      <td>No</td>\n",
       "      <td>No</td>\n",
       "      <td>No</td>\n",
       "      <td>Yes</td>\n",
       "      <td>No</td>\n",
       "      <td>No</td>\n",
       "      <td>Yes</td>\n",
       "      <td>No</td>\n",
       "      <td>0.604</td>\n",
       "      <td>0.511</td>\n",
       "      <td>67.602936</td>\n",
       "    </tr>\n",
       "    <tr>\n",
       "      <th>2</th>\n",
       "      <td>Air Heads</td>\n",
       "      <td>No</td>\n",
       "      <td>Yes</td>\n",
       "      <td>No</td>\n",
       "      <td>No</td>\n",
       "      <td>No</td>\n",
       "      <td>No</td>\n",
       "      <td>No</td>\n",
       "      <td>No</td>\n",
       "      <td>No</td>\n",
       "      <td>0.906</td>\n",
       "      <td>0.511</td>\n",
       "      <td>52.341465</td>\n",
       "    </tr>\n",
       "    <tr>\n",
       "      <th>3</th>\n",
       "      <td>Almond Joy</td>\n",
       "      <td>Yes</td>\n",
       "      <td>No</td>\n",
       "      <td>No</td>\n",
       "      <td>Yes</td>\n",
       "      <td>No</td>\n",
       "      <td>No</td>\n",
       "      <td>No</td>\n",
       "      <td>Yes</td>\n",
       "      <td>No</td>\n",
       "      <td>0.465</td>\n",
       "      <td>0.767</td>\n",
       "      <td>50.347546</td>\n",
       "    </tr>\n",
       "    <tr>\n",
       "      <th>4</th>\n",
       "      <td>Baby Ruth</td>\n",
       "      <td>Yes</td>\n",
       "      <td>No</td>\n",
       "      <td>Yes</td>\n",
       "      <td>Yes</td>\n",
       "      <td>Yes</td>\n",
       "      <td>No</td>\n",
       "      <td>No</td>\n",
       "      <td>Yes</td>\n",
       "      <td>No</td>\n",
       "      <td>0.604</td>\n",
       "      <td>0.767</td>\n",
       "      <td>56.914547</td>\n",
       "    </tr>\n",
       "    <tr>\n",
       "      <th>5</th>\n",
       "      <td>Boston Baked Beans</td>\n",
       "      <td>No</td>\n",
       "      <td>No</td>\n",
       "      <td>No</td>\n",
       "      <td>Yes</td>\n",
       "      <td>No</td>\n",
       "      <td>No</td>\n",
       "      <td>No</td>\n",
       "      <td>No</td>\n",
       "      <td>Yes</td>\n",
       "      <td>0.313</td>\n",
       "      <td>0.511</td>\n",
       "      <td>23.417824</td>\n",
       "    </tr>\n",
       "    <tr>\n",
       "      <th>6</th>\n",
       "      <td>Candy Corn</td>\n",
       "      <td>No</td>\n",
       "      <td>No</td>\n",
       "      <td>No</td>\n",
       "      <td>No</td>\n",
       "      <td>No</td>\n",
       "      <td>No</td>\n",
       "      <td>No</td>\n",
       "      <td>No</td>\n",
       "      <td>Yes</td>\n",
       "      <td>0.906</td>\n",
       "      <td>0.325</td>\n",
       "      <td>38.010963</td>\n",
       "    </tr>\n",
       "    <tr>\n",
       "      <th>7</th>\n",
       "      <td>Caramel Apple Pops</td>\n",
       "      <td>No</td>\n",
       "      <td>Yes</td>\n",
       "      <td>Yes</td>\n",
       "      <td>No</td>\n",
       "      <td>No</td>\n",
       "      <td>No</td>\n",
       "      <td>No</td>\n",
       "      <td>No</td>\n",
       "      <td>No</td>\n",
       "      <td>0.604</td>\n",
       "      <td>0.325</td>\n",
       "      <td>34.517681</td>\n",
       "    </tr>\n",
       "    <tr>\n",
       "      <th>8</th>\n",
       "      <td>Charleston Chew</td>\n",
       "      <td>Yes</td>\n",
       "      <td>No</td>\n",
       "      <td>No</td>\n",
       "      <td>No</td>\n",
       "      <td>Yes</td>\n",
       "      <td>No</td>\n",
       "      <td>No</td>\n",
       "      <td>Yes</td>\n",
       "      <td>No</td>\n",
       "      <td>0.604</td>\n",
       "      <td>0.511</td>\n",
       "      <td>38.975037</td>\n",
       "    </tr>\n",
       "    <tr>\n",
       "      <th>9</th>\n",
       "      <td>Chewey Lemonhead Fruit Mix</td>\n",
       "      <td>No</td>\n",
       "      <td>Yes</td>\n",
       "      <td>No</td>\n",
       "      <td>No</td>\n",
       "      <td>No</td>\n",
       "      <td>No</td>\n",
       "      <td>No</td>\n",
       "      <td>No</td>\n",
       "      <td>Yes</td>\n",
       "      <td>0.732</td>\n",
       "      <td>0.511</td>\n",
       "      <td>36.017628</td>\n",
       "    </tr>\n",
       "  </tbody>\n",
       "</table>\n",
       "</div>"
      ],
      "text/plain": [
       "                competitorname chocolate fruity caramel peanutyalmondy nougat  \\\n",
       "id                                                                              \n",
       "0                    100 Grand       Yes     No     Yes             No     No   \n",
       "1                 3 Musketeers       Yes     No      No             No    Yes   \n",
       "2                    Air Heads        No    Yes      No             No     No   \n",
       "3                   Almond Joy       Yes     No      No            Yes     No   \n",
       "4                    Baby Ruth       Yes     No     Yes            Yes    Yes   \n",
       "5           Boston Baked Beans        No     No      No            Yes     No   \n",
       "6                   Candy Corn        No     No      No             No     No   \n",
       "7           Caramel Apple Pops        No    Yes     Yes             No     No   \n",
       "8              Charleston Chew       Yes     No      No             No    Yes   \n",
       "9   Chewey Lemonhead Fruit Mix        No    Yes      No             No     No   \n",
       "\n",
       "   crispedricewafer hard  bar pluribus  sugarpercent  pricepercent  winpercent  \n",
       "id                                                                              \n",
       "0               Yes   No  Yes       No         0.732         0.860   66.971725  \n",
       "1                No   No  Yes       No         0.604         0.511   67.602936  \n",
       "2                No   No   No       No         0.906         0.511   52.341465  \n",
       "3                No   No  Yes       No         0.465         0.767   50.347546  \n",
       "4                No   No  Yes       No         0.604         0.767   56.914547  \n",
       "5                No   No   No      Yes         0.313         0.511   23.417824  \n",
       "6                No   No   No      Yes         0.906         0.325   38.010963  \n",
       "7                No   No   No       No         0.604         0.325   34.517681  \n",
       "8                No   No  Yes       No         0.604         0.511   38.975037  \n",
       "9                No   No   No      Yes         0.732         0.511   36.017628  "
      ]
     },
     "execution_count": 4,
     "metadata": {},
     "output_type": "execute_result"
    }
   ],
   "source": [
    "# Ler e carregar a base de dados\n",
    "arquivo = 'candy.csv'\n",
    "candy_df = pd.read_csv(arquivo, index_col = 'id')\n",
    "\n",
    "# Examinar a base de dados\n",
    "linhas, colunas = candy_df.shape # Extrair tamanho da base de dados\n",
    "print('A base de dados possui {} linhas e {} colunas.'.format(linhas, colunas)) # Apresentar informação ao usuário\n",
    "\n",
    "# Salvar o dataframe já formatado no computador \n",
    "candy_df.to_excel('Companhia de Doces Formatado.xlsx', index = False) # Salvar o dataframe em formato de arquivo Excel\n",
    "# candy_df.to_csv('Companhia de Doces Formatado.csv', index = False) # Salvar o dataframe em formato de arquivo CSV\n",
    "\n",
    "candy_df.head(10) # Visualizar as 10 primeiras linhas da base de dados"
   ]
  },
  {
   "cell_type": "markdown",
   "metadata": {},
   "source": [
    "O conjunto de dados contém 83 linhas, onde cada uma corresponde a uma barra de chocolate diferente. Existem 13 colunas:\n",
    "\n",
    "- `'competitorname'` contém o nome da barra de chocolate.\n",
    "- as próximas ** 9 ** colunas (de `'chocolate'` a`' pluribus'`) descrevem o doce. Por exemplo, linhas com bombons de chocolate têm `'Yes'` na coluna `'chocolate'` (e balas sem chocolate têm` 'No' `na mesma coluna).\n",
    "- `'sugarpercent'` fornece alguma indicação da quantidade de açúcar, onde valores mais altos significam maior teor de açúcar.\n",
    "- `'pricepercent'` mostra o preço por unidade, em relação aos outros doces no conjunto de dados.\n",
    "- `'winpercent'` é calculado a partir dos resultados da pesquisa; valores mais altos indicam que o doce era mais popular entre os participantes da pesquisa. "
   ]
  },
  {
   "cell_type": "markdown",
   "metadata": {},
   "source": [
    "#### Passo 03: O Papel do Açúcar\n",
    "#### Parte A\n",
    "\n",
    "As pessoas tendem a preferir doces com maior teor de açúcar? "
   ]
  },
  {
   "cell_type": "code",
   "execution_count": 16,
   "metadata": {
    "execution": {
     "iopub.execute_input": "2021-06-02T00:11:16.908219Z",
     "iopub.status.busy": "2021-06-02T00:11:16.907547Z",
     "iopub.status.idle": "2021-06-02T00:11:17.072721Z",
     "shell.execute_reply": "2021-06-02T00:11:17.071772Z",
     "shell.execute_reply.started": "2021-06-02T00:11:16.908168Z"
    }
   },
   "outputs": [
    {
     "data": {
      "image/png": "[encoded data removed]",
      "text/plain": [
       "<Figure size 432x288 with 1 Axes>"
      ]
     },
     "metadata": {
      "needs_background": "light"
     },
     "output_type": "display_data"
    }
   ],
   "source": [
    "# Gráfico de dispersão mostrando a relação entre 'sugarpercent' e 'winpercent'\n",
    "sns.scatterplot(x = candy_df['sugarpercent'], y = candy_df['winpercent'], palette = 'deep');"
   ]
  },
  {
   "cell_type": "markdown",
   "metadata": {},
   "source": [
    "#### Parte B\n",
    "\n",
    "O gráfico de dispersão mostra uma correlação **forte** entre as duas variáveis? Em caso afirmativo, os doces com mais açúcar são relativamente mais ou menos populares entre os entrevistados?\n",
    "\n",
    "O gráfico de dispersão não mostra uma correlação **forte** entre as duas variáveis. Como não há uma relação clara entre as duas variáveis, isso nos diz que o teor de açúcar não desempenha um papel importante na popularidade dos doces."
   ]
  },
  {
   "cell_type": "markdown",
   "metadata": {},
   "source": [
    "#### Passo 04: Uma Olhada Mais de Perto\n",
    "\n",
    "#### Parte A\n",
    "\n",
    "Crie o mesmo gráfico de dispersão que você criou no **Passo 03**, mas agora com uma linha de regressão!"
   ]
  },
  {
   "cell_type": "code",
   "execution_count": 5,
   "metadata": {
    "execution": {
     "iopub.execute_input": "2021-06-02T00:13:42.619138Z",
     "iopub.status.busy": "2021-06-02T00:13:42.618698Z",
     "iopub.status.idle": "2021-06-02T00:13:42.880300Z",
     "shell.execute_reply": "2021-06-02T00:13:42.879556Z",
     "shell.execute_reply.started": "2021-06-02T00:13:42.619102Z"
    }
   },
   "outputs": [
    {
     "data": {
      "image/png": "[encoded data removed]",
      "text/plain": [
       "<Figure size 432x288 with 1 Axes>"
      ]
     },
     "metadata": {
      "needs_background": "light"
     },
     "output_type": "display_data"
    }
   ],
   "source": [
    "# Gráfico de dispersão com linha de regressão mostrando a relação entre 'sugarpercent' e 'winpercent'\n",
    "sns.regplot(x = candy_df['sugarpercent'], y = candy_df['winpercent']);"
   ]
  },
  {
   "cell_type": "markdown",
   "metadata": {},
   "source": [
    "#### Parte B\n",
    "\n",
    "De acordo com o gráfico acima, existe uma **leve** correlação entre `'winpercent'` e`'sugarpercent'`? O que isso diz a você sobre os doces que as pessoas tendem a preferir?\n",
    "\n",
    "Uma vez que a linha de regressão tem uma inclinação ligeiramente positiva, isso nos diz que há uma correlação ligeiramente positiva entre `'winpercent'` e`'sugarpercent'`. Portanto, as pessoas têm uma **leve** preferência por doces que contêm relativamente mais açúcar."
   ]
  },
  {
   "cell_type": "markdown",
   "metadata": {},
   "source": [
    "#### Passo 05: Chocolate!\n",
    "\n",
    "Na célula de código abaixo, crie um gráfico de dispersão para mostrar a relação entre `'pricepercent'` (no eixo x-horizontal) e`'winpercent'` (no eixo y-vertical). Use a coluna `'chocolate'` para codificar os pontos por cor."
   ]
  },
  {
   "cell_type": "code",
   "execution_count": 6,
   "metadata": {
    "execution": {
     "iopub.execute_input": "2021-06-02T00:15:45.347764Z",
     "iopub.status.busy": "2021-06-02T00:15:45.347370Z",
     "iopub.status.idle": "2021-06-02T00:15:45.580492Z",
     "shell.execute_reply": "2021-06-02T00:15:45.579341Z",
     "shell.execute_reply.started": "2021-06-02T00:15:45.347730Z"
    }
   },
   "outputs": [
    {
     "data": {
      "image/png": "[encoded data removed]",
      "text/plain": [
       "<Figure size 432x288 with 1 Axes>"
      ]
     },
     "metadata": {
      "needs_background": "light"
     },
     "output_type": "display_data"
    }
   ],
   "source": [
    "# Gráfico de dispersão mostrando a relação entre 'sugarpercent', 'winpercent' e 'chocolatee'\n",
    "sns.scatterplot(x = candy_df['pricepercent'], y = candy_df['winpercent'], hue = candy_df['chocolate']);"
   ]
  },
  {
   "cell_type": "markdown",
   "metadata": {},
   "source": [
    "Você consegue ver algum padrão interessante no gráfico de dispersão? Investigaremos esse gráfico ainda mais adicionando linhas de regressão na próxima etapa!\n",
    "\n",
    "#### Passo 06: Investigando o Chocolate\n",
    "\n",
    "#### Parte A\n",
    "\n",
    "Crie o mesmo gráfico de dispersão criado na **Passo 05**, mas agora com duas linhas de regressão, correspondendo a (1) bombons de chocolate e (2) bombons sem chocolate."
   ]
  },
  {
   "cell_type": "code",
   "execution_count": 7,
   "metadata": {
    "execution": {
     "iopub.execute_input": "2021-06-02T00:16:44.688074Z",
     "iopub.status.busy": "2021-06-02T00:16:44.687667Z",
     "iopub.status.idle": "2021-06-02T00:16:45.280994Z",
     "shell.execute_reply": "2021-06-02T00:16:45.280111Z",
     "shell.execute_reply.started": "2021-06-02T00:16:44.688039Z"
    }
   },
   "outputs": [
    {
     "data": {
      "image/png": "[encoded data removed]",
      "text/plain": [
       "<Figure size 416.375x360 with 1 Axes>"
      ]
     },
     "metadata": {
      "needs_background": "light"
     },
     "output_type": "display_data"
    }
   ],
   "source": [
    "# Gráfico de dispersão codificado por cores com linhas de regressão\n",
    "sns.lmplot(x = 'pricepercent', y = 'winpercent', hue = 'chocolate', data = candy_df);"
   ]
  },
  {
   "cell_type": "markdown",
   "metadata": {},
   "source": [
    "#### Parte B\n",
    "\n",
    "Usando as linhas de regressão, que conclusões você pode tirar sobre os efeitos do chocolate e do preço na popularidade dos doces?\n",
    "\n",
    "Começaremos com a linha de regressão para bombons de chocolate. Como essa linha tem uma inclinação levemente positiva, podemos dizer que bombons de chocolate mais caros tendem a ser mais populares (do que bombons de chocolate relativamente mais baratos). Da mesma forma, como a linha de regressão para bombons sem chocolate tem inclinação negativa, podemos dizer que se bombons não contiverem chocolate, tendem a ser mais populares quando são mais baratos. Uma observação importante, no entanto, é que o conjunto de dados é muito pequeno - portanto, não devemos confiar muito nesses padrões! Para inspirar mais confiança nos resultados, **devemos adicionar mais doces ao conjunto de dados**."
   ]
  },
  {
   "cell_type": "markdown",
   "metadata": {},
   "source": [
    "#### Passo 07: Todo Mundo Ama Chocolate\n",
    "\n",
    "#### Parte A\n",
    "\n",
    "Crie um gráfico de dispersão categórico para destacar a relação entre `'chocolate'` e`' winpercent'`. Coloque `'chocolate'` no eixo x (horizontal) e`' winpercent'` no eixo y (vertical)."
   ]
  },
  {
   "cell_type": "code",
   "execution_count": 10,
   "metadata": {
    "execution": {
     "iopub.execute_input": "2021-06-02T00:19:00.973729Z",
     "iopub.status.busy": "2021-06-02T00:19:00.973183Z",
     "iopub.status.idle": "2021-06-02T00:19:01.161696Z",
     "shell.execute_reply": "2021-06-02T00:19:01.160853Z",
     "shell.execute_reply.started": "2021-06-02T00:19:00.973678Z"
    }
   },
   "outputs": [
    {
     "data": {
      "image/png": "[encoded data removed]",
      "text/plain": [
       "<Figure size 432x288 with 1 Axes>"
      ]
     },
     "metadata": {
      "needs_background": "light"
     },
     "output_type": "display_data"
    }
   ],
   "source": [
    "# Gráfico de dispersão mostrando a relação entre 'chocolate' e 'winpercent'\n",
    "sns.swarmplot(x = candy_df['chocolate'], y = candy_df['winpercent']);"
   ]
  },
  {
   "cell_type": "markdown",
   "metadata": {},
   "source": [
    "#### Parte B\n",
    "\n",
    "Você decide dedicar uma seção de seu relatório ao fato de que balas de chocolate tendem a ser mais populares do que balas sem chocolate. Qual enredo é mais apropriado para contar esta história: o gráfico do **Passo 06** ou o gráfico do **Passo 07**?\n",
    "\n",
    "Qual gráfico comunica mais informações? Em geral, é uma boa prática usar o gráfico mais simples que conte toda a história de interesse.\n",
    "\n",
    "Nesse caso, o gráfico de dispersão categórico do **Passo 07** é o gráfico mais apropriado. Embora os dois gráficos contem a história desejada, o gráfico do **Passo 06** transmite muito mais informações que podem desviar a atenção do ponto principal."
   ]
  }
 ],
 "metadata": {
  "kernelspec": {
   "display_name": "Python 3",
   "language": "python",
   "name": "python3"
  },
  "language_info": {
   "codemirror_mode": {
    "name": "ipython",
    "version": 3
   },
   "file_extension": ".py",
   "mimetype": "text/x-python",
   "name": "python",
   "nbconvert_exporter": "python",
   "pygments_lexer": "ipython3",
   "version": "3.8.3"
  }
 },
 "nbformat": 4,
 "nbformat_minor": 4
}
