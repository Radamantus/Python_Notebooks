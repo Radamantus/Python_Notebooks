{
 "cells": [
  {
   "cell_type": "markdown",
   "metadata": {},
   "source": [
    "#### Projeto para investigar as consequências e como lidar com *datasets* desbalanceados em projetos de Ciência de Dados"
   ]
  },
  {
   "cell_type": "markdown",
   "metadata": {},
   "source": [
    "#### Como Lidar com Dados Desbalanceados\n",
    "\n",
    "Saber como lidar com dados desbalanceados pode fazer toda a diferença no no seu projeto de *Data Science* e no desempenho do seu modelo de *Machine Learning*.\n",
    "\n",
    "Você provavelmente já se deparou com a situação de encontrar um *dataset* onde havia um nítido desequilíbrio entre as amostras de suas diferentes classes.\n",
    "\n",
    "Alguns exemplos de situações onde o desbalanceamento é quase certo são problemas de detecção de fraude e diagnóstico médicos - é intuitivo pensar que existem mais transações lícitas que criminosas, ou que o conjunto de pessoas diagnosticadas com câncer é bem menor que o conjunto de pessoas sem a doença.\n",
    "\n",
    "Ignorar esse fato e treinar um algoritmo em cima do conjunto de dados original, pulando uma etapa intermediária de balanceamento dos dados, pode ter impactos diretos no seu projeto de *Data Science*.\n",
    "\n",
    "#### Consequências dos Dados Desbalanceados\n",
    "\n",
    "Se você está construindo um modelo de *machine learning* para classificação, por exemplo, a consequência desse desequilíbrio é que o modelo terá uma tendência a dar muitos \"alarmes falsos\".\n",
    "\n",
    "Ou seja, na prática ele irá responder muito bem entradas para as classes majoritárias, mas terá um desempenho inferior para as minoriárias.\n",
    "\n",
    "No exemplo de detecção de fraude com cartões de crédito (onde o número de transações financeiras normais é bem maior que o número de transações fraudulentas), um classificador tenderá a apresentar muitos falsos negativos - uma situação indesejável para um banco, obviamente.\n",
    "\n",
    "Em um *trade-off*, seria preferível \"errar para mais\" e ter uma quantidade maior de falsos positivos. Aliás, aposto que você já teve seu cartão bloqueado preventivamente e teve que ligar no banco para confirmar as últimas compras que havia feito, não é mesmo?!\n",
    "\n",
    "Teoricamente, um *dataset* que possua qualquer classe com mais de 50% das entradas já é considerado desbalanceado. No entanto, há situações extremas onde você vai encontrar proporções maiores que 99:1.\n",
    "\n",
    "Existem várias abordagens para lidar com dados desbalanceados, cada uma com seus prós e contras. Neste artigo, irei mostrar alguns dos métodos mais populares para você incluir desde já no seu arsenal.\n",
    "\n",
    "#### Vantagens e Desvantagens de cada Técnica\n",
    "\n",
    "[O Teorema *No Free Lunch*](https://www.kdnuggets.com/2019/09/no-free-lunch-data-science.html) diz que não existem um perfeito e único, apenas com vantagens. Cada escolha uma renúncia, isso é *Data Science*. Quando você opta por uma abordagem, tem que estar ciente das limitações e implicações nos seus resultados -  e transmitir isso para os *stakeholders*.\n",
    "\n",
    "- *Over-sampling* replica os dados já existentes, aumentando o número de instâncias das classes minoritárias. A vantagem é que nenhuma informação é descartada, porém o custo computacional será elevado e você irá deteriorar a performance do algoritmo para as classes minoritárias.\n",
    "\n",
    "- Já o *Under-sampling* vai extrair um subconjunto aleatório da classe majoritária, preservando as características da classe minoritária, sendo ideal para situações onde você tem grandes volumes de dados. Apesar de reduzir o tempo computacional e de armazenamento, esta técnica descarta informações da classe majoritária, o que pode levar a uma performance inferior nas predições dela.\n",
    "\n",
    "Além dessas duas técnicas de *sampling*, [existem também os *advanced sampling methods*](https://towardsdatascience.com/a-deep-dive-into-imbalanced-data-over-sampling-f1167ed74b5), como SMOTE e ADASYN, onde instâncias são adicionadas ou removidas adaptativamente. \n",
    "\n",
    "Caso tenha curiosidade em conhecer mais e se aprofundar no assunto, [recomendo o este artigo científico](https://ro.uow.edu.au/cgi/viewcontent.cgi?referer=https://www.google.com/&httpsredir=1&article=1806&context=infopapers)."
   ]
  },
  {
   "cell_type": "code",
   "execution_count": 59,
   "metadata": {},
   "outputs": [],
   "source": [
    "# Importar bibliotecas necessários\n",
    "import pandas as pd\n",
    "import matplotlib.pyplot as plt\n",
    "import seaborn as sns\n",
    "import scikitplot as skplt\n",
    "\n",
    "from sklearn.metrics import ConfusionMatrixDisplay, confusion_matrix\n",
    "from sklearn.metrics import classification_report, accuracy_score, roc_auc_score\n",
    "from sklearn.model_selection import train_test_split\n",
    "from imblearn.under_sampling import RandomUnderSampler\n",
    "\n",
    "# configurar o estilo dos gráficos com o Seaborn\n",
    "sns.set_style('dark')\n",
    "\n",
    "# Suprimir os warnings\n",
    "from warnings import simplefilter\n",
    "simplefilter(action = 'ignore', category = FutureWarning)"
   ]
  },
  {
   "cell_type": "markdown",
   "metadata": {},
   "source": [
    "#### Pré-Processamento dos Dados"
   ]
  },
  {
   "cell_type": "code",
   "execution_count": 8,
   "metadata": {},
   "outputs": [
    {
     "name": "stdout",
     "output_type": "stream",
     "text": [
      "A base de dados carregada possui 768 linhas e 10 colunas.\n"
     ]
    },
    {
     "data": {
      "text/html": [
       "<div>\n",
       "<style scoped>\n",
       "    .dataframe tbody tr th:only-of-type {\n",
       "        vertical-align: middle;\n",
       "    }\n",
       "\n",
       "    .dataframe tbody tr th {\n",
       "        vertical-align: top;\n",
       "    }\n",
       "\n",
       "    .dataframe thead th {\n",
       "        text-align: right;\n",
       "    }\n",
       "</style>\n",
       "<table border=\"1\" class=\"dataframe\">\n",
       "  <thead>\n",
       "    <tr style=\"text-align: right;\">\n",
       "      <th></th>\n",
       "      <th>num_preg</th>\n",
       "      <th>glucose_conc</th>\n",
       "      <th>diastolic_bp</th>\n",
       "      <th>thickness</th>\n",
       "      <th>insulin</th>\n",
       "      <th>bmi</th>\n",
       "      <th>diab_pred</th>\n",
       "      <th>age</th>\n",
       "      <th>skin</th>\n",
       "      <th>diabetes</th>\n",
       "    </tr>\n",
       "  </thead>\n",
       "  <tbody>\n",
       "    <tr>\n",
       "      <th>0</th>\n",
       "      <td>6</td>\n",
       "      <td>148</td>\n",
       "      <td>72</td>\n",
       "      <td>35</td>\n",
       "      <td>0</td>\n",
       "      <td>33.6</td>\n",
       "      <td>0.627</td>\n",
       "      <td>50</td>\n",
       "      <td>1.3780</td>\n",
       "      <td>True</td>\n",
       "    </tr>\n",
       "    <tr>\n",
       "      <th>1</th>\n",
       "      <td>1</td>\n",
       "      <td>85</td>\n",
       "      <td>66</td>\n",
       "      <td>29</td>\n",
       "      <td>0</td>\n",
       "      <td>26.6</td>\n",
       "      <td>0.351</td>\n",
       "      <td>31</td>\n",
       "      <td>1.1426</td>\n",
       "      <td>False</td>\n",
       "    </tr>\n",
       "    <tr>\n",
       "      <th>2</th>\n",
       "      <td>8</td>\n",
       "      <td>183</td>\n",
       "      <td>64</td>\n",
       "      <td>0</td>\n",
       "      <td>0</td>\n",
       "      <td>23.3</td>\n",
       "      <td>0.672</td>\n",
       "      <td>32</td>\n",
       "      <td>0.0000</td>\n",
       "      <td>True</td>\n",
       "    </tr>\n",
       "    <tr>\n",
       "      <th>3</th>\n",
       "      <td>1</td>\n",
       "      <td>89</td>\n",
       "      <td>66</td>\n",
       "      <td>23</td>\n",
       "      <td>94</td>\n",
       "      <td>28.1</td>\n",
       "      <td>0.167</td>\n",
       "      <td>21</td>\n",
       "      <td>0.9062</td>\n",
       "      <td>False</td>\n",
       "    </tr>\n",
       "    <tr>\n",
       "      <th>4</th>\n",
       "      <td>0</td>\n",
       "      <td>137</td>\n",
       "      <td>40</td>\n",
       "      <td>35</td>\n",
       "      <td>168</td>\n",
       "      <td>43.1</td>\n",
       "      <td>2.288</td>\n",
       "      <td>33</td>\n",
       "      <td>1.3790</td>\n",
       "      <td>True</td>\n",
       "    </tr>\n",
       "    <tr>\n",
       "      <th>5</th>\n",
       "      <td>5</td>\n",
       "      <td>116</td>\n",
       "      <td>74</td>\n",
       "      <td>0</td>\n",
       "      <td>0</td>\n",
       "      <td>25.6</td>\n",
       "      <td>0.201</td>\n",
       "      <td>30</td>\n",
       "      <td>0.0000</td>\n",
       "      <td>False</td>\n",
       "    </tr>\n",
       "    <tr>\n",
       "      <th>6</th>\n",
       "      <td>3</td>\n",
       "      <td>78</td>\n",
       "      <td>50</td>\n",
       "      <td>32</td>\n",
       "      <td>88</td>\n",
       "      <td>31.0</td>\n",
       "      <td>0.248</td>\n",
       "      <td>26</td>\n",
       "      <td>1.2608</td>\n",
       "      <td>True</td>\n",
       "    </tr>\n",
       "    <tr>\n",
       "      <th>7</th>\n",
       "      <td>10</td>\n",
       "      <td>115</td>\n",
       "      <td>0</td>\n",
       "      <td>0</td>\n",
       "      <td>0</td>\n",
       "      <td>35.3</td>\n",
       "      <td>0.134</td>\n",
       "      <td>29</td>\n",
       "      <td>0.0000</td>\n",
       "      <td>False</td>\n",
       "    </tr>\n",
       "    <tr>\n",
       "      <th>8</th>\n",
       "      <td>2</td>\n",
       "      <td>197</td>\n",
       "      <td>70</td>\n",
       "      <td>45</td>\n",
       "      <td>543</td>\n",
       "      <td>30.5</td>\n",
       "      <td>0.158</td>\n",
       "      <td>53</td>\n",
       "      <td>1.7730</td>\n",
       "      <td>True</td>\n",
       "    </tr>\n",
       "    <tr>\n",
       "      <th>9</th>\n",
       "      <td>8</td>\n",
       "      <td>125</td>\n",
       "      <td>96</td>\n",
       "      <td>0</td>\n",
       "      <td>0</td>\n",
       "      <td>0.0</td>\n",
       "      <td>0.232</td>\n",
       "      <td>54</td>\n",
       "      <td>0.0000</td>\n",
       "      <td>True</td>\n",
       "    </tr>\n",
       "  </tbody>\n",
       "</table>\n",
       "</div>"
      ],
      "text/plain": [
       "   num_preg  glucose_conc  diastolic_bp  thickness  insulin   bmi  diab_pred  \\\n",
       "0         6           148            72         35        0  33.6      0.627   \n",
       "1         1            85            66         29        0  26.6      0.351   \n",
       "2         8           183            64          0        0  23.3      0.672   \n",
       "3         1            89            66         23       94  28.1      0.167   \n",
       "4         0           137            40         35      168  43.1      2.288   \n",
       "5         5           116            74          0        0  25.6      0.201   \n",
       "6         3            78            50         32       88  31.0      0.248   \n",
       "7        10           115             0          0        0  35.3      0.134   \n",
       "8         2           197            70         45      543  30.5      0.158   \n",
       "9         8           125            96          0        0   0.0      0.232   \n",
       "\n",
       "   age    skin  diabetes  \n",
       "0   50  1.3780      True  \n",
       "1   31  1.1426     False  \n",
       "2   32  0.0000      True  \n",
       "3   21  0.9062     False  \n",
       "4   33  1.3790      True  \n",
       "5   30  0.0000     False  \n",
       "6   26  1.2608      True  \n",
       "7   29  0.0000     False  \n",
       "8   53  1.7730      True  \n",
       "9   54  0.0000      True  "
      ]
     },
     "execution_count": 8,
     "metadata": {},
     "output_type": "execute_result"
    }
   ],
   "source": [
    "# Ler e carregar a base de dados\n",
    "dados = 'pima_data.csv'\n",
    "pacientes_df = pd.read_csv(dados, header = 0) # Criar dataframe\n",
    "\n",
    "# Examinar a base de dados\n",
    "linhas, colunas = pacientes_df.shape # Extrair tamanho da base de dados\n",
    "print('A base de dados carregada possui {} linhas e {} colunas.'.format(linhas, colunas)) # Apresentar informação ao usuário\n",
    "# display(pacientes_df) # Apresenta primeiras e últimas linhas da base de dados\n",
    "pacientes_df.head(10) # Visualizar as 10 primeiras linhas da base de dados\n",
    "# pacientes_df.tail(10) # Visualizar as 10 últimas linhas da base de dados"
   ]
  },
  {
   "cell_type": "code",
   "execution_count": 18,
   "metadata": {},
   "outputs": [
    {
     "data": {
      "text/html": [
       "<div>\n",
       "<style scoped>\n",
       "    .dataframe tbody tr th:only-of-type {\n",
       "        vertical-align: middle;\n",
       "    }\n",
       "\n",
       "    .dataframe tbody tr th {\n",
       "        vertical-align: top;\n",
       "    }\n",
       "\n",
       "    .dataframe thead th {\n",
       "        text-align: right;\n",
       "    }\n",
       "</style>\n",
       "<table border=\"1\" class=\"dataframe\">\n",
       "  <thead>\n",
       "    <tr style=\"text-align: right;\">\n",
       "      <th></th>\n",
       "      <th>num_preg</th>\n",
       "      <th>glucose_conc</th>\n",
       "      <th>diastolic_bp</th>\n",
       "      <th>thickness</th>\n",
       "      <th>insulin</th>\n",
       "      <th>bmi</th>\n",
       "      <th>diab_pred</th>\n",
       "      <th>age</th>\n",
       "      <th>skin</th>\n",
       "      <th>diabetes</th>\n",
       "    </tr>\n",
       "  </thead>\n",
       "  <tbody>\n",
       "    <tr>\n",
       "      <th>0</th>\n",
       "      <td>6</td>\n",
       "      <td>148</td>\n",
       "      <td>72</td>\n",
       "      <td>35</td>\n",
       "      <td>0</td>\n",
       "      <td>33.6</td>\n",
       "      <td>0.627</td>\n",
       "      <td>50</td>\n",
       "      <td>1.3780</td>\n",
       "      <td>1</td>\n",
       "    </tr>\n",
       "    <tr>\n",
       "      <th>1</th>\n",
       "      <td>1</td>\n",
       "      <td>85</td>\n",
       "      <td>66</td>\n",
       "      <td>29</td>\n",
       "      <td>0</td>\n",
       "      <td>26.6</td>\n",
       "      <td>0.351</td>\n",
       "      <td>31</td>\n",
       "      <td>1.1426</td>\n",
       "      <td>0</td>\n",
       "    </tr>\n",
       "    <tr>\n",
       "      <th>2</th>\n",
       "      <td>8</td>\n",
       "      <td>183</td>\n",
       "      <td>64</td>\n",
       "      <td>0</td>\n",
       "      <td>0</td>\n",
       "      <td>23.3</td>\n",
       "      <td>0.672</td>\n",
       "      <td>32</td>\n",
       "      <td>0.0000</td>\n",
       "      <td>1</td>\n",
       "    </tr>\n",
       "    <tr>\n",
       "      <th>3</th>\n",
       "      <td>1</td>\n",
       "      <td>89</td>\n",
       "      <td>66</td>\n",
       "      <td>23</td>\n",
       "      <td>94</td>\n",
       "      <td>28.1</td>\n",
       "      <td>0.167</td>\n",
       "      <td>21</td>\n",
       "      <td>0.9062</td>\n",
       "      <td>0</td>\n",
       "    </tr>\n",
       "    <tr>\n",
       "      <th>4</th>\n",
       "      <td>0</td>\n",
       "      <td>137</td>\n",
       "      <td>40</td>\n",
       "      <td>35</td>\n",
       "      <td>168</td>\n",
       "      <td>43.1</td>\n",
       "      <td>2.288</td>\n",
       "      <td>33</td>\n",
       "      <td>1.3790</td>\n",
       "      <td>1</td>\n",
       "    </tr>\n",
       "  </tbody>\n",
       "</table>\n",
       "</div>"
      ],
      "text/plain": [
       "   num_preg  glucose_conc  diastolic_bp  thickness  insulin   bmi  diab_pred  \\\n",
       "0         6           148            72         35        0  33.6      0.627   \n",
       "1         1            85            66         29        0  26.6      0.351   \n",
       "2         8           183            64          0        0  23.3      0.672   \n",
       "3         1            89            66         23       94  28.1      0.167   \n",
       "4         0           137            40         35      168  43.1      2.288   \n",
       "\n",
       "   age    skin  diabetes  \n",
       "0   50  1.3780         1  \n",
       "1   31  1.1426         0  \n",
       "2   32  0.0000         1  \n",
       "3   21  0.9062         0  \n",
       "4   33  1.3790         1  "
      ]
     },
     "execution_count": 18,
     "metadata": {},
     "output_type": "execute_result"
    }
   ],
   "source": [
    "# Definir as classes do problema de negócio\n",
    "diabetes_map = {True : 1, False : 0} # Mapear rótulos\n",
    "pacientes_df['diabetes'] = pacientes_df['diabetes'].map(diabetes_map) # Aplicar o mapeamento a base de dados\n",
    "pacientes_df.head(5) # Verificar as 5 primeiras linhas da base de dados para comfirmar o correto mapeamento das classes alvo"
   ]
  },
  {
   "cell_type": "code",
   "execution_count": 20,
   "metadata": {},
   "outputs": [
    {
     "name": "stdout",
     "output_type": "stream",
     "text": [
      "Número de Casos Verdadeiros (Classe 1): 268 (34.90%)\n",
      "Número de Casos Falsos (Classe 0)     : 500 (65.10%)\n",
      "Sendo assim, nossa base de dados está desbalanceada.\n",
      "\n"
     ]
    }
   ],
   "source": [
    "# Verificar a distribuição dos dados na base de dados\n",
    "# O ideal é que a distribuição seja igual entre as classes\n",
    "n_true = len(pacientes_df.loc[pacientes_df['diabetes'] == 1]) # Quantidade de rótulos da classe 1\n",
    "n_false = len(pacientes_df.loc[pacientes_df['diabetes'] == 0]) # Quantidade de rótulos da classe 0\n",
    "print('Número de Casos Verdadeiros (Classe 1): {} ({:.2%})'.format(n_true, (n_true/ (n_true + n_false))))\n",
    "print('Número de Casos Falsos (Classe 0)     : {} ({:.2%})'.format(n_false, (n_false/ (n_true + n_false))))\n",
    "print(\"Sendo assim, nossa base de dados está desbalanceada.\\n\")"
   ]
  },
  {
   "cell_type": "markdown",
   "metadata": {},
   "source": [
    "Para se ter um ideia real das consequências dessa situação, irei construir dois modelos de Regressão Logística.\n",
    "\n",
    "No nosso primeiro modelo, separei as variáveis `X` e `y` normalmente e dividi entre conjuntos de treino e teste, como é praxe em *machine learning*. Sem maiores ajustes, treinei o modelo usando o método `fit(X_train, y_train)` e fiz a previsão de valores em cima do conjunto de teste (`X_test`).\n",
    "\n",
    "Na sequência, plotei a matriz de confusão e o relatório de classificação."
   ]
  },
  {
   "cell_type": "markdown",
   "metadata": {},
   "source": [
    "#### Dividir Dados para Treinamento e Validação"
   ]
  },
  {
   "cell_type": "code",
   "execution_count": 23,
   "metadata": {},
   "outputs": [
    {
     "name": "stdout",
     "output_type": "stream",
     "text": [
      "69.92% dos dados para treinamento.\n",
      "30.08% nos dados para validação.\n"
     ]
    }
   ],
   "source": [
    "# Separar base de dados em 70% para dados de treino e 30% para dados de teste\n",
    "from sklearn.model_selection import train_test_split # Importar módulo\n",
    "\n",
    "# Seleção de variáveis preditoras (Inputs - Feature Selection)\n",
    "atributos = ['num_preg', 'glucose_conc', 'diastolic_bp', 'thickness', 'insulin', 'bmi', 'diab_pred', 'age']\n",
    "\n",
    "# Variável a ser predita (Output - Target)\n",
    "target = ['diabetes']\n",
    "\n",
    "# Criar variáveis de entrada (input) e saída (output)\n",
    "X = pacientes_df[atributos].values\n",
    "Y = pacientes_df[target].values\n",
    "\n",
    "split_test_size = 0.30 # Definir a taxa percentual de dados reservado para etapa de teste\n",
    "\n",
    "# Separar base de dados em dados de treino e dados de teste\n",
    "X_treino, X_teste, Y_treino, Y_teste = train_test_split(X, Y, test_size = split_test_size, stratify = Y,\n",
    "                                                        shuffle = True, random_state = 42)\n",
    "\n",
    "# Verificar se a base de dados foi separada corretamente\n",
    "print('{:0.2%} dos dados para treinamento.'.format((len(X_treino)/len(pacientes_df.index))))\n",
    "print('{:0.2%} nos dados para validação.'.format((len(X_teste)/len(pacientes_df.index))))"
   ]
  },
  {
   "cell_type": "markdown",
   "metadata": {},
   "source": [
    "#### Descobrir e Tratar Valores Missing (Faltantes) Ocultos na Base de Dados"
   ]
  },
  {
   "cell_type": "code",
   "execution_count": 24,
   "metadata": {},
   "outputs": [
    {
     "name": "stdout",
     "output_type": "stream",
     "text": [
      "# Linhas no dataframe: 768.\n",
      "# Linhas missing glucose_conc: 5.\n",
      "# Linhas missing diastolic_bp: 35.\n",
      "# Linhas missing thickness: 227.\n",
      "# Linhas missing insulin: 374.\n",
      "# Linhas missing bmi: 11.\n",
      "# Linhas missing age: 0.\n"
     ]
    }
   ],
   "source": [
    "# Valores que não representam a realidade corretamente, necessário analisar e conhecer bem os significados dos atributos\n",
    "print(\"# Linhas no dataframe: {0}.\".format(len(pacientes_df)))\n",
    "print(\"# Linhas missing glucose_conc: {0}.\".format(len(pacientes_df.loc[pacientes_df['glucose_conc'] == 0])))\n",
    "print(\"# Linhas missing diastolic_bp: {0}.\".format(len(pacientes_df.loc[pacientes_df['diastolic_bp'] == 0])))\n",
    "print(\"# Linhas missing thickness: {0}.\".format(len(pacientes_df.loc[pacientes_df['thickness'] == 0])))\n",
    "print(\"# Linhas missing insulin: {0}.\".format(len(pacientes_df.loc[pacientes_df['insulin'] == 0])))\n",
    "print(\"# Linhas missing bmi: {0}.\".format(len(pacientes_df.loc[pacientes_df['bmi'] == 0])))\n",
    "print(\"# Linhas missing age: {0}.\".format(len(pacientes_df.loc[pacientes_df['age'] == 0])))\n",
    "\n",
    "from sklearn.impute import SimpleImputer # Importar módulo\n",
    "# Substituir os valores iguais a zero, pela média dos dados em cada coluna\n",
    "zero_imputer = SimpleImputer(missing_values = 0, strategy = \"mean\") # Solução simples para tratar os valores faltantes\n",
    "\n",
    "# Substituindo os valores iguais a zero, pela média dos dados\n",
    "X_treino = zero_imputer.fit_transform(X_treino) # Realizar imputação nos dados de treino\n",
    "X_teste = zero_imputer.fit_transform(X_teste) # Realizar imputação nos dados de teste"
   ]
  },
  {
   "cell_type": "markdown",
   "metadata": {},
   "source": [
    "#### Modelo via Regressão Logística"
   ]
  },
  {
   "cell_type": "code",
   "execution_count": 27,
   "metadata": {},
   "outputs": [
    {
     "name": "stdout",
     "output_type": "stream",
     "text": [
      "Modelo Treinado.\n"
     ]
    }
   ],
   "source": [
    "from sklearn.linear_model import LogisticRegression # Importar classificador Logistic Regression\n",
    "from sklearn.preprocessing import MinMaxScaler # Importar método para escalonar dados dentro de um determinado intervalo\n",
    "\n",
    "scaler = MinMaxScaler() # Instanciar método para pré-processar os dados\n",
    "X_norm = scaler.fit_transform(X) # Aplicar transformação nos dados\n",
    "\n",
    "# Separar base de dados em dados de treino e dados de teste\n",
    "X_treino, X_teste, Y_treino, Y_teste = train_test_split(X_norm, Y, test_size = split_test_size, random_state = 42)\n",
    "\n",
    "modelo_v1 = LogisticRegression(C = 0.7, random_state = 42, max_iter = 1000) # Criar o modelo\n",
    "modelo_v1.fit(X_treino, Y_treino.ravel()) # Treinar o modelo\n",
    "print('Modelo Treinado.')"
   ]
  },
  {
   "cell_type": "code",
   "execution_count": 33,
   "metadata": {},
   "outputs": [
    {
     "name": "stdout",
     "output_type": "stream",
     "text": [
      "Precisão nos dados de teste (Accuracy): 76.19%\n"
     ]
    }
   ],
   "source": [
    "# Verificar a Acurácia no Modelo nos Dados de Teste\n",
    "lr_predict_test = modelo_v1.predict(X_teste) # Predizer saídas usando os dados de validação\n",
    "print(\"Precisão nos dados de teste (Accuracy): {0:.2%}\".format(accuracy_score(Y_teste, lr_predict_test)))"
   ]
  },
  {
   "cell_type": "code",
   "execution_count": 41,
   "metadata": {},
   "outputs": [
    {
     "name": "stdout",
     "output_type": "stream",
     "text": [
      "AUC nos dados de teste: 71.21%\n",
      "\n"
     ]
    }
   ],
   "source": [
    "# Verificar a AUC (Area Under Curve - Área Sob a Curva)\n",
    "print(\"AUC nos dados de teste: {:.2%}\\n\".format(roc_auc_score(Y_teste, lr_predict_test)))"
   ]
  },
  {
   "cell_type": "code",
   "execution_count": 38,
   "metadata": {},
   "outputs": [
    {
     "data": {
      "image/png": "[encoded data removed]",
      "text/plain": [
       "<Figure size 432x288 with 2 Axes>"
      ]
     },
     "metadata": {},
     "output_type": "display_data"
    }
   ],
   "source": [
    "# Criar uma Confusion Matrix (Matriz de Confusão)\n",
    "cm = confusion_matrix(Y_teste, lr_predict_test, labels = modelo_v1.classes_, normalize = 'true')\n",
    "disp = ConfusionMatrixDisplay(confusion_matrix = cm, display_labels = modelo_v1.classes_)\n",
    "disp.plot(), plt.show();"
   ]
  },
  {
   "cell_type": "code",
   "execution_count": 36,
   "metadata": {},
   "outputs": [
    {
     "name": "stdout",
     "output_type": "stream",
     "text": [
      "Classification Report\n",
      "              precision    recall  f1-score   support\n",
      "\n",
      "           0     0.7857    0.8742    0.8276       151\n",
      "           1     0.6984    0.5500    0.6154        80\n",
      "\n",
      "    accuracy                         0.7619       231\n",
      "   macro avg     0.7421    0.7121    0.7215       231\n",
      "weighted avg     0.7555    0.7619    0.7541       231\n",
      "\n"
     ]
    }
   ],
   "source": [
    "print(\"Classification Report\") # Relatório sobre as classificações realizadas na base de teste\n",
    "print(classification_report(Y_teste, lr_predict_test, labels = modelo_v1.classes_, digits = 4)) # Apresentar ao usuário"
   ]
  },
  {
   "cell_type": "markdown",
   "metadata": {},
   "source": [
    "Conseguimos uma acurácia de 76,19% no nosso modelo de *machine learning*. **Você considera esse um bom resultado?**\n",
    "\n",
    "Bem,  acurácia global foi alta, mas o que dizer daquele fator que mais importava para nós, a **capacidade de detectar pessoas com diabetes?**\n",
    "\n",
    "Aí é outra história... por causa do desbalanceamento de dados, o modelo foi capaz de classificar bem as instâncias onde `pacientes_df.diabetes == 0` (pessoas sadias), mas acertou somente 55% dos casos em que `pacientes_df.diabetes == 1` (pessoas infermas).\n",
    "\n",
    "Vamos ver agora qual seria o resultado caso tivessemos usado a técnica ***Under-sampling***. Para facilitar esse pré-processamento, irei usar a biblioteca `imblearn` com sua classe `imblearn.under_sampling.RandomUnderSampler` e chamar o método `fit_sample(X_train, y_train)`.\n",
    "\n",
    "Note como eu estou usando o *under-sampling* em cima do conjunto de treino, e não de todos os dados. Isso é muito importante para não desconfigurarmos a característica de teste original do *dataset*."
   ]
  },
  {
   "cell_type": "code",
   "execution_count": 53,
   "metadata": {},
   "outputs": [
    {
     "name": "stdout",
     "output_type": "stream",
     "text": [
      "0    188\n",
      "1    188\n",
      "dtype: int64\n"
     ]
    }
   ],
   "source": [
    "# Usar Técnica Under-sampling\n",
    "rus = RandomUnderSampler()\n",
    "X_res, Y_res = rus.fit_resample(X_treino, Y_treino) # Balancear a base de dados\n",
    "\n",
    "# Conferir o Balanceamento das Classes\n",
    "print(pd.DataFrame(y_res).value_counts())"
   ]
  },
  {
   "cell_type": "markdown",
   "metadata": {},
   "source": [
    "O novo conjunto está corretamente balanceado agora, eliminando boa parte do problema que tínhamos inicialmente. Novamente, irei instanciar um novo modelo de Regressão Logística e treiná-lo nesses dados balanceados. Vamos conferir as métricas de avaliação usadas e ver o que mudou."
   ]
  },
  {
   "cell_type": "code",
   "execution_count": 54,
   "metadata": {},
   "outputs": [
    {
     "name": "stdout",
     "output_type": "stream",
     "text": [
      "Modelo Treinado.\n"
     ]
    }
   ],
   "source": [
    "modelo_v2 = LogisticRegression(C = 0.7, random_state = 42, max_iter = 1000) # Criar o modelo\n",
    "modelo_v2.fit(X_res, Y_res.ravel()) # Treinar o modelo\n",
    "print('Modelo Treinado.')"
   ]
  },
  {
   "cell_type": "code",
   "execution_count": 55,
   "metadata": {},
   "outputs": [
    {
     "name": "stdout",
     "output_type": "stream",
     "text": [
      "Precisão nos dados de teste (Accuracy): 70.56%\n"
     ]
    }
   ],
   "source": [
    "# Verificar a Acurácia no Modelo nos Dados de Teste\n",
    "lr_predict_test = modelo_v2.predict(X_teste) # Predizer saídas usando os dados de validação\n",
    "print(\"Precisão nos dados de teste (Accuracy): {0:.2%}\".format(accuracy_score(Y_teste, lr_predict_test)))"
   ]
  },
  {
   "cell_type": "code",
   "execution_count": 56,
   "metadata": {},
   "outputs": [
    {
     "name": "stdout",
     "output_type": "stream",
     "text": [
      "AUC nos dados de teste: 69.84%\n",
      "\n"
     ]
    }
   ],
   "source": [
    "# Verificar a AUC (Area Under Curve - Área Sob a Curva)\n",
    "print(\"AUC nos dados de teste: {:.2%}\\n\".format(roc_auc_score(Y_teste, lr_predict_test)))"
   ]
  },
  {
   "cell_type": "code",
   "execution_count": 57,
   "metadata": {},
   "outputs": [
    {
     "data": {
      "image/png": "[encoded data removed]",
      "text/plain": [
       "<Figure size 432x288 with 2 Axes>"
      ]
     },
     "metadata": {},
     "output_type": "display_data"
    }
   ],
   "source": [
    "# Criar uma Confusion Matrix (Matriz de Confusão)\n",
    "cm = confusion_matrix(Y_teste, lr_predict_test, labels = modelo_v2.classes_, normalize = 'true')\n",
    "disp = ConfusionMatrixDisplay(confusion_matrix = cm, display_labels = modelo_v2.classes_)\n",
    "disp.plot(), plt.show();"
   ]
  },
  {
   "cell_type": "code",
   "execution_count": 58,
   "metadata": {},
   "outputs": [
    {
     "name": "stdout",
     "output_type": "stream",
     "text": [
      "Classification Report\n",
      "              precision    recall  f1-score   support\n",
      "\n",
      "           0     0.8074    0.7219    0.7622       151\n",
      "           1     0.5625    0.6750    0.6136        80\n",
      "\n",
      "    accuracy                         0.7056       231\n",
      "   macro avg     0.6850    0.6984    0.6879       231\n",
      "weighted avg     0.7226    0.7056    0.7108       231\n",
      "\n"
     ]
    }
   ],
   "source": [
    "print(\"Classification Report\") # Relatório sobre as classificações realizadas na base de teste\n",
    "print(classification_report(Y_teste, lr_predict_test, labels = modelo_v2.classes_, digits = 4)) # Apresentar ao usuário"
   ]
  },
  {
   "cell_type": "markdown",
   "metadata": {},
   "source": [
    "Repare que apesar da acurácia global ter diminuído de 76,19% para 70,56%, tivemos um aumento significativo na capacidade do modelo em detectar pacientes diabéticos (percetual de acertos subiu de 55% para 68%. Apenas pelo fato de balancearmos os dados, melhoramos diversos parâmetros como `recall` e quase não alteramos área sob a curva (AUC), que são métricas extremamente importantes para o problema que estamos lidando."
   ]
  },
  {
   "cell_type": "markdown",
   "metadata": {},
   "source": [
    "#### Balanceamento de Dados no Mundo Real\n",
    "\n",
    "São diversos os motivos que permitem que os dados sejam desbalanceados. Pode ser que o cientista de dados não conseguiu coletar igualmente dados de cada classe, ou pode ser que a amostra realmente reflita a população.\n",
    "\n",
    "Independente dos motivos, o não tratamente desse desbalanceamento afeta negativamente o desempenho do modelo, refletindo na qualidade global do seu projeto de *Data Science*.\n",
    "\n",
    "Não existe um método universal e ótimo. Existem técnicas que evoluem constantemente, e cabe a você (cientista de dados) identificar os prós e contras de cada uma e experimentar as mais diversas abordagens (experimentação).\n",
    "\n",
    "Por isso, recomendo não acompanhar apenas sites como o Kaggle, mas também acompanhar *papers* e trabalhos acadêmicos que tragam pesquisas recentes nessa área em constante evolução."
   ]
  }
 ],
 "metadata": {
  "kernelspec": {
   "display_name": "Python 3",
   "language": "python",
   "name": "python3"
  },
  "language_info": {
   "codemirror_mode": {
    "name": "ipython",
    "version": 3
   },
   "file_extension": ".py",
   "mimetype": "text/x-python",
   "name": "python",
   "nbconvert_exporter": "python",
   "pygments_lexer": "ipython3",
   "version": "3.8.3"
  }
 },
 "nbformat": 4,
 "nbformat_minor": 4
}
