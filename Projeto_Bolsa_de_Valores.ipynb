{
 "cells": [
  {
   "cell_type": "code",
   "execution_count": 1,
   "metadata": {},
   "outputs": [
    {
     "data": {
      "text/html": [
       "<div>\n",
       "<style scoped>\n",
       "    .dataframe tbody tr th:only-of-type {\n",
       "        vertical-align: middle;\n",
       "    }\n",
       "\n",
       "    .dataframe tbody tr th {\n",
       "        vertical-align: top;\n",
       "    }\n",
       "\n",
       "    .dataframe thead th {\n",
       "        text-align: right;\n",
       "    }\n",
       "</style>\n",
       "<table border=\"1\" class=\"dataframe\">\n",
       "  <thead>\n",
       "    <tr style=\"text-align: right;\">\n",
       "      <th></th>\n",
       "      <th>High</th>\n",
       "      <th>Low</th>\n",
       "      <th>Open</th>\n",
       "      <th>Close</th>\n",
       "      <th>Volume</th>\n",
       "      <th>Adj Close</th>\n",
       "    </tr>\n",
       "    <tr>\n",
       "      <th>Date</th>\n",
       "      <th></th>\n",
       "      <th></th>\n",
       "      <th></th>\n",
       "      <th></th>\n",
       "      <th></th>\n",
       "      <th></th>\n",
       "    </tr>\n",
       "  </thead>\n",
       "  <tbody>\n",
       "    <tr>\n",
       "      <th>2020-05-20</th>\n",
       "      <td>53.669998</td>\n",
       "      <td>52.500000</td>\n",
       "      <td>53.369999</td>\n",
       "      <td>52.500000</td>\n",
       "      <td>27014500.0</td>\n",
       "      <td>48.221073</td>\n",
       "    </tr>\n",
       "    <tr>\n",
       "      <th>2020-05-21</th>\n",
       "      <td>52.660000</td>\n",
       "      <td>50.369999</td>\n",
       "      <td>52.290001</td>\n",
       "      <td>51.130001</td>\n",
       "      <td>41802300.0</td>\n",
       "      <td>46.962734</td>\n",
       "    </tr>\n",
       "    <tr>\n",
       "      <th>2020-05-22</th>\n",
       "      <td>51.099998</td>\n",
       "      <td>49.900002</td>\n",
       "      <td>50.770000</td>\n",
       "      <td>50.270000</td>\n",
       "      <td>23933600.0</td>\n",
       "      <td>46.172825</td>\n",
       "    </tr>\n",
       "    <tr>\n",
       "      <th>2020-05-25</th>\n",
       "      <td>51.680000</td>\n",
       "      <td>49.919998</td>\n",
       "      <td>51.410000</td>\n",
       "      <td>50.099998</td>\n",
       "      <td>21162000.0</td>\n",
       "      <td>46.016682</td>\n",
       "    </tr>\n",
       "    <tr>\n",
       "      <th>2020-05-26</th>\n",
       "      <td>50.520000</td>\n",
       "      <td>48.840000</td>\n",
       "      <td>50.380001</td>\n",
       "      <td>49.200001</td>\n",
       "      <td>28917800.0</td>\n",
       "      <td>45.190037</td>\n",
       "    </tr>\n",
       "    <tr>\n",
       "      <th>2020-05-27</th>\n",
       "      <td>50.830002</td>\n",
       "      <td>48.779999</td>\n",
       "      <td>49.840000</td>\n",
       "      <td>50.639999</td>\n",
       "      <td>31932100.0</td>\n",
       "      <td>46.512669</td>\n",
       "    </tr>\n",
       "    <tr>\n",
       "      <th>2020-05-28</th>\n",
       "      <td>51.650002</td>\n",
       "      <td>50.049999</td>\n",
       "      <td>51.000000</td>\n",
       "      <td>50.090000</td>\n",
       "      <td>23530900.0</td>\n",
       "      <td>46.007500</td>\n",
       "    </tr>\n",
       "    <tr>\n",
       "      <th>2020-05-29</th>\n",
       "      <td>53.000000</td>\n",
       "      <td>51.060001</td>\n",
       "      <td>51.400002</td>\n",
       "      <td>53.000000</td>\n",
       "      <td>92646300.0</td>\n",
       "      <td>48.680321</td>\n",
       "    </tr>\n",
       "  </tbody>\n",
       "</table>\n",
       "</div>"
      ],
      "text/plain": [
       "                 High        Low       Open      Close      Volume  Adj Close\n",
       "Date                                                                         \n",
       "2020-05-20  53.669998  52.500000  53.369999  52.500000  27014500.0  48.221073\n",
       "2020-05-21  52.660000  50.369999  52.290001  51.130001  41802300.0  46.962734\n",
       "2020-05-22  51.099998  49.900002  50.770000  50.270000  23933600.0  46.172825\n",
       "2020-05-25  51.680000  49.919998  51.410000  50.099998  21162000.0  46.016682\n",
       "2020-05-26  50.520000  48.840000  50.380001  49.200001  28917800.0  45.190037\n",
       "2020-05-27  50.830002  48.779999  49.840000  50.639999  31932100.0  46.512669\n",
       "2020-05-28  51.650002  50.049999  51.000000  50.090000  23530900.0  46.007500\n",
       "2020-05-29  53.000000  51.060001  51.400002  53.000000  92646300.0  48.680321"
      ]
     },
     "metadata": {},
     "output_type": "display_data"
    }
   ],
   "source": [
    "# Importando bibliotecas necessárias\n",
    "import numpy as np\n",
    "import pandas as pd\n",
    "from pandas_datareader import data as web\n",
    "import matplotlib.pyplot as plt\n",
    "\n",
    "# Histórico de cotação da ação VALE3 na Bolsa de Valores\n",
    "data_inicial = \"05/20/2020\"\n",
    "data_final = \"05/20/2021\"\n",
    "df = web.DataReader('VALE3.SA', data_source = 'yahoo', start = data_inicial, end = data_final) # Busca informação na internet\n",
    "display(df.head(8)) # Apresenta tabela para o usuário\n",
    "dias = np.linspace(0, len(df), len(df)) # Dias de cotação\n",
    "df.to_excel(\"Bolsa de Valores.xlsx\", sheet_name = 'VALE3', index = True) # Salva arquivo excel no computador"
   ]
  },
  {
   "cell_type": "code",
   "execution_count": 2,
   "metadata": {},
   "outputs": [
    {
     "data": {
      "image/png": "[encoded data removed]",
      "text/plain": [
       "<Figure size 720x360 with 1 Axes>"
      ]
     },
     "metadata": {
      "needs_background": "light"
     },
     "output_type": "display_data"
    }
   ],
   "source": [
    "# Configurações do gráfico da cotação da ação VALE3 na Bolsa de Valores\n",
    "fig, ax = plt.subplots(figsize = (10, 5))\n",
    "ax.plot(dias, df['Adj Close'], label = 'VALE3')\n",
    "ax.set(xlabel = 'TEMPO (DIAS)', ylabel = 'REAL BRASILEIRO (R$)', title = 'COTAÇÃO DA VALE3')\n",
    "ax.grid(True, linestyle = '-.')\n",
    "ax.tick_params(labelcolor = 'r', labelsize = 'large', width = 3)\n",
    "fig.savefig('Cotação VALE3.png', dpi = 300) # Salva a figura no computador\n",
    "ax.legend() # Legenda da figura\n",
    "plt.show() #  Apresenta a figura para o usuário"
   ]
  },
  {
   "cell_type": "code",
   "execution_count": 19,
   "metadata": {},
   "outputs": [
    {
     "name": "stdout",
     "output_type": "stream",
     "text": [
      "A cotação do dólar hoje 2021-05-20 18:00:08 é R$5.2823.\n",
      "A cotação do dólar hoje (2021-05-20 18:00:08) é R$5.2823.\n"
     ]
    }
   ],
   "source": [
    "# Importando bibliotecas necessárias\n",
    "import requests\n",
    "\n",
    "request = requests.get('https://economia.awesomeapi.com.br/all/USD-BRL') # Busca informação na internet\n",
    "quotation = request.json() # Desserialização do retorno da API\n",
    "dolar = float(quotation['USD']['bid']) # Última cotação do dólar\n",
    "dolar_date = quotation['USD']['create_date']\n",
    "print('A cotação do dólar hoje ' + quotation['USD']['create_date'],'é R$' + quotation['USD']['bid'] +'.')\n",
    "print('A cotação do dólar hoje ({}) é R${:.5}.'.format(dolar_date, dolar)) # Mostra para o usuário"
   ]
  },
  {
   "cell_type": "code",
   "execution_count": 4,
   "metadata": {},
   "outputs": [
    {
     "name": "stdout",
     "output_type": "stream",
     "text": [
      "As ações da Empresa Vale valorizaram 130.42% nos últimos 247 dias úteis.\n",
      "Sendo cotada a R$111.11 no último pregão da bolsa de valores (05/20/2021).\n"
     ]
    }
   ],
   "source": [
    "# Cálculo de métricas\n",
    "vale3_first = df.iloc[0]['Adj Close'] # Primeira cotação da ação VALE3\n",
    "vale3_last = df.iloc[246]['Adj Close'] # Última cotação da ação VALE3\n",
    "crescimento = vale3_last / vale3_first - 1 # Crescimento percentual\n",
    "print('As ações da Empresa Vale valorizaram {:.2%} nos últimos {} dias úteis.'.format(crescimento, len(dias)))\n",
    "print('Sendo cotada a R${} no último pregão da bolsa de valores ({}).'.format(round(vale3_last,2), data_final))"
   ]
  },
  {
   "cell_type": "code",
   "execution_count": 20,
   "metadata": {},
   "outputs": [
    {
     "name": "stdout",
     "output_type": "stream",
     "text": [
      "E-mail enviado com sucesso.\n"
     ]
    }
   ],
   "source": [
    "# Importando bibliotecas necessárias\n",
    "import win32com.client as win32\n",
    "\n",
    "outlook = win32.Dispatch('outlook.application') # Criar a integração com o outlook\n",
    "email = outlook.CreateItem(0) # Criar um e-mail\n",
    "\n",
    "# configurar as informações do seu e-mail\n",
    "email.To = \"luis.mesquita.castro@gmail.com\"\n",
    "email.Subject = \"Cotação de Ações: E-mail Automático via Python\"\n",
    "email.HTMLBody = \"\"\"\n",
    "<p>Olá Luís Augusto, aqui é o seu código Python!</p>\n",
    "\n",
    "<p>As ações da Empresa Vale valorizaram {:.2%} nos últimos {} dias úteis.</p>\n",
    "<p>Sendo cotada a R${} no último pregão da bolsa de valores ({}).</p>\n",
    "\n",
    "<p>Por fim, a cotação do dólar hoje ({}) é R${:.5}.<p>\n",
    "\n",
    "<p>Cordialmente,</p>\n",
    "<p>Código Python Bolsa de Valores.</p>\n",
    "\"\"\".format(crescimento, len(dias), round(vale3_last,2), data_final, dolar_date, dolar)\n",
    "\n",
    "anexo01 = 'C://Users/luism/Google Drive/Python Arquivos/Jupyter Exemplos/Bolsa de Valores.xlsx'\n",
    "email.Attachments.Add(anexo01) # Anexar arquivo ao e-mail\n",
    "anexo02 = 'C://Users/luism/Google Drive/Python Arquivos/Jupyter Exemplos/Cotação VALE3.png'\n",
    "email.Attachments.Add(anexo02) # Anexar arquivo ao e-mail\n",
    "\n",
    "email.Send() # Enviar o e-mail\n",
    "print(\"E-mail enviado com sucesso.\") # Apresenta para o usuário que o e-mail foi enviado"
   ]
  }
 ],
 "metadata": {
  "kernelspec": {
   "display_name": "Python 3",
   "language": "python",
   "name": "python3"
  },
  "language_info": {
   "codemirror_mode": {
    "name": "ipython",
    "version": 3
   },
   "file_extension": ".py",
   "mimetype": "text/x-python",
   "name": "python",
   "nbconvert_exporter": "python",
   "pygments_lexer": "ipython3",
   "version": "3.8.3"
  }
 },
 "nbformat": 4,
 "nbformat_minor": 4
}
