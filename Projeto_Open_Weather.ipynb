{
 "cells": [
  {
   "cell_type": "markdown",
   "metadata": {},
   "source": [
    "#### Informações sobre o Clima em Capitais Brasileiras de Diferentes Regiões do País Extraídas da API Open Weather\n",
    "\n",
    "#### Para mais informações, acesse o site Open Weather: https://openweathermap.org"
   ]
  },
  {
   "cell_type": "code",
   "execution_count": 17,
   "metadata": {},
   "outputs": [
    {
     "name": "stdout",
     "output_type": "stream",
     "text": [
      "Selecione uma região do Brasil para saber as informações sobre o clima.\n",
      "1-Norte/2-Nordeste/3-Centro-Oeste/4-Sudeste/5-Sul/6-Todas: 6\n",
      "Belém: 29 °C (Nuvens dispersas).\n",
      "Manaus: 29 °C (Nuvens dispersas).\n",
      "Boa Vista: 30 °C (Nublado).\n",
      "Macapá: 32 °C (Nublado).\n",
      "Rio Branco: 26 °C (Nuvens dispersas).\n",
      "Porto Velho: 26 °C (Chuva leve).\n",
      "Palmas: 27 °C (Nublado).\n",
      "São Luís: 31 °C (Nublado).\n",
      "Recife: 31 °C (Nuvens dispersas).\n",
      "Fortaleza: 30 °C (Nublado).\n",
      "Maceió: 32 °C (Nublado).\n",
      "Salvador: 28 °C (Chuva moderada).\n",
      "Aracaju: 32 °C (Algumas nuvens).\n",
      "Natal: 30 °C (Nublado).\n",
      "Teresina: 30 °C (Nuvens dispersas).\n",
      "João Pessoa: 31 °C (Nublado).\n",
      "Brasília: 33 °C (Nublado).\n",
      "Goiânia: 26 °C (Nublado).\n",
      "Cuiabá: 30 °C (Nublado).\n",
      "Campo Grande: 30 °C (Nuvens dispersas).\n",
      "São Paulo: 25 °C (Nuvens dispersas).\n",
      "Rio de Janeiro: 26 °C (Nublado).\n",
      "Belo Horizonte: 32 °C (Nublado).\n",
      "Vitória: 26 °C (Nublado).\n",
      "Curitiba: 24 °C (Algumas nuvens).\n",
      "Florianópolis: 27 °C (Algumas nuvens).\n",
      "Porto Alegre: 31 °C (Céu limpo).\n"
     ]
    }
   ],
   "source": [
    "# Importar bibliotecas necessárias\n",
    "import requests\n",
    "\n",
    "# Chave API criada para a Open Weather\n",
    "# Informção sensível, manter em segurança\n",
    "with open('open_weather.txt','r') as arquivo:\n",
    "    token = arquivo.read()\n",
    "\n",
    "print('Selecione uma região do Brasil para saber as informações sobre o clima.') # Apresenta ao usuário\n",
    "selection = int(input('1-Norte/2-Nordeste/3-Centro-Oeste/4-Sudeste/5-Sul/6-Todas: '))\n",
    "\n",
    "# norte = ['Belém', 'Manaus', 'Boa Vista', 'Macapá', 'Rio Branco', 'Porto Velho', 'Palmas']\n",
    "# nordeste = ['São Luís', 'Recife', 'Fortaleza', 'Maceió', 'Salvador', 'Aracaju', 'Natal', 'Teresina', 'João Pessoa']\n",
    "# centro_oeste = ['Brasília', 'Goiânia', 'Cuiabá', 'Campo Grande']\n",
    "# sudeste = ['São Paulo', 'Rio de Janeiro', 'Belo Horizonte', 'Vitória']\n",
    "# sul = ['Curitiba', 'Florianópolis', 'Porto Alegre']\n",
    "\n",
    "# Criar dicionários para cada região do Brasil com o nomde da cidade e o código da cidade na API Open Weather\n",
    "norte = {'Belém':'3405870',\n",
    "         'Manaus':'3663517',\n",
    "         'Boa Vista':'3664980',\n",
    "         'Macapá':'3396016',\n",
    "         'Rio Branco':'3662574',\n",
    "         'Porto Velho':'3662762',\n",
    "         'Palmas':'3474574'} # Capitais da Região Norte\n",
    "\n",
    "nordeste = {'São Luís':'3388368',\n",
    "            'Recife':'3390760',\n",
    "            'Fortaleza':'3399415',\n",
    "            'Maceió':'6320645',\n",
    "            'Salvador':'6321026',\n",
    "            'Aracaju':'3471872',\n",
    "            'Natal':'3394023',\n",
    "            'Teresina':'3386496',\n",
    "            'João Pessoa':'3397277'} # Capitais da Região Nordeste\n",
    "\n",
    "centro_oeste = {'Brasília':'3410315',\n",
    "                'Goiânia':'3462377',\n",
    "                'Cuiabá':'3465038',\n",
    "                'Campo Grande':'3467747'} # Capitais da Região Centro-Oeste\n",
    "\n",
    "sudeste = {'São Paulo':'3448439',\n",
    "           'Rio de Janeiro':'3451190',\n",
    "           'Belo Horizonte':'3405814',\n",
    "           'Vitória':'3444924'} # Capitais da Região Sudeste\n",
    "\n",
    "sul = {'Curitiba':'3464975',\n",
    "       'Florianópolis':'6323121',\n",
    "       'Porto Alegre':'3452925'} # Capitais da Região Sul\n",
    "\n",
    "# Condicional para seleção das capitais brasileiras de acordo com a região\n",
    "if selection == 1:\n",
    "    cidades = norte\n",
    "elif selection == 2:\n",
    "    cidades = nordeste\n",
    "elif selection == 3:\n",
    "    cidades = centro_oeste\n",
    "elif selection == 4:\n",
    "    cidades = sudeste\n",
    "elif selection == 5:\n",
    "    cidades = sul\n",
    "elif selection == 6:\n",
    "    norte.update(nordeste)\n",
    "    norte.update(centro_oeste)\n",
    "    norte.update(sudeste)\n",
    "    norte.update(sul)\n",
    "    brasil = norte\n",
    "    cidades = brasil # Capitais de todas as 5 regiões brasileiras\n",
    "else:\n",
    "    print('Seleção inválida! Escolha uma das 6 opçoes disponíveis.')\n",
    "\n",
    "for cidade_nome, cidade_id in cidades.items(): # Laço para saber informações climáticas de cada cidade na lista de cidades\n",
    "    link = f\"https://api.openweathermap.org/data/2.5/weather?id={cidade_id}&appid={token}&units=metric&lang=pt_br\" # Link para solicitar requisição\n",
    "    request = requests.get(link) # Realizar a requisição\n",
    "    r = request.json() # Desserialização do retorno da API\n",
    "    descricao = r['weather'][0]['description'] # Acessar descrição do clima\n",
    "    temperatura = r['main']['temp'] # Acessar temperatura\n",
    "    print(f'{cidade_nome}:', '{0:.0f} °C'.format(temperatura), f'({descricao.capitalize()}).') # Disponibilizar informação para o usuário"
   ]
  },
  {
   "cell_type": "code",
   "execution_count": 18,
   "metadata": {},
   "outputs": [
    {
     "name": "stdout",
     "output_type": "stream",
     "text": [
      "{'coord': {'lon': -51.23, 'lat': -30.0331}, 'weather': [{'id': 800, 'main': 'Clear', 'description': 'céu limpo', 'icon': '01d'}], 'base': 'stations', 'main': {'temp': 30.55, 'feels_like': 32.84, 'temp_min': 29.75, 'temp_max': 32.72, 'pressure': 1011, 'humidity': 55}, 'visibility': 10000, 'wind': {'speed': 2.57, 'deg': 70}, 'clouds': {'all': 0}, 'dt': 1644677604, 'sys': {'type': 2, 'id': 2021802, 'country': 'BR', 'sunrise': 1644656577, 'sunset': 1644704133}, 'timezone': -10800, 'id': 3452925, 'name': 'Porto Alegre', 'cod': 200}\n"
     ]
    }
   ],
   "source": [
    "print(r) # Visualizar informações disponibilizadas em cada chamada da API"
   ]
  }
 ],
 "metadata": {
  "kernelspec": {
   "display_name": "Python 3",
   "language": "python",
   "name": "python3"
  },
  "language_info": {
   "codemirror_mode": {
    "name": "ipython",
    "version": 3
   },
   "file_extension": ".py",
   "mimetype": "text/x-python",
   "name": "python",
   "nbconvert_exporter": "python",
   "pygments_lexer": "ipython3",
   "version": "3.8.3"
  }
 },
 "nbformat": 4,
 "nbformat_minor": 4
}
