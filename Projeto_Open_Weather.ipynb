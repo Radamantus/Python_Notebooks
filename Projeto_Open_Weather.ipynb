{
 "cells": [
  {
   "cell_type": "markdown",
   "metadata": {},
   "source": [
    "#### Informações sobre o Clima em Capitais Brasileiras de Diferentes Regiões do País Extraídas da API Open Weather\n",
    "\n",
    "#### Para mais informações, acesse o site Open Weather: https://openweathermap.org"
   ]
  },
  {
   "cell_type": "code",
   "execution_count": 65,
   "metadata": {},
   "outputs": [
    {
     "name": "stdout",
     "output_type": "stream",
     "text": [
      "Selecione uma região do Brasil para saber as informações sobre o clima.\n",
      "1-Norte/2-Nordeste/3-Centro-Oeste/4-Sudeste/5-Sul/6-Todas: 6\n",
      "Belém: 29 °C (Nublado).\n",
      "Manaus: 25 °C (Chuva forte).\n",
      "Boa Vista: 32 °C (Algumas nuvens).\n",
      "Macapá: 26 °C (Nublado).\n",
      "Rio Branco: 30 °C (Nuvens dispersas).\n",
      "Porto Velho: 29 °C (Nublado).\n",
      "Palmas: 29 °C (Nuvens dispersas).\n",
      "São Luís: 31 °C (Nuvens dispersas).\n",
      "Recife: 31 °C (Algumas nuvens).\n",
      "Fortaleza: 30 °C (Nublado).\n",
      "Maceió: 33 °C (Nublado).\n",
      "Salvador: 24 °C (Algumas nuvens).\n",
      "Aracaju: 31 °C (Algumas nuvens).\n",
      "Natal: 31 °C (Nuvens dispersas).\n",
      "Teresina: 31 °C (Nuvens dispersas).\n",
      "João Pessoa: 32 °C (Nublado).\n",
      "Brasília: 21 °C (Nublado).\n",
      "Goiânia: 25 °C (Nublado).\n",
      "Cuiabá: 26 °C (Chuva leve).\n",
      "Campo Grande: 31 °C (Nuvens dispersas).\n",
      "São Paulo: 23 °C (Nublado).\n",
      "Rio de Janeiro: 26 °C (Chuva leve).\n",
      "Belo Horizonte: 25 °C (Nublado).\n",
      "Vitória: 26 °C (Nublado).\n",
      "Curitiba: 24 °C (Algumas nuvens).\n",
      "Florianópolis: 28 °C (Nuvens dispersas).\n",
      "Porto Alegre: 31 °C (Algumas nuvens).\n"
     ]
    }
   ],
   "source": [
    "# Importar bibliotecas necessárias\n",
    "import requests\n",
    "\n",
    "# Chave API criada para a Open Weather\n",
    "# Informção sensível, manter em segurança\n",
    "with open('open_weather.txt','r') as arquivo:\n",
    "    token = arquivo.read()\n",
    "\n",
    "print('Selecione uma região do Brasil para saber as informações sobre o clima.') # Apresenta ao usuário\n",
    "selection = int(input('1-Norte/2-Nordeste/3-Centro-Oeste/4-Sudeste/5-Sul/6-Todas: '))\n",
    "\n",
    "norte = ['Belém', 'Manaus', 'Boa Vista', 'Macapá', 'Rio Branco', 'Porto Velho', 'Palmas'] # Capitais da Região Norte\n",
    "nordeste = ['São Luís', 'Recife', 'Fortaleza', 'Maceió', 'Salvador', 'Aracaju', 'Natal', 'Teresina', 'João Pessoa'] # Capitais da Região Nordeste\n",
    "centro_oeste = ['Brasília', 'Goiânia', 'Cuiabá', 'Campo Grande'] # Capitais da Região Centro-Oeste\n",
    "sudeste = ['São Paulo', 'Rio de Janeiro', 'Belo Horizonte', 'Vitória'] # Capitais da Região Sudeste\n",
    "sul = ['Curitiba', 'Florianópolis', 'Porto Alegre']# Capitais da Região Sul\n",
    "\n",
    "# Condicional para seleção das capitais brasileiras de acordo com a região\n",
    "if selection == 1:\n",
    "    cidades = norte\n",
    "elif selection == 2:\n",
    "    cidades = nordeste\n",
    "elif selection == 3:\n",
    "    cidades = centro_oeste\n",
    "elif selection == 4:\n",
    "    cidades = sudeste\n",
    "elif selection == 5:\n",
    "    cidades = sul\n",
    "elif selection == 6:\n",
    "    norte.extend(nordeste)\n",
    "    norte.extend(centro_oeste)\n",
    "    norte.extend(sudeste)\n",
    "    norte.extend(sul)\n",
    "    brasil = norte\n",
    "    cidades = brasil # Capitais de todas as 5 regiões brasileiras\n",
    "else:\n",
    "    print('Seleção inválida! Escolha uma das 6 opçoes disponíveis.')\n",
    "\n",
    "for cidade in cidades: # Laço para saber informações climáticas de cada cidade na lista de cidades\n",
    "    link = f\"https://api.openweathermap.org/data/2.5/weather?q={cidade}&appid={token}&lang=pt_br\" # Link para solicitar requisição\n",
    "    request = requests.get(link) # Realizar a requisição\n",
    "    r = request.json() # Desserialização do retorno da API\n",
    "    descricao = r['weather'][0]['description'] # Acessar descrição do clima\n",
    "    temperatura = r['main']['temp'] - 273.15 # Acessar temperatura em Kelvin e converter para Celsius\n",
    "    print(f'{cidade}:', '{0:.0f} °C'.format(temperatura), f'({descricao.capitalize()}).') # Disponibilizar informação para o usuário"
   ]
  },
  {
   "cell_type": "code",
   "execution_count": 66,
   "metadata": {},
   "outputs": [
    {
     "name": "stdout",
     "output_type": "stream",
     "text": [
      "{'coord': {'lon': -51.23, 'lat': -30.0331}, 'weather': [{'id': 801, 'main': 'Clouds', 'description': 'algumas nuvens', 'icon': '02d'}], 'base': 'stations', 'main': {'temp': 304.61, 'feels_like': 306.34, 'temp_min': 304.25, 'temp_max': 306.42, 'pressure': 1011, 'humidity': 49}, 'visibility': 10000, 'wind': {'speed': 2.68, 'deg': 21, 'gust': 4.92}, 'clouds': {'all': 20}, 'dt': 1644592193, 'sys': {'type': 2, 'id': 2021802, 'country': 'BR', 'sunrise': 1644570127, 'sunset': 1644617782}, 'timezone': -10800, 'id': 3452925, 'name': 'Porto Alegre', 'cod': 200}\n"
     ]
    }
   ],
   "source": [
    "print(r) # Visualizar informações disponibilizadas em cada chamada da API"
   ]
  }
 ],
 "metadata": {
  "kernelspec": {
   "display_name": "Python 3",
   "language": "python",
   "name": "python3"
  },
  "language_info": {
   "codemirror_mode": {
    "name": "ipython",
    "version": 3
   },
   "file_extension": ".py",
   "mimetype": "text/x-python",
   "name": "python",
   "nbconvert_exporter": "python",
   "pygments_lexer": "ipython3",
   "version": "3.8.3"
  }
 },
 "nbformat": 4,
 "nbformat_minor": 4
}
