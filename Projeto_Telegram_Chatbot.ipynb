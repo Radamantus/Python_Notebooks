{
 "cells": [
  {
   "cell_type": "markdown",
   "metadata": {},
   "source": [
    "#### Chabot simples do Telegram criado unicamente para fins didáticos"
   ]
  },
  {
   "cell_type": "code",
   "execution_count": 3,
   "metadata": {},
   "outputs": [],
   "source": [
    "# Importar bibliotecas necessárias\n",
    "import telebot\n",
    "import requests\n",
    "import emoji\n",
    "\n",
    "# Nome do chatbot criado: Gutossauros\n",
    "# Username do chatbot criado: @RadamantusBot\n",
    "# Link para acessar chatbot criado: https://t.me/RadamantusBot\n",
    "\n",
    "# Chave API criada para o chatbot\n",
    "# Informção sensível, manter em segurança\n",
    "with open('token.txt','r') as arquivo:\n",
    "    token = arquivo.read()\n",
    "\n",
    "# Criar chatbot\n",
    "bot = telebot.TeleBot(token)\n",
    "\n",
    "# Definir função caso o usuário selecione a opção A\n",
    "@bot.message_handler(commands = ['A'])\n",
    "def opA(mensagem):\n",
    "    url = 'https://api.quotable.io/random' #  Link para uma API geradora de citações aleatórias\n",
    "    r = requests.get(url) #  Realizar a requisição\n",
    "    quote = r.json() #  Informações da citação\n",
    "    frase = quote['author'] + ' once said: ' + quote['content']\n",
    "    bot.send_message(mensagem.chat.id, frase) # Enviar frase como resposta\n",
    "    bot.send_message(mensagem.chat.id, emoji.emojize(':smiling_face_with_sunglasses:', language = 'en'))\n",
    "    \n",
    "# Definir função caso o usuário selecione a opção B\n",
    "@bot.message_handler(commands = ['B'])\n",
    "def opB(mensagem):\n",
    "    bot.send_message(mensagem.chat.id, 'Tamo junto, é nozes! Aproveita e me segue no Twitter: https://twitter.com/gutossauros')\n",
    "    bot.send_message(mensagem.chat.id, emoji.emojize(':smiling_face_with_hearts:', language = 'en'))\n",
    "    bot.send_message(mensagem.chat.id, 'Ou melhor, me segue no Instagram também: https://www.instagram.com/gutossauros')\n",
    "    \n",
    "# Definir função caso o usuário selecione a opção C\n",
    "@bot.message_handler(commands = ['C'])\n",
    "def opC(mensagem):\n",
    "    bot.send_message(mensagem.chat.id, 'Égua diacho, vem lá da caixa prego me xingar aqui? Vai tu pra porra! Me respeita que é.')\n",
    "    bot.send_message(mensagem.chat.id, emoji.emojize(':face_with_symbols_on_mouth:', language = 'en'))\n",
    "\n",
    "# Definir função para verificar se existe qualquer mensagem no chat\n",
    "def verificar(mensagem):\n",
    "    return True # Função sempre retorna Verdadeiro\n",
    "\n",
    "# Função para responder qualquer mensagem enviada com um texto padrão\n",
    "@bot.message_handler(func = verificar)\n",
    "def responder(mensagem):\n",
    "    resumo = \"\"\"\n",
    "Olá, sou um chatbot criado pelo Luís Augusto! Para mais informações acesse: https://github.com/Radamantus\n",
    "    \"\"\"\n",
    "    # bot.reply_to(mensagem, resumo) # Enviar resumo como resposta\n",
    "    bot.send_message(mensagem.chat.id, resumo) # Enviar resumo como resposta\n",
    "    \n",
    "    texto = \"\"\"\n",
    "Escolha uma das 3 opções para continuar e clique no item:\n",
    "\n",
    "/A Pedir uma citação aleátoria de alguém aleatório.\n",
    "/B Mandar um abraço pro Luís.\n",
    "/C Xingar o Luís gratuitamente.\n",
    "\n",
    "Responder qualquer outra coisa retornará essa mesma mensagem, clique em uma das opções disponíveis.\n",
    "    \"\"\"\n",
    "    # bot.reply_to(mensagem, texto) # Enviar texto como resposta\n",
    "    bot.send_message(mensagem.chat.id, 'Oi ' + mensagem.from_user.first_name + ', tudo bem?' + texto) # Enviar resposta\n",
    "    \n",
    "# Manter chatbot em execução\n",
    "bot.polling()"
   ]
  }
 ],
 "metadata": {
  "kernelspec": {
   "display_name": "Python 3",
   "language": "python",
   "name": "python3"
  },
  "language_info": {
   "codemirror_mode": {
    "name": "ipython",
    "version": 3
   },
   "file_extension": ".py",
   "mimetype": "text/x-python",
   "name": "python",
   "nbconvert_exporter": "python",
   "pygments_lexer": "ipython3",
   "version": "3.8.3"
  }
 },
 "nbformat": 4,
 "nbformat_minor": 4
}
