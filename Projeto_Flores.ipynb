{
 "cells": [
  {
   "cell_type": "code",
   "execution_count": 2,
   "metadata": {
    "_kg_hide-input": true,
    "_kg_hide-output": true,
    "execution": {
     "iopub.execute_input": "2020-10-01T00:23:43.864741Z",
     "iopub.status.busy": "2020-10-01T00:23:43.864012Z",
     "iopub.status.idle": "2020-10-01T00:23:45.479142Z",
     "shell.execute_reply": "2020-10-01T00:23:45.479860Z"
    },
    "papermill": {
     "duration": 1.638265,
     "end_time": "2020-10-01T00:23:45.480072",
     "exception": false,
     "start_time": "2020-10-01T00:23:43.841807",
     "status": "completed"
    },
    "tags": []
   },
   "outputs": [],
   "source": [
    "# Importar bibliotecas necessárias\n",
    "import pandas as pd\n",
    "import matplotlib.pyplot as plt\n",
    "import seaborn as sns"
   ]
  },
  {
   "cell_type": "markdown",
   "metadata": {
    "papermill": {
     "duration": 0.014121,
     "end_time": "2020-10-01T00:23:45.509264",
     "exception": false,
     "start_time": "2020-10-01T00:23:45.495143",
     "status": "completed"
    },
    "tags": []
   },
   "source": [
    "### Selecionar o conjunto de dados\n",
    "\n",
    "Trabalharemos com um conjunto de dados de 150 flores diferentes, ou 50 de cada uma das três diferentes espécies de íris. (*Iris setosa*, *Iris versicolor*, and *Iris virginica*).\n",
    "\n",
    "\n",
    "![tut4_iris](https://i.imgur.com/RcxYYBA.png)\n",
    "\n",
    "#### Carregar e examinar os dados.\n",
    "\n",
    "Cada linha do conjunto de dados corresponde a uma flor diferente. Existem quatro medidas: o comprimento e a largura da sépala, junto com o comprimento e a largura da pétala. Também monitoramos as espécies correspondentes."
   ]
  },
  {
   "cell_type": "code",
   "execution_count": 3,
   "metadata": {
    "execution": {
     "iopub.execute_input": "2020-10-01T00:23:45.550515Z",
     "iopub.status.busy": "2020-10-01T00:23:45.549498Z",
     "iopub.status.idle": "2020-10-01T00:23:45.591486Z",
     "shell.execute_reply": "2020-10-01T00:23:45.592268Z"
    },
    "papermill": {
     "duration": 0.068478,
     "end_time": "2020-10-01T00:23:45.592469",
     "exception": false,
     "start_time": "2020-10-01T00:23:45.523991",
     "status": "completed"
    },
    "tags": []
   },
   "outputs": [
    {
     "data": {
      "text/html": [
       "<div>\n",
       "<style scoped>\n",
       "    .dataframe tbody tr th:only-of-type {\n",
       "        vertical-align: middle;\n",
       "    }\n",
       "\n",
       "    .dataframe tbody tr th {\n",
       "        vertical-align: top;\n",
       "    }\n",
       "\n",
       "    .dataframe thead th {\n",
       "        text-align: right;\n",
       "    }\n",
       "</style>\n",
       "<table border=\"1\" class=\"dataframe\">\n",
       "  <thead>\n",
       "    <tr style=\"text-align: right;\">\n",
       "      <th></th>\n",
       "      <th>Sepal Length (cm)</th>\n",
       "      <th>Sepal Width (cm)</th>\n",
       "      <th>Petal Length (cm)</th>\n",
       "      <th>Petal Width (cm)</th>\n",
       "      <th>Species</th>\n",
       "    </tr>\n",
       "    <tr>\n",
       "      <th>Id</th>\n",
       "      <th></th>\n",
       "      <th></th>\n",
       "      <th></th>\n",
       "      <th></th>\n",
       "      <th></th>\n",
       "    </tr>\n",
       "  </thead>\n",
       "  <tbody>\n",
       "    <tr>\n",
       "      <th>1</th>\n",
       "      <td>5.1</td>\n",
       "      <td>3.5</td>\n",
       "      <td>1.4</td>\n",
       "      <td>0.2</td>\n",
       "      <td>Iris-setosa</td>\n",
       "    </tr>\n",
       "    <tr>\n",
       "      <th>2</th>\n",
       "      <td>4.9</td>\n",
       "      <td>3.0</td>\n",
       "      <td>1.4</td>\n",
       "      <td>0.2</td>\n",
       "      <td>Iris-setosa</td>\n",
       "    </tr>\n",
       "    <tr>\n",
       "      <th>3</th>\n",
       "      <td>4.7</td>\n",
       "      <td>3.2</td>\n",
       "      <td>1.3</td>\n",
       "      <td>0.2</td>\n",
       "      <td>Iris-setosa</td>\n",
       "    </tr>\n",
       "    <tr>\n",
       "      <th>4</th>\n",
       "      <td>4.6</td>\n",
       "      <td>3.1</td>\n",
       "      <td>1.5</td>\n",
       "      <td>0.2</td>\n",
       "      <td>Iris-setosa</td>\n",
       "    </tr>\n",
       "    <tr>\n",
       "      <th>5</th>\n",
       "      <td>5.0</td>\n",
       "      <td>3.6</td>\n",
       "      <td>1.4</td>\n",
       "      <td>0.2</td>\n",
       "      <td>Iris-setosa</td>\n",
       "    </tr>\n",
       "  </tbody>\n",
       "</table>\n",
       "</div>"
      ],
      "text/plain": [
       "    Sepal Length (cm)  Sepal Width (cm)  Petal Length (cm)  Petal Width (cm)  \\\n",
       "Id                                                                             \n",
       "1                 5.1               3.5                1.4               0.2   \n",
       "2                 4.9               3.0                1.4               0.2   \n",
       "3                 4.7               3.2                1.3               0.2   \n",
       "4                 4.6               3.1                1.5               0.2   \n",
       "5                 5.0               3.6                1.4               0.2   \n",
       "\n",
       "        Species  \n",
       "Id               \n",
       "1   Iris-setosa  \n",
       "2   Iris-setosa  \n",
       "3   Iris-setosa  \n",
       "4   Iris-setosa  \n",
       "5   Iris-setosa  "
      ]
     },
     "execution_count": 3,
     "metadata": {},
     "output_type": "execute_result"
    }
   ],
   "source": [
    "# Arquivo de contendo o conjunto de dados\n",
    "dados = 'iris.csv'\n",
    "\n",
    "# Ler a base de dados\n",
    "iris_data = pd.read_csv(dados, index_col = 'Id')\n",
    "\n",
    "# Apresenta as 5 primeiras linhas da base de dados\n",
    "iris_data.head(5)"
   ]
  },
  {
   "cell_type": "markdown",
   "metadata": {
    "papermill": {
     "duration": 0.015045,
     "end_time": "2020-10-01T00:23:45.628334",
     "exception": false,
     "start_time": "2020-10-01T00:23:45.613289",
     "status": "completed"
    },
    "tags": []
   },
   "source": [
    "#### Histogramas\n",
    "\n",
    "Digamos que gostaríamos de criar um **histograma** para ver como o comprimento das pétalas varia nas flores da íris. Podemos fazer isso com o comando `sns.distplot`."
   ]
  },
  {
   "cell_type": "code",
   "execution_count": 4,
   "metadata": {
    "execution": {
     "iopub.execute_input": "2020-10-01T00:23:45.666824Z",
     "iopub.status.busy": "2020-10-01T00:23:45.666070Z",
     "iopub.status.idle": "2020-10-01T00:23:45.958032Z",
     "shell.execute_reply": "2020-10-01T00:23:45.956778Z"
    },
    "papermill": {
     "duration": 0.314604,
     "end_time": "2020-10-01T00:23:45.958186",
     "exception": false,
     "start_time": "2020-10-01T00:23:45.643582",
     "status": "completed"
    },
    "tags": []
   },
   "outputs": [
    {
     "data": {
      "image/png": "[encoded data removed]",
      "text/plain": [
       "<Figure size 432x288 with 1 Axes>"
      ]
     },
     "metadata": {
      "needs_background": "light"
     },
     "output_type": "display_data"
    }
   ],
   "source": [
    "# Histograma \n",
    "sns.distplot(a = iris_data['Petal Length (cm)'], kde = False);"
   ]
  },
  {
   "cell_type": "markdown",
   "metadata": {
    "papermill": {
     "duration": 0.016218,
     "end_time": "2020-10-01T00:23:45.992651",
     "exception": false,
     "start_time": "2020-10-01T00:23:45.976433",
     "status": "completed"
    },
    "tags": []
   },
   "source": [
    "Personalizamos o comportamento do comando com duas informações adicionais:\n",
    "- `a =` escolhe a coluna que gostaríamos de plotar (neste caso, escolhemos `'Petal Length (cm)'`).\n",
    "- `kde = False` é algo que sempre forneceremos ao criar um histograma, pois deixá-lo de fora criará um gráfico ligeiramente diferente.\n",
    "\n",
    "#### Gráficos de Densidade\n",
    "\n",
    "O próximo tipo de gráfico é um gráfico de **estimativa de densidade do kernel (KDE)**. Caso você não esteja familiarizado com os gráficos do KDE, você pode pensar nisso como um histograma suavizado.\n",
    "\n",
    "Para fazer um gráfico do KDE, usamos o comando `sns.kdeplot`. Definir `shade = True` colore a área abaixo da curva (e` data = `tem funcionalidade idêntica como quando fizemos o histograma acima)."
   ]
  },
  {
   "cell_type": "code",
   "execution_count": 5,
   "metadata": {
    "execution": {
     "iopub.execute_input": "2020-10-01T00:23:46.040180Z",
     "iopub.status.busy": "2020-10-01T00:23:46.039214Z",
     "iopub.status.idle": "2020-10-01T00:23:46.334546Z",
     "shell.execute_reply": "2020-10-01T00:23:46.332709Z"
    },
    "papermill": {
     "duration": 0.325589,
     "end_time": "2020-10-01T00:23:46.334742",
     "exception": false,
     "start_time": "2020-10-01T00:23:46.009153",
     "status": "completed"
    },
    "tags": []
   },
   "outputs": [
    {
     "data": {
      "image/png": "[encoded data removed]",
      "text/plain": [
       "<Figure size 432x288 with 1 Axes>"
      ]
     },
     "metadata": {
      "needs_background": "light"
     },
     "output_type": "display_data"
    }
   ],
   "source": [
    "# Gráfico KDE\n",
    "sns.kdeplot(data = iris_data['Petal Length (cm)'], shade = True);"
   ]
  },
  {
   "cell_type": "markdown",
   "metadata": {
    "papermill": {
     "duration": 0.024866,
     "end_time": "2020-10-01T00:23:46.397329",
     "exception": false,
     "start_time": "2020-10-01T00:23:46.372463",
     "status": "completed"
    },
    "tags": []
   },
   "source": [
    "# 2D KDE plots\n",
    "\n",
    "Não estamos restritos a uma única coluna ao criar um gráfico do KDE. Podemos criar um gráfico KDE **bidimensional (2D)** com o comando `sns.jointplot`.\n",
    "\n",
    "No gráfico abaixo, o código de cores nos mostra a probabilidade de vermos diferentes combinações de largura da sépala e comprimento da pétala, onde as partes mais escuras da figura são mais prováveis."
   ]
  },
  {
   "cell_type": "code",
   "execution_count": 18,
   "metadata": {
    "execution": {
     "iopub.execute_input": "2020-10-01T00:23:46.456015Z",
     "iopub.status.busy": "2020-10-01T00:23:46.454735Z",
     "iopub.status.idle": "2020-10-01T00:23:48.385769Z",
     "shell.execute_reply": "2020-10-01T00:23:48.384988Z"
    },
    "papermill": {
     "duration": 1.963271,
     "end_time": "2020-10-01T00:23:48.385912",
     "exception": false,
     "start_time": "2020-10-01T00:23:46.422641",
     "status": "completed"
    },
    "tags": []
   },
   "outputs": [
    {
     "data": {
      "image/png": "[encoded data removed]",
      "text/plain": [
       "<Figure size 432x432 with 3 Axes>"
      ]
     },
     "metadata": {
      "needs_background": "light"
     },
     "output_type": "display_data"
    }
   ],
   "source": [
    "# Gráfico 2D KDE\n",
    "sns.jointplot(x = iris_data['Petal Length (cm)'], y = iris_data['Sepal Width (cm)'], kind = 'kde');"
   ]
  },
  {
   "cell_type": "markdown",
   "metadata": {
    "papermill": {
     "duration": 0.018782,
     "end_time": "2020-10-01T00:23:48.425599",
     "exception": false,
     "start_time": "2020-10-01T00:23:48.406817",
     "status": "completed"
    },
    "tags": []
   },
   "source": [
    "Observe que, além do gráfico 2D do KDE no centro,\n",
    "- a curva no topo da figura é um gráfico do KDE para os dados no eixo x (neste caso, `iris_data['Petal Length (cm)']`), e\n",
    "- a curva à direita da figura é um gráfico do KDE para os dados no eixo y (neste caso, `iris_data['Sepal Width (cm)']`)."
   ]
  },
  {
   "cell_type": "markdown",
   "metadata": {
    "papermill": {
     "duration": 0.019473,
     "end_time": "2020-10-01T00:23:48.463985",
     "exception": false,
     "start_time": "2020-10-01T00:23:48.444512",
     "status": "completed"
    },
    "tags": []
   },
   "source": [
    "#### Gráficos Codificados por Cores\n",
    "\n",
    "Para a próxima parte do tutorial, criaremos gráficos para entender as diferenças entre as espécies. Para fazer isso, começamos dividindo o conjunto de dados em três arquivos separados, um para cada espécie."
   ]
  },
  {
   "cell_type": "code",
   "execution_count": 7,
   "metadata": {
    "execution": {
     "iopub.execute_input": "2020-10-01T00:23:48.512500Z",
     "iopub.status.busy": "2020-10-01T00:23:48.511368Z",
     "iopub.status.idle": "2020-10-01T00:23:48.542725Z",
     "shell.execute_reply": "2020-10-01T00:23:48.541878Z"
    },
    "papermill": {
     "duration": 0.059858,
     "end_time": "2020-10-01T00:23:48.542913",
     "exception": false,
     "start_time": "2020-10-01T00:23:48.483055",
     "status": "completed"
    },
    "tags": []
   },
   "outputs": [
    {
     "data": {
      "text/html": [
       "<div>\n",
       "<style scoped>\n",
       "    .dataframe tbody tr th:only-of-type {\n",
       "        vertical-align: middle;\n",
       "    }\n",
       "\n",
       "    .dataframe tbody tr th {\n",
       "        vertical-align: top;\n",
       "    }\n",
       "\n",
       "    .dataframe thead th {\n",
       "        text-align: right;\n",
       "    }\n",
       "</style>\n",
       "<table border=\"1\" class=\"dataframe\">\n",
       "  <thead>\n",
       "    <tr style=\"text-align: right;\">\n",
       "      <th></th>\n",
       "      <th>Sepal Length (cm)</th>\n",
       "      <th>Sepal Width (cm)</th>\n",
       "      <th>Petal Length (cm)</th>\n",
       "      <th>Petal Width (cm)</th>\n",
       "      <th>Species</th>\n",
       "    </tr>\n",
       "    <tr>\n",
       "      <th>Id</th>\n",
       "      <th></th>\n",
       "      <th></th>\n",
       "      <th></th>\n",
       "      <th></th>\n",
       "      <th></th>\n",
       "    </tr>\n",
       "  </thead>\n",
       "  <tbody>\n",
       "    <tr>\n",
       "      <th>51</th>\n",
       "      <td>7.0</td>\n",
       "      <td>3.2</td>\n",
       "      <td>4.7</td>\n",
       "      <td>1.4</td>\n",
       "      <td>Iris-versicolor</td>\n",
       "    </tr>\n",
       "    <tr>\n",
       "      <th>52</th>\n",
       "      <td>6.4</td>\n",
       "      <td>3.2</td>\n",
       "      <td>4.5</td>\n",
       "      <td>1.5</td>\n",
       "      <td>Iris-versicolor</td>\n",
       "    </tr>\n",
       "    <tr>\n",
       "      <th>53</th>\n",
       "      <td>6.9</td>\n",
       "      <td>3.1</td>\n",
       "      <td>4.9</td>\n",
       "      <td>1.5</td>\n",
       "      <td>Iris-versicolor</td>\n",
       "    </tr>\n",
       "    <tr>\n",
       "      <th>54</th>\n",
       "      <td>5.5</td>\n",
       "      <td>2.3</td>\n",
       "      <td>4.0</td>\n",
       "      <td>1.3</td>\n",
       "      <td>Iris-versicolor</td>\n",
       "    </tr>\n",
       "    <tr>\n",
       "      <th>55</th>\n",
       "      <td>6.5</td>\n",
       "      <td>2.8</td>\n",
       "      <td>4.6</td>\n",
       "      <td>1.5</td>\n",
       "      <td>Iris-versicolor</td>\n",
       "    </tr>\n",
       "  </tbody>\n",
       "</table>\n",
       "</div>"
      ],
      "text/plain": [
       "    Sepal Length (cm)  Sepal Width (cm)  Petal Length (cm)  Petal Width (cm)  \\\n",
       "Id                                                                             \n",
       "51                7.0               3.2                4.7               1.4   \n",
       "52                6.4               3.2                4.5               1.5   \n",
       "53                6.9               3.1                4.9               1.5   \n",
       "54                5.5               2.3                4.0               1.3   \n",
       "55                6.5               2.8                4.6               1.5   \n",
       "\n",
       "            Species  \n",
       "Id                   \n",
       "51  Iris-versicolor  \n",
       "52  Iris-versicolor  \n",
       "53  Iris-versicolor  \n",
       "54  Iris-versicolor  \n",
       "55  Iris-versicolor  "
      ]
     },
     "execution_count": 7,
     "metadata": {},
     "output_type": "execute_result"
    }
   ],
   "source": [
    "# Ler arquivos contendo o conjunto de dados\n",
    "iris_set = 'iris_setosa.csv'\n",
    "iris_ver = 'iris_versicolor.csv'\n",
    "iris_vir = 'iris_virginica.csv'\n",
    "\n",
    "# Carregar base de dados\n",
    "iris_set_data = pd.read_csv(iris_set, index_col = 'Id')\n",
    "iris_ver_data = pd.read_csv(iris_ver, index_col = 'Id')\n",
    "iris_vir_data = pd.read_csv(iris_vir, index_col = 'Id')\n",
    "\n",
    "# Apresenta as 5 primeiras linhas da base de dados\n",
    "iris_ver_data.head(5)"
   ]
  },
  {
   "cell_type": "markdown",
   "metadata": {
    "papermill": {
     "duration": 0.019678,
     "end_time": "2020-10-01T00:23:48.585834",
     "exception": false,
     "start_time": "2020-10-01T00:23:48.566156",
     "status": "completed"
    },
    "tags": []
   },
   "source": [
    "Na célula de código abaixo, criamos um histograma diferente para cada espécie usando o comando `sns.distplot` (como acima) três vezes. Usamos `label =` para definir como cada histograma aparecerá na legenda."
   ]
  },
  {
   "cell_type": "code",
   "execution_count": 16,
   "metadata": {
    "execution": {
     "iopub.execute_input": "2020-10-01T00:23:48.641160Z",
     "iopub.status.busy": "2020-10-01T00:23:48.639985Z",
     "iopub.status.idle": "2020-10-01T00:23:48.945141Z",
     "shell.execute_reply": "2020-10-01T00:23:48.943938Z"
    },
    "papermill": {
     "duration": 0.339684,
     "end_time": "2020-10-01T00:23:48.945279",
     "exception": false,
     "start_time": "2020-10-01T00:23:48.605595",
     "status": "completed"
    },
    "tags": []
   },
   "outputs": [
    {
     "data": {
      "image/png": "[encoded data removed]",
      "text/plain": [
       "<Figure size 432x288 with 1 Axes>"
      ]
     },
     "metadata": {
      "needs_background": "light"
     },
     "output_type": "display_data"
    }
   ],
   "source": [
    "# Histograma para cada espécie\n",
    "sns.distplot(a = iris_set_data['Petal Length (cm)'], label = 'Iris-setosa', kde = False)\n",
    "sns.distplot(a = iris_ver_data['Petal Length (cm)'], label = 'Iris-versicolor', kde = False)\n",
    "sns.distplot(a = iris_vir_data['Petal Length (cm)'], label = 'Iris-virginica', kde = False)\n",
    "\n",
    "# Adicionar título ao gráfico\n",
    "plt.title('Histograma do Comprimento da Pétala, por Espécie')\n",
    "\n",
    "# Legenda\n",
    "plt.legend()\n",
    "\n",
    "# Adicionar rótulo ao eixo x\n",
    "plt.xlabel('Petal Length (cm)', fontsize = 'large');"
   ]
  },
  {
   "cell_type": "markdown",
   "metadata": {
    "papermill": {
     "duration": 0.021305,
     "end_time": "2020-10-01T00:23:48.988296",
     "exception": false,
     "start_time": "2020-10-01T00:23:48.966991",
     "status": "completed"
    },
    "tags": []
   },
   "source": [
    "Nesse caso, a legenda não aparece automaticamente no gráfico. Para forçar a exibição (para qualquer gráfico), podemos sempre usar `plt.legend ()`.\n",
    "\n",
    "Também podemos criar um gráfico do KDE para cada espécie usando `sns.kdeplot` (como acima). Novamente, `label =` é usado para definir os valores na legenda."
   ]
  },
  {
   "cell_type": "code",
   "execution_count": 15,
   "metadata": {
    "execution": {
     "iopub.execute_input": "2020-10-01T00:23:49.049487Z",
     "iopub.status.busy": "2020-10-01T00:23:49.041583Z",
     "iopub.status.idle": "2020-10-01T00:23:49.375110Z",
     "shell.execute_reply": "2020-10-01T00:23:49.374295Z"
    },
    "papermill": {
     "duration": 0.364844,
     "end_time": "2020-10-01T00:23:49.375244",
     "exception": false,
     "start_time": "2020-10-01T00:23:49.010400",
     "status": "completed"
    },
    "tags": []
   },
   "outputs": [
    {
     "data": {
      "image/png": "[encoded data removed]",
      "text/plain": [
       "<Figure size 432x288 with 1 Axes>"
      ]
     },
     "metadata": {
      "needs_background": "light"
     },
     "output_type": "display_data"
    }
   ],
   "source": [
    "# Gráficos KDE para cada espécie\n",
    "sns.kdeplot(data = iris_set_data['Petal Length (cm)'], label = 'Iris-setosa', shade = True)\n",
    "sns.kdeplot(data = iris_ver_data['Petal Length (cm)'], label = 'Iris-versicolor', shade = True)\n",
    "sns.kdeplot(data = iris_vir_data['Petal Length (cm)'], label = 'Iris-virginica', shade = True)\n",
    "\n",
    "# Adicionar título ao gráfico\n",
    "plt.title('Distribuição dos Commprimentos de Pétala, por Espécie')\n",
    "\n",
    "# Adicionar rótulo ao eixo x\n",
    "plt.xlabel('Petal Length (cm)', fontsize = 'large');"
   ]
  },
  {
   "cell_type": "markdown",
   "metadata": {
    "papermill": {
     "duration": 0.022477,
     "end_time": "2020-10-01T00:23:49.422527",
     "exception": false,
     "start_time": "2020-10-01T00:23:49.400050",
     "status": "completed"
    },
    "tags": []
   },
   "source": [
    "Um padrão interessante que pode ser visto nas parcelas é que as plantas parecem pertencer a um de dois grupos, onde _Iris versicolor_ e _Iris virginica_ parecem ter valores semelhantes para o comprimento da pétala, enquanto _Iris setosa_ pertence a uma categoria por si só.\n",
    "\n",
    "Na verdade, de acordo com este conjunto de dados, podemos até ser capazes de classificar qualquer planta de íris como *Iris setosa* (em oposição a *Iris versicolor* ou *Iris virginica*) apenas olhando para o comprimento da pétala: se o comprimento da pétala de uma flor de íris tem menos de 2 cm, é mais provável que seja *Iris setosa*!"
   ]
  }
 ],
 "metadata": {
  "kernelspec": {
   "display_name": "Python 3",
   "language": "python",
   "name": "python3"
  },
  "language_info": {
   "codemirror_mode": {
    "name": "ipython",
    "version": 3
   },
   "file_extension": ".py",
   "mimetype": "text/x-python",
   "name": "python",
   "nbconvert_exporter": "python",
   "pygments_lexer": "ipython3",
   "version": "3.8.3"
  },
  "papermill": {
   "duration": 11.488358,
   "end_time": "2020-10-01T00:23:49.649098",
   "environment_variables": {},
   "exception": null,
   "input_path": "__notebook__.ipynb",
   "output_path": "__notebook__.ipynb",
   "parameters": {},
   "start_time": "2020-10-01T00:23:38.160740",
   "version": "2.1.0"
  }
 },
 "nbformat": 4,
 "nbformat_minor": 2
}
