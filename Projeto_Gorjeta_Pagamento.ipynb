{
 "cells": [
  {
   "cell_type": "markdown",
   "metadata": {},
   "source": [
    "#### O problema da gorjeta é comumente usado para ilustrar o poder dos princípios da Lógica e Controle Fuzzy <br> <br> para gerar comportamento complexo a partir de um conjunto compacto e intuitivo de regras especializadas.\n",
    "\n",
    "- Vamos criar um sistema de controle fuzzy que modele como você pode escolher dar uma gorjeta em um restaurante. Na hora da gorjeta, você leva em consideração o atendimento e a qualidade da comida, avaliada entre uma nota de 0 a 10. Você usa para deixar uma gorjeta entre 0 e 20%. Nós formulamos esse problema da seguinte forma:\n",
    "\n",
    "#### Antecedentes (entradas)\n",
    "\n",
    "#### Qualidade da comida: quão boa estava a comida, em uma escala de 0 a 10?\n",
    "- Os conjuntos Fuzzy são: Ruim, Boa, Excelente.\n",
    "\n",
    "#### Qualidade do serviço: quão bom o serviço era, em uma escala de 0 a 10?\n",
    "- Os conjuntos Fuzzy são: Ruim, Bom, Ótimo\n",
    "\n",
    "#### Consequentes (saídas)\n",
    "- Gorjeta: percentual entre 0% a 20%.\n",
    "\n",
    "#### Regras Fuzzy do Tipo Se-Então\n",
    "- Regra 1: Se a qualidade da comida for RUIM ou o serviço for RUIM, então a gorjeta é BAIXA.\n",
    "- Regra 2: Se o serviço for BOM então, a gorjeta será MÉDIA.\n",
    "- Regra 3: Se o serviço for ÓTIMO e a qualidade da comida for EXCELENTE, então a gorjeta será ALTA"
   ]
  },
  {
   "cell_type": "code",
   "execution_count": 2,
   "metadata": {},
   "outputs": [
    {
     "name": "stdout",
     "output_type": "stream",
     "text": [
      "O percentual da gorjeta a ser dada é de 12.84%.\n"
     ]
    }
   ],
   "source": [
    "# Importando as bibliotecas necessárias\n",
    "import numpy as np\n",
    "import skfuzzy as fuzz\n",
    "from skfuzzy import control as ctl\n",
    "\n",
    "# Definir antecedentes e consequentes\n",
    "comida = ctl.Antecedent(np.arange(0, 11, 1), 'Comida')\n",
    "servico = ctl.Antecedent(np.arange(0, 11, 1), 'Serviço')\n",
    "gorjeta = ctl.Consequent(np.arange(0, 21, 1), 'Gorjeta')\n",
    "\n",
    "# Funções de pertinência\n",
    "comida.automf(number = 5, names = ['Ruim', 'Boa', 'Excelente'])\n",
    "servico.automf(number = 3, names = ['Ruim', 'Bom', 'Ótimo'])\n",
    "\n",
    "gorjeta['Baixa'] = fuzz.trimf(gorjeta.universe, [0, 0, 10])\n",
    "gorjeta['Média'] = fuzz.trimf(gorjeta.universe, [0, 10, 20])\n",
    "gorjeta['Alta'] = fuzz.trimf(gorjeta.universe, [10, 20, 20])\n",
    "\n",
    "# Visualizar funções de pertinência\n",
    "# comida.view()\n",
    "# servico.view()\n",
    "# gorjeta.view()\n",
    "\n",
    "# Regras Fuzzy\n",
    "regra01 = ctl.Rule(comida['Ruim'] | servico['Ruim'], gorjeta['Baixa'])\n",
    "regra02 = ctl.Rule(servico['Bom'], gorjeta['Média'])\n",
    "regra03 = ctl.Rule(comida['Excelente'] | servico['Ótimo'], gorjeta['Alta'])\n",
    "\n",
    "# Criar sistema de controle\n",
    "base_regras = ctl.ControlSystem([regra01, regra02, regra03])\n",
    "sistema_fuzzy = ctl.ControlSystemSimulation(base_regras)\n",
    "\n",
    "# Simular o sistema fuzzy\n",
    "sistema_fuzzy.input['Comida'] = 9.1\n",
    "sistema_fuzzy.input['Serviço'] = 8.6\n",
    "sistema_fuzzy.compute()\n",
    "\n",
    "# Apresentar ao usuário a resposta do sistema fuzzy\n",
    "print('O percentual da gorjeta a ser dada é de {:.2f}%.'.format(sistema_fuzzy.output['Gorjeta']))\n",
    "\n",
    "#gorjeta.view(sim = sistema_fuzzy)"
   ]
  }
 ],
 "metadata": {
  "kernelspec": {
   "display_name": "Python 3",
   "language": "python",
   "name": "python3"
  },
  "language_info": {
   "codemirror_mode": {
    "name": "ipython",
    "version": 3
   },
   "file_extension": ".py",
   "mimetype": "text/x-python",
   "name": "python",
   "nbconvert_exporter": "python",
   "pygments_lexer": "ipython3",
   "version": "3.8.3"
  }
 },
 "nbformat": 4,
 "nbformat_minor": 4
}
