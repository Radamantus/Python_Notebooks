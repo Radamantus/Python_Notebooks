{
 "cells": [
  {
   "cell_type": "markdown",
   "metadata": {},
   "source": [
    "#### Enunciado: faça um programa que peça para o usuário digitar uma palavra que deseja procurar e que em seguida leia um arquivo texto e procure e informe quantas vezes esta palavra se repete em cada linha do arquivo. Ao final, informar o número total de repetições da palavra no arquivo."
   ]
  },
  {
   "cell_type": "code",
   "execution_count": 13,
   "metadata": {},
   "outputs": [
    {
     "name": "stdout",
     "output_type": "stream",
     "text": [
      "Digite a palavra a ser pesquisada no texto: brasil\n",
      "A palavra a ser pesquisada é 'brasil'.\n",
      "Palavra pesquisada não encontrada na linha 1.\n",
      "Palavra pesquisada não encontrada na linha 2.\n",
      "Palavra pesquisada não encontrada na linha 3.\n",
      "Palavra pesquisada não encontrada na linha 4.\n",
      "Palavra pesquisada não encontrada na linha 5.\n",
      "Palavra pesquisada não encontrada na linha 6.\n",
      "Palavra pesquisada não encontrada na linha 7.\n",
      "Palavra pesquisada não encontrada na linha 8.\n",
      "Palavra pesquisada não encontrada na linha 9.\n",
      "Palavra pesquisada não encontrada na linha 10.\n",
      "Palavra pesquisada não encontrada na linha 11.\n",
      "Palavra pesquisada encontrada 1 vez na linha 12.\n",
      "Palavra pesquisada não encontrada na linha 13.\n",
      "Palavra pesquisada não encontrada na linha 14.\n",
      "Palavra pesquisada não encontrada na linha 15.\n",
      "Palavra pesquisada não encontrada na linha 16.\n",
      "Palavra pesquisada não encontrada na linha 17.\n",
      "Palavra pesquisada não encontrada na linha 18.\n",
      "Palavra pesquisada não encontrada na linha 19.\n",
      "Palavra pesquisada não encontrada na linha 20.\n",
      "Palavra pesquisada encontrada 1 vez na linha 21.\n",
      "Palavra pesquisada não encontrada na linha 22.\n",
      "Palavra pesquisada não encontrada na linha 23.\n",
      "Palavra pesquisada não encontrada na linha 24.\n",
      "Palavra pesquisada encontrada 1 vez na linha 25.\n",
      "Palavra pesquisada não encontrada na linha 26.\n",
      "Palavra pesquisada não encontrada na linha 27.\n",
      "Palavra pesquisada encontrada 1 vez na linha 28.\n",
      "Palavra pesquisada não encontrada na linha 29.\n",
      "Palavra pesquisada não encontrada na linha 30.\n",
      "Palavra pesquisada não encontrada na linha 31.\n",
      "Palavra pesquisada não encontrada na linha 32.\n",
      "Palavra pesquisada não encontrada na linha 33.\n",
      "Palavra pesquisada não encontrada na linha 34.\n",
      "Palavra pesquisada não encontrada na linha 35.\n",
      "Palavra pesquisada não encontrada na linha 36.\n",
      "Palavra pesquisada encontrada 1 vez na linha 37.\n",
      "Palavra pesquisada não encontrada na linha 38.\n",
      "Palavra pesquisada não encontrada na linha 39.\n",
      "Palavra pesquisada não encontrada na linha 40.\n",
      "Palavra pesquisada não encontrada na linha 41.\n",
      "Palavra pesquisada não encontrada na linha 42.\n",
      "Palavra pesquisada não encontrada na linha 43.\n",
      "Palavra pesquisada não encontrada na linha 44.\n",
      "Palavra pesquisada não encontrada na linha 45.\n",
      "Palavra pesquisada encontrada 1 vez na linha 46.\n",
      "Palavra pesquisada não encontrada na linha 47.\n",
      "Palavra pesquisada não encontrada na linha 48.\n",
      "Palavra pesquisada não encontrada na linha 49.\n",
      "Palavra pesquisada encontrada 1 vez na linha 50.\n",
      "A palavra pesquisada 'brasil' foi encontrada 7 vezes no texto.\n",
      "O texto possui um total de 50 linhas no arquivo TXT.\n",
      "O texto possui um total de 250 palavras no arquivo TXT.\n"
     ]
    }
   ],
   "source": [
    "pesquisa = input('Digite a palavra a ser pesquisada no texto: ') # Perguntar a palavra a ser pesquisada ao usuário\n",
    "pesquisa = pesquisa.lower() # Transformar todas as letras para minúsculo\n",
    "print(f\"A palavra a ser pesquisada é '{pesquisa}'.\")\n",
    "contador = 0 # Inicializar variável que contém quantas vezes a palavra pesquisada foi encontrada no texto\n",
    "n_palavras = 0 # Inicializar variável que contém a quantidade total de palavras presentes no texto\n",
    "\n",
    "# Abrir o arquivo TXT para leitura e armazenar cada linha como um item de uma lista \n",
    "with open('texto_pesquisa.txt','r') as arquivo:\n",
    "    texto = arquivo.readlines() # Lista onde cada item corresponde ao texto escrito em cada linha\n",
    "    texto = [i for i in texto if i not in ['\\n']] # Excluir as linhas onde não há nada escrito\n",
    "\n",
    "n_linhas = len(texto) # Quantidade total de linhas existentes no texto    \n",
    "\n",
    "for k, linha in enumerate (texto): # Laço para percorrer cada linha presente no arquivo de texto\n",
    "    linha = linha.lower() # Colocar todas as letras minúsculo\n",
    "    linha = linha.replace(',', '').replace('!', '') # Remover caracteres indesejados\n",
    "    linha = linha.strip() # Remover espaçoes em branco no início e no fim da string\n",
    "    linha = linha.split(\" \") # Separar cada palavra da linha\n",
    "    n_palavras += len(linha) # Quantidade total de palavras existentes no texto\n",
    "    n = linha.count(pesquisa) # Retornar quantas vezes a palavra pesquisada pelo usuário aparece na linha\n",
    "    if n == 0: # Condicional para adequar a escrita do português\n",
    "        print(f\"Palavra pesquisada não encontrada na linha {k+1}.\") # Aprensenta o resultado linha a linha ao usuário\n",
    "    elif n == 1:\n",
    "        print(f\"Palavra pesquisada encontrada {n} vez na linha {k+1}.\") # Aprensenta o resultado linha a linha ao usuário\n",
    "    else:\n",
    "        print(f\"Palavra pesquisada encontrada {n} vezes na linha {k+1}.\") # Aprensenta o resultado linha a linha ao usuário\n",
    "    contador += n # Incrementar o contador de quantas vezes a palavra pesquisada foi encontrada\n",
    "\n",
    "# Apresentar ao usuário as informações coletadas\n",
    "print(f\"A palavra pesquisada '{pesquisa}' foi encontrada {contador} vezes no texto.\")\n",
    "print(f\"O texto possui um total de {n_linhas} linhas no arquivo TXT.\")\n",
    "print(f\"O texto possui um total de {n_palavras} palavras no arquivo TXT.\")"
   ]
  }
 ],
 "metadata": {
  "kernelspec": {
   "display_name": "Python 3",
   "language": "python",
   "name": "python3"
  },
  "language_info": {
   "codemirror_mode": {
    "name": "ipython",
    "version": 3
   },
   "file_extension": ".py",
   "mimetype": "text/x-python",
   "name": "python",
   "nbconvert_exporter": "python",
   "pygments_lexer": "ipython3",
   "version": "3.8.3"
  }
 },
 "nbformat": 4,
 "nbformat_minor": 4
}
