{
 "cells": [
  {
   "cell_type": "markdown",
   "metadata": {},
   "source": [
    "#### Etapa 01: Carregar Dados de Treino"
   ]
  },
  {
   "cell_type": "code",
   "execution_count": 2,
   "metadata": {},
   "outputs": [
    {
     "name": "stdout",
     "output_type": "stream",
     "text": [
      "A base de dados de treino possui 891 linhas e 12 colunas.\n"
     ]
    },
    {
     "data": {
      "text/html": [
       "<div>\n",
       "<style scoped>\n",
       "    .dataframe tbody tr th:only-of-type {\n",
       "        vertical-align: middle;\n",
       "    }\n",
       "\n",
       "    .dataframe tbody tr th {\n",
       "        vertical-align: top;\n",
       "    }\n",
       "\n",
       "    .dataframe thead th {\n",
       "        text-align: right;\n",
       "    }\n",
       "</style>\n",
       "<table border=\"1\" class=\"dataframe\">\n",
       "  <thead>\n",
       "    <tr style=\"text-align: right;\">\n",
       "      <th></th>\n",
       "      <th>PassengerId</th>\n",
       "      <th>Survived</th>\n",
       "      <th>Pclass</th>\n",
       "      <th>Name</th>\n",
       "      <th>Sex</th>\n",
       "      <th>Age</th>\n",
       "      <th>SibSp</th>\n",
       "      <th>Parch</th>\n",
       "      <th>Ticket</th>\n",
       "      <th>Fare</th>\n",
       "      <th>Cabin</th>\n",
       "      <th>Embarked</th>\n",
       "    </tr>\n",
       "  </thead>\n",
       "  <tbody>\n",
       "    <tr>\n",
       "      <th>0</th>\n",
       "      <td>1</td>\n",
       "      <td>0</td>\n",
       "      <td>3</td>\n",
       "      <td>Braund, Mr. Owen Harris</td>\n",
       "      <td>male</td>\n",
       "      <td>22.0</td>\n",
       "      <td>1</td>\n",
       "      <td>0</td>\n",
       "      <td>A/5 21171</td>\n",
       "      <td>7.2500</td>\n",
       "      <td>NaN</td>\n",
       "      <td>S</td>\n",
       "    </tr>\n",
       "    <tr>\n",
       "      <th>1</th>\n",
       "      <td>2</td>\n",
       "      <td>1</td>\n",
       "      <td>1</td>\n",
       "      <td>Cumings, Mrs. John Bradley (Florence Briggs Th...</td>\n",
       "      <td>female</td>\n",
       "      <td>38.0</td>\n",
       "      <td>1</td>\n",
       "      <td>0</td>\n",
       "      <td>PC 17599</td>\n",
       "      <td>71.2833</td>\n",
       "      <td>C85</td>\n",
       "      <td>C</td>\n",
       "    </tr>\n",
       "    <tr>\n",
       "      <th>2</th>\n",
       "      <td>3</td>\n",
       "      <td>1</td>\n",
       "      <td>3</td>\n",
       "      <td>Heikkinen, Miss. Laina</td>\n",
       "      <td>female</td>\n",
       "      <td>26.0</td>\n",
       "      <td>0</td>\n",
       "      <td>0</td>\n",
       "      <td>STON/O2. 3101282</td>\n",
       "      <td>7.9250</td>\n",
       "      <td>NaN</td>\n",
       "      <td>S</td>\n",
       "    </tr>\n",
       "    <tr>\n",
       "      <th>3</th>\n",
       "      <td>4</td>\n",
       "      <td>1</td>\n",
       "      <td>1</td>\n",
       "      <td>Futrelle, Mrs. Jacques Heath (Lily May Peel)</td>\n",
       "      <td>female</td>\n",
       "      <td>35.0</td>\n",
       "      <td>1</td>\n",
       "      <td>0</td>\n",
       "      <td>113803</td>\n",
       "      <td>53.1000</td>\n",
       "      <td>C123</td>\n",
       "      <td>S</td>\n",
       "    </tr>\n",
       "    <tr>\n",
       "      <th>4</th>\n",
       "      <td>5</td>\n",
       "      <td>0</td>\n",
       "      <td>3</td>\n",
       "      <td>Allen, Mr. William Henry</td>\n",
       "      <td>male</td>\n",
       "      <td>35.0</td>\n",
       "      <td>0</td>\n",
       "      <td>0</td>\n",
       "      <td>373450</td>\n",
       "      <td>8.0500</td>\n",
       "      <td>NaN</td>\n",
       "      <td>S</td>\n",
       "    </tr>\n",
       "    <tr>\n",
       "      <th>5</th>\n",
       "      <td>6</td>\n",
       "      <td>0</td>\n",
       "      <td>3</td>\n",
       "      <td>Moran, Mr. James</td>\n",
       "      <td>male</td>\n",
       "      <td>NaN</td>\n",
       "      <td>0</td>\n",
       "      <td>0</td>\n",
       "      <td>330877</td>\n",
       "      <td>8.4583</td>\n",
       "      <td>NaN</td>\n",
       "      <td>Q</td>\n",
       "    </tr>\n",
       "    <tr>\n",
       "      <th>6</th>\n",
       "      <td>7</td>\n",
       "      <td>0</td>\n",
       "      <td>1</td>\n",
       "      <td>McCarthy, Mr. Timothy J</td>\n",
       "      <td>male</td>\n",
       "      <td>54.0</td>\n",
       "      <td>0</td>\n",
       "      <td>0</td>\n",
       "      <td>17463</td>\n",
       "      <td>51.8625</td>\n",
       "      <td>E46</td>\n",
       "      <td>S</td>\n",
       "    </tr>\n",
       "    <tr>\n",
       "      <th>7</th>\n",
       "      <td>8</td>\n",
       "      <td>0</td>\n",
       "      <td>3</td>\n",
       "      <td>Palsson, Master. Gosta Leonard</td>\n",
       "      <td>male</td>\n",
       "      <td>2.0</td>\n",
       "      <td>3</td>\n",
       "      <td>1</td>\n",
       "      <td>349909</td>\n",
       "      <td>21.0750</td>\n",
       "      <td>NaN</td>\n",
       "      <td>S</td>\n",
       "    </tr>\n",
       "    <tr>\n",
       "      <th>8</th>\n",
       "      <td>9</td>\n",
       "      <td>1</td>\n",
       "      <td>3</td>\n",
       "      <td>Johnson, Mrs. Oscar W (Elisabeth Vilhelmina Berg)</td>\n",
       "      <td>female</td>\n",
       "      <td>27.0</td>\n",
       "      <td>0</td>\n",
       "      <td>2</td>\n",
       "      <td>347742</td>\n",
       "      <td>11.1333</td>\n",
       "      <td>NaN</td>\n",
       "      <td>S</td>\n",
       "    </tr>\n",
       "    <tr>\n",
       "      <th>9</th>\n",
       "      <td>10</td>\n",
       "      <td>1</td>\n",
       "      <td>2</td>\n",
       "      <td>Nasser, Mrs. Nicholas (Adele Achem)</td>\n",
       "      <td>female</td>\n",
       "      <td>14.0</td>\n",
       "      <td>1</td>\n",
       "      <td>0</td>\n",
       "      <td>237736</td>\n",
       "      <td>30.0708</td>\n",
       "      <td>NaN</td>\n",
       "      <td>C</td>\n",
       "    </tr>\n",
       "  </tbody>\n",
       "</table>\n",
       "</div>"
      ],
      "text/plain": [
       "   PassengerId  Survived  Pclass  \\\n",
       "0            1         0       3   \n",
       "1            2         1       1   \n",
       "2            3         1       3   \n",
       "3            4         1       1   \n",
       "4            5         0       3   \n",
       "5            6         0       3   \n",
       "6            7         0       1   \n",
       "7            8         0       3   \n",
       "8            9         1       3   \n",
       "9           10         1       2   \n",
       "\n",
       "                                                Name     Sex   Age  SibSp  \\\n",
       "0                            Braund, Mr. Owen Harris    male  22.0      1   \n",
       "1  Cumings, Mrs. John Bradley (Florence Briggs Th...  female  38.0      1   \n",
       "2                             Heikkinen, Miss. Laina  female  26.0      0   \n",
       "3       Futrelle, Mrs. Jacques Heath (Lily May Peel)  female  35.0      1   \n",
       "4                           Allen, Mr. William Henry    male  35.0      0   \n",
       "5                                   Moran, Mr. James    male   NaN      0   \n",
       "6                            McCarthy, Mr. Timothy J    male  54.0      0   \n",
       "7                     Palsson, Master. Gosta Leonard    male   2.0      3   \n",
       "8  Johnson, Mrs. Oscar W (Elisabeth Vilhelmina Berg)  female  27.0      0   \n",
       "9                Nasser, Mrs. Nicholas (Adele Achem)  female  14.0      1   \n",
       "\n",
       "   Parch            Ticket     Fare Cabin Embarked  \n",
       "0      0         A/5 21171   7.2500   NaN        S  \n",
       "1      0          PC 17599  71.2833   C85        C  \n",
       "2      0  STON/O2. 3101282   7.9250   NaN        S  \n",
       "3      0            113803  53.1000  C123        S  \n",
       "4      0            373450   8.0500   NaN        S  \n",
       "5      0            330877   8.4583   NaN        Q  \n",
       "6      0             17463  51.8625   E46        S  \n",
       "7      1            349909  21.0750   NaN        S  \n",
       "8      2            347742  11.1333   NaN        S  \n",
       "9      0            237736  30.0708   NaN        C  "
      ]
     },
     "execution_count": 2,
     "metadata": {},
     "output_type": "execute_result"
    }
   ],
   "source": [
    "# Importar bibliotecas necessárias\n",
    "import pandas as pd\n",
    "import numpy as np\n",
    "import seaborn as sns\n",
    "\n",
    "# Ler e carregar a base de dados\n",
    "dados_treino = 'titanic_train.csv'\n",
    "treino_df = pd.read_csv(dados_treino)\n",
    "\n",
    "# Examinar a base de dados\n",
    "linhas, colunas = treino_df.shape # Extrair tamanho da base de dados\n",
    "print('A base de dados de treino possui {} linhas e {} colunas.'.format(linhas, colunas)) # Apresentar informação ao usuário\n",
    "\n",
    "treino_df.head(10) # Visualizar as 10 primeiras linhas da base de dados"
   ]
  },
  {
   "cell_type": "markdown",
   "metadata": {},
   "source": [
    "#### Etapa 02: Carregar Dados de Teste"
   ]
  },
  {
   "cell_type": "code",
   "execution_count": 3,
   "metadata": {},
   "outputs": [
    {
     "name": "stdout",
     "output_type": "stream",
     "text": [
      "A base de dados de teste possui 891 linhas e 12 colunas.\n"
     ]
    },
    {
     "data": {
      "text/html": [
       "<div>\n",
       "<style scoped>\n",
       "    .dataframe tbody tr th:only-of-type {\n",
       "        vertical-align: middle;\n",
       "    }\n",
       "\n",
       "    .dataframe tbody tr th {\n",
       "        vertical-align: top;\n",
       "    }\n",
       "\n",
       "    .dataframe thead th {\n",
       "        text-align: right;\n",
       "    }\n",
       "</style>\n",
       "<table border=\"1\" class=\"dataframe\">\n",
       "  <thead>\n",
       "    <tr style=\"text-align: right;\">\n",
       "      <th></th>\n",
       "      <th>PassengerId</th>\n",
       "      <th>Pclass</th>\n",
       "      <th>Name</th>\n",
       "      <th>Sex</th>\n",
       "      <th>Age</th>\n",
       "      <th>SibSp</th>\n",
       "      <th>Parch</th>\n",
       "      <th>Ticket</th>\n",
       "      <th>Fare</th>\n",
       "      <th>Cabin</th>\n",
       "      <th>Embarked</th>\n",
       "    </tr>\n",
       "  </thead>\n",
       "  <tbody>\n",
       "    <tr>\n",
       "      <th>0</th>\n",
       "      <td>892</td>\n",
       "      <td>3</td>\n",
       "      <td>Kelly, Mr. James</td>\n",
       "      <td>male</td>\n",
       "      <td>34.5</td>\n",
       "      <td>0</td>\n",
       "      <td>0</td>\n",
       "      <td>330911</td>\n",
       "      <td>7.8292</td>\n",
       "      <td>NaN</td>\n",
       "      <td>Q</td>\n",
       "    </tr>\n",
       "    <tr>\n",
       "      <th>1</th>\n",
       "      <td>893</td>\n",
       "      <td>3</td>\n",
       "      <td>Wilkes, Mrs. James (Ellen Needs)</td>\n",
       "      <td>female</td>\n",
       "      <td>47.0</td>\n",
       "      <td>1</td>\n",
       "      <td>0</td>\n",
       "      <td>363272</td>\n",
       "      <td>7.0000</td>\n",
       "      <td>NaN</td>\n",
       "      <td>S</td>\n",
       "    </tr>\n",
       "    <tr>\n",
       "      <th>2</th>\n",
       "      <td>894</td>\n",
       "      <td>2</td>\n",
       "      <td>Myles, Mr. Thomas Francis</td>\n",
       "      <td>male</td>\n",
       "      <td>62.0</td>\n",
       "      <td>0</td>\n",
       "      <td>0</td>\n",
       "      <td>240276</td>\n",
       "      <td>9.6875</td>\n",
       "      <td>NaN</td>\n",
       "      <td>Q</td>\n",
       "    </tr>\n",
       "    <tr>\n",
       "      <th>3</th>\n",
       "      <td>895</td>\n",
       "      <td>3</td>\n",
       "      <td>Wirz, Mr. Albert</td>\n",
       "      <td>male</td>\n",
       "      <td>27.0</td>\n",
       "      <td>0</td>\n",
       "      <td>0</td>\n",
       "      <td>315154</td>\n",
       "      <td>8.6625</td>\n",
       "      <td>NaN</td>\n",
       "      <td>S</td>\n",
       "    </tr>\n",
       "    <tr>\n",
       "      <th>4</th>\n",
       "      <td>896</td>\n",
       "      <td>3</td>\n",
       "      <td>Hirvonen, Mrs. Alexander (Helga E Lindqvist)</td>\n",
       "      <td>female</td>\n",
       "      <td>22.0</td>\n",
       "      <td>1</td>\n",
       "      <td>1</td>\n",
       "      <td>3101298</td>\n",
       "      <td>12.2875</td>\n",
       "      <td>NaN</td>\n",
       "      <td>S</td>\n",
       "    </tr>\n",
       "    <tr>\n",
       "      <th>5</th>\n",
       "      <td>897</td>\n",
       "      <td>3</td>\n",
       "      <td>Svensson, Mr. Johan Cervin</td>\n",
       "      <td>male</td>\n",
       "      <td>14.0</td>\n",
       "      <td>0</td>\n",
       "      <td>0</td>\n",
       "      <td>7538</td>\n",
       "      <td>9.2250</td>\n",
       "      <td>NaN</td>\n",
       "      <td>S</td>\n",
       "    </tr>\n",
       "    <tr>\n",
       "      <th>6</th>\n",
       "      <td>898</td>\n",
       "      <td>3</td>\n",
       "      <td>Connolly, Miss. Kate</td>\n",
       "      <td>female</td>\n",
       "      <td>30.0</td>\n",
       "      <td>0</td>\n",
       "      <td>0</td>\n",
       "      <td>330972</td>\n",
       "      <td>7.6292</td>\n",
       "      <td>NaN</td>\n",
       "      <td>Q</td>\n",
       "    </tr>\n",
       "    <tr>\n",
       "      <th>7</th>\n",
       "      <td>899</td>\n",
       "      <td>2</td>\n",
       "      <td>Caldwell, Mr. Albert Francis</td>\n",
       "      <td>male</td>\n",
       "      <td>26.0</td>\n",
       "      <td>1</td>\n",
       "      <td>1</td>\n",
       "      <td>248738</td>\n",
       "      <td>29.0000</td>\n",
       "      <td>NaN</td>\n",
       "      <td>S</td>\n",
       "    </tr>\n",
       "    <tr>\n",
       "      <th>8</th>\n",
       "      <td>900</td>\n",
       "      <td>3</td>\n",
       "      <td>Abrahim, Mrs. Joseph (Sophie Halaut Easu)</td>\n",
       "      <td>female</td>\n",
       "      <td>18.0</td>\n",
       "      <td>0</td>\n",
       "      <td>0</td>\n",
       "      <td>2657</td>\n",
       "      <td>7.2292</td>\n",
       "      <td>NaN</td>\n",
       "      <td>C</td>\n",
       "    </tr>\n",
       "    <tr>\n",
       "      <th>9</th>\n",
       "      <td>901</td>\n",
       "      <td>3</td>\n",
       "      <td>Davies, Mr. John Samuel</td>\n",
       "      <td>male</td>\n",
       "      <td>21.0</td>\n",
       "      <td>2</td>\n",
       "      <td>0</td>\n",
       "      <td>A/4 48871</td>\n",
       "      <td>24.1500</td>\n",
       "      <td>NaN</td>\n",
       "      <td>S</td>\n",
       "    </tr>\n",
       "  </tbody>\n",
       "</table>\n",
       "</div>"
      ],
      "text/plain": [
       "   PassengerId  Pclass                                          Name     Sex  \\\n",
       "0          892       3                              Kelly, Mr. James    male   \n",
       "1          893       3              Wilkes, Mrs. James (Ellen Needs)  female   \n",
       "2          894       2                     Myles, Mr. Thomas Francis    male   \n",
       "3          895       3                              Wirz, Mr. Albert    male   \n",
       "4          896       3  Hirvonen, Mrs. Alexander (Helga E Lindqvist)  female   \n",
       "5          897       3                    Svensson, Mr. Johan Cervin    male   \n",
       "6          898       3                          Connolly, Miss. Kate  female   \n",
       "7          899       2                  Caldwell, Mr. Albert Francis    male   \n",
       "8          900       3     Abrahim, Mrs. Joseph (Sophie Halaut Easu)  female   \n",
       "9          901       3                       Davies, Mr. John Samuel    male   \n",
       "\n",
       "    Age  SibSp  Parch     Ticket     Fare Cabin Embarked  \n",
       "0  34.5      0      0     330911   7.8292   NaN        Q  \n",
       "1  47.0      1      0     363272   7.0000   NaN        S  \n",
       "2  62.0      0      0     240276   9.6875   NaN        Q  \n",
       "3  27.0      0      0     315154   8.6625   NaN        S  \n",
       "4  22.0      1      1    3101298  12.2875   NaN        S  \n",
       "5  14.0      0      0       7538   9.2250   NaN        S  \n",
       "6  30.0      0      0     330972   7.6292   NaN        Q  \n",
       "7  26.0      1      1     248738  29.0000   NaN        S  \n",
       "8  18.0      0      0       2657   7.2292   NaN        C  \n",
       "9  21.0      2      0  A/4 48871  24.1500   NaN        S  "
      ]
     },
     "execution_count": 3,
     "metadata": {},
     "output_type": "execute_result"
    }
   ],
   "source": [
    "# Ler e carregar a base de dados\n",
    "dados_teste = 'titanic_test.csv'\n",
    "teste_df = pd.read_csv(dados_teste)\n",
    "\n",
    "# Examinar a base de dados\n",
    "linhas, colunas = treino_df.shape # Extrair tamanho da base de dados\n",
    "print('A base de dados de teste possui {} linhas e {} colunas.'.format(linhas, colunas)) # Apresentar informação ao usuário\n",
    "\n",
    "teste_df.head(10) # Visualizar as 10 primeiras linhas da base de dados"
   ]
  },
  {
   "cell_type": "markdown",
   "metadata": {},
   "source": [
    "#### Etapa 03: Verificar a Influência do Gênero da Pessoa na sua Chance de Sobrevivênvia ao Naufrágio"
   ]
  },
  {
   "cell_type": "code",
   "execution_count": 38,
   "metadata": {},
   "outputs": [
    {
     "name": "stdout",
     "output_type": "stream",
     "text": [
      "O percentual de mulheres que sobreviveram ao naufrágio é de 74.20%.\n",
      "O percentual de homens que sobreviveram ao naufrágio é de 18.89%.\n"
     ]
    }
   ],
   "source": [
    "women = treino_df.loc[treino_df.Sex == 'female']['Survived'] # Selecionar as linhas onde os passageiros são do sexo feminino\n",
    "men = treino_df.loc[treino_df.Sex == 'male']['Survived'] # Selecionar as linhas onde os passageiros são do sexo masculino\n",
    "rate_women = sum(women)/len(women) # Taxa de sobrevivência entre as mulheres\n",
    "rate_men = sum(men)/len(men) # Taxa de sobrevivência entre os homens\n",
    "\n",
    "# Apresenta ao usuário\n",
    "print('O percentual de mulheres que sobreviveram ao naufrágio é de {:.2%}.'.format(rate_women))\n",
    "print('O percentual de homens que sobreviveram ao naufrágio é de {:.2%}.'.format(rate_men))"
   ]
  },
  {
   "cell_type": "code",
   "execution_count": 99,
   "metadata": {},
   "outputs": [
    {
     "data": {
      "image/png": "[encoded data removed]",
      "text/plain": [
       "<Figure size 432x288 with 1 Axes>"
      ]
     },
     "metadata": {},
     "output_type": "display_data"
    }
   ],
   "source": [
    "# sns.set(style = 'darkgrid')\n",
    "sns.countplot(x = 'Survived', data = treino_df, hue = 'Sex', palette = 'brg');"
   ]
  },
  {
   "cell_type": "markdown",
   "metadata": {},
   "source": [
    "#### Etapa 04: Verificar a Influência da Classe de Viagem da Pessoa na sua Chance de Sobrevivênvia ao Naufrágio"
   ]
  },
  {
   "cell_type": "code",
   "execution_count": 39,
   "metadata": {},
   "outputs": [
    {
     "name": "stdout",
     "output_type": "stream",
     "text": [
      "O percentual de passageiros da 1ª classe que sobreviveram ao naufrágio é de 62.96%.\n",
      "O percentual de passageiros da 2ª classe que sobreviveram ao naufrágio é de 47.28%.\n",
      "O percentual de passageiros da 3ª classe que sobreviveram ao naufrágio é de 24.24%.\n"
     ]
    }
   ],
   "source": [
    "first_class = treino_df.loc[treino_df.Pclass == 1]['Survived'] # Selecionar as linhas onde os passageiros são 1ª classe\n",
    "second_class = treino_df.loc[treino_df.Pclass == 2]['Survived'] # Selecionar as linhas onde os passageiros são 2ª classe\n",
    "third_class = treino_df.loc[treino_df.Pclass == 3]['Survived'] # Selecionar as linhas onde os passageiros são 3ª classe\n",
    "rate_1class = sum(first_class)/len(first_class) # Taxa de sobrevivência da 1ª classe\n",
    "rate_2class = sum(second_class)/len(second_class) # Taxa de sobrevivência da 2ª classe\n",
    "rate_3class = sum(third_class)/len(third_class) # Taxa de sobrevivência da 3ª classe\n",
    "\n",
    "# Apresenta ao usuário\n",
    "print('O percentual de passageiros da 1ª classe que sobreviveram ao naufrágio é de {:.2%}.'.format(rate_1class))\n",
    "print('O percentual de passageiros da 2ª classe que sobreviveram ao naufrágio é de {:.2%}.'.format(rate_2class))\n",
    "print('O percentual de passageiros da 3ª classe que sobreviveram ao naufrágio é de {:.2%}.'.format(rate_3class))"
   ]
  },
  {
   "cell_type": "code",
   "execution_count": 98,
   "metadata": {},
   "outputs": [
    {
     "data": {
      "image/png": "[encoded data removed]",
      "text/plain": [
       "<Figure size 432x288 with 1 Axes>"
      ]
     },
     "metadata": {},
     "output_type": "display_data"
    }
   ],
   "source": [
    "# sns.set(style = 'darkgrid')\n",
    "sns.countplot(x = 'Survived', data = treino_df, hue = 'Pclass', palette = 'Set1');"
   ]
  },
  {
   "cell_type": "markdown",
   "metadata": {},
   "source": [
    "#### Etapa 05: Verificar a Influência do Local de Embarque da Pessoa na sua Chance de Sobrevivênvia ao Naufrágio"
   ]
  },
  {
   "cell_type": "code",
   "execution_count": 40,
   "metadata": {},
   "outputs": [
    {
     "name": "stdout",
     "output_type": "stream",
     "text": [
      "O percentual de passageiros embarcados em Queenstown que sobreviveram ao naufrágio é de 38.96%.\n",
      "O percentual de passageiros embarcados em Cherbourg que sobreviveram ao naufrágio é de 55.36%.\n",
      "O percentual de passageiros embarcados em Southampton que sobreviveram ao naufrágio é de 33.70%.\n"
     ]
    }
   ],
   "source": [
    "queenstown = treino_df.loc[treino_df.Embarked == 'Q']['Survived'] # Selecionar as linhas onde os passageiros são de Queenstown\n",
    "cherbourg = treino_df.loc[treino_df.Embarked == 'C']['Survived'] # Selecionar as linhas onde os passageiros são de Cherbourg\n",
    "southampton = treino_df.loc[treino_df.Embarked == 'S']['Survived'] # Selecionar as linhas onde os passageiros são de Southampton\n",
    "rate_Q = sum(queenstown)/len(queenstown) # Taxa de sobrevivência dos embarcados em Queenstown\n",
    "rate_C = sum(cherbourg)/len(cherbourg) # Taxa de sobrevivência dos embarcados em Cherbourg\n",
    "rate_S = sum(southampton)/len(southampton) # Taxa de sobrevivência dos embarcados em Southampton\n",
    "\n",
    "# Apresenta ao usuário\n",
    "print('O percentual de passageiros embarcados em Queenstown que sobreviveram ao naufrágio é de {:.2%}.'.format(rate_Q))\n",
    "print('O percentual de passageiros embarcados em Cherbourg que sobreviveram ao naufrágio é de {:.2%}.'.format(rate_C))\n",
    "print('O percentual de passageiros embarcados em Southampton que sobreviveram ao naufrágio é de {:.2%}.'.format(rate_S))"
   ]
  },
  {
   "cell_type": "code",
   "execution_count": 82,
   "metadata": {},
   "outputs": [
    {
     "data": {
      "image/png": "[encoded data removed]",
      "text/plain": [
       "<Figure size 432x288 with 1 Axes>"
      ]
     },
     "metadata": {},
     "output_type": "display_data"
    }
   ],
   "source": [
    "# sns.set(style = 'darkgrid')\n",
    "sns.countplot(x = 'Survived', data = treino_df, hue = 'Embarked', palette = 'viridis');"
   ]
  },
  {
   "cell_type": "markdown",
   "metadata": {},
   "source": [
    "#### Etapa 06: Diferentes Topologias de Machine Learning para Classificador Random Forest"
   ]
  },
  {
   "cell_type": "markdown",
   "metadata": {},
   "source": [
    "#### Introdução\n",
    "\n",
    "As árvores de decisão (**decision trees**) deixam você com uma decisão difícil. Uma árvore profunda com muitas folhas se ajustará demais porque cada previsão vem de dados históricos de apenas algumas casas em sua folha. Mas uma árvore rasa com poucas folhas terá um desempenho ruim porque não consegue capturar tantas distinções nos dados brutos.\n",
    "\n",
    "Mesmo as técnicas de modelagem mais sofisticadas de hoje enfrentam essa tensão entre underfitting e overfitting. Porém, muitos modelos têm ideias inteligentes que podem levar a um melhor desempenho. Veremos a floresta aleatória (**random forest**) como exemplo.\n",
    "\n",
    "A floresta aleatória (**random forest**) usa muitas árvores e faz uma previsão calculando a média das previsões de cada árvore componente. Geralmente, tem uma precisão preditiva muito melhor do que uma única árvore de decisão (**decision tree**) e funciona bem com os parâmetros padrão. Se você continuar modelando, poderá aprender mais modelos com desempenho ainda melhor, mas muitos deles são sensíveis à obtenção dos parâmetros corretos."
   ]
  },
  {
   "cell_type": "code",
   "execution_count": 4,
   "metadata": {},
   "outputs": [
    {
     "name": "stdout",
     "output_type": "stream",
     "text": [
      "Sua submissão foi salva com sucesso!\n",
      "Esse modelo alcançou uma pontuação pública na plataforma Kaggle igual a 0.77511 em uma escala de 0 (zero) a 1 (um).\n"
     ]
    }
   ],
   "source": [
    "# Importar bibliotecas necessárias\n",
    "from sklearn.ensemble import RandomForestClassifier\n",
    "\n",
    "# Definir dados de entrada e saída do modelo a ser treinado\n",
    "y = treino_df['Survived'] # Saída do modelo\n",
    "features = ['Pclass', 'Sex', 'SibSp', 'Parch'] # Características usadas como entrada do modelo\n",
    "X_treino = pd.get_dummies(treino_df[features]) # Dados de treino\n",
    "X_teste = pd.get_dummies(teste_df[features]) # Dados de teste\n",
    "\n",
    "# Definir estrutura e parâmetros de um classificador Random Forest\n",
    "model = RandomForestClassifier(n_estimators = 100, max_depth = 5, random_state = 1) # Modelo definido\n",
    "model.fit(X_treino, y) # Treinar modelo com os dados de treino\n",
    "predictions = model.predict(X_teste) # Predições do modelo já treinado para os dados de teste\n",
    "\n",
    "# Exportar as predições do modelo na forma de um Dataframe\n",
    "output = pd.DataFrame({'PassengerId': teste_df.PassengerId, 'Survived': predictions})\n",
    "output.to_csv('submission.csv', index = False) # Salvar arquivo CSV no computador\n",
    "print(\"Sua submissão foi salva com sucesso!\")\n",
    "print('Esse modelo alcançou uma pontuação pública na plataforma Kaggle igual a 0.77511 em uma escala de 0 (zero) a 1 (um).')"
   ]
  },
  {
   "cell_type": "code",
   "execution_count": 5,
   "metadata": {},
   "outputs": [
    {
     "name": "stdout",
     "output_type": "stream",
     "text": [
      "Sua submissão foi salva com sucesso!\n",
      "Esse modelo alcançou uma pontuação pública na plataforma Kaggle igual a 0.77751 em uma escala de 0 (zero) a 1 (um).\n"
     ]
    }
   ],
   "source": [
    "# Definir dados de entrada e saída do modelo a ser treinado\n",
    "y = treino_df['Survived'] # Saída do modelo\n",
    "features = ['Pclass', 'Sex', 'SibSp', 'Parch'] # Características usadas como entrada do modelo\n",
    "X_treino = pd.get_dummies(treino_df[features]) # Dados de treino\n",
    "X_teste = pd.get_dummies(teste_df[features]) # Dados de teste\n",
    "\n",
    "# Definir estrutura e parâmetros de um classificador Random Forest\n",
    "model = RandomForestClassifier(n_estimators = 50, max_depth = 5, random_state = 1) # Modelo definido\n",
    "model.fit(X_treino, y) # Treinar modelo com os dados de treino\n",
    "predictions = model.predict(X_teste) # Predições do modelo já treinado para os dados de teste\n",
    "\n",
    "# Exportar as predições do modelo na forma de um Dataframe\n",
    "output = pd.DataFrame({'PassengerId': teste_df.PassengerId, 'Survived': predictions})\n",
    "output.to_csv('submission.csv', index = False) # Salvar arquivo CSV no computador\n",
    "print(\"Sua submissão foi salva com sucesso!\")\n",
    "print('Esse modelo alcançou uma pontuação pública na plataforma Kaggle igual a 0.77751 em uma escala de 0 (zero) a 1 (um).')"
   ]
  },
  {
   "cell_type": "markdown",
   "metadata": {},
   "source": [
    "#### Etapa 07: Diferentes Topologias de Machine Learning para Classificador XGBoost"
   ]
  },
  {
   "cell_type": "code",
   "execution_count": 9,
   "metadata": {},
   "outputs": [
    {
     "name": "stdout",
     "output_type": "stream",
     "text": [
      "Sua submissão foi salva com sucesso!\n",
      "Esse modelo alcançou uma pontuação pública na plataforma Kaggle igual a 0.77990 em uma escala de 0 (zero) a 1 (um).\n"
     ]
    }
   ],
   "source": [
    "# Importar bibliotecas necessárias\n",
    "from xgboost import XGBClassifier\n",
    "\n",
    "# Definir dados de entrada e saída do modelo a ser treinado\n",
    "y = treino_df['Survived'] # Saída do modelo\n",
    "features = ['Pclass', 'Sex', 'SibSp', 'Parch'] # Características usadas como entrada do modelo\n",
    "X_treino = pd.get_dummies(treino_df[features]) # Dados de treino\n",
    "X_teste = pd.get_dummies(teste_df[features]) # Dados de teste\n",
    "\n",
    "# Definir estrutura e parâmetros de um classificador XGBoost\n",
    "model = XGBClassifier(max_depth = 3, learning_rate = 0.1, n_estimators = 500, eval_metric = 'logloss') # Modelo definido\n",
    "model.fit(X_treino, y) # Treinar modelo com os dados de treino\n",
    "predictions = model.predict(X_teste) # Predições do modelo já treinado para os dados de teste\n",
    "\n",
    "# Exportar as predições do modelo na forma de um Dataframe\n",
    "output = pd.DataFrame({'PassengerId': teste_df.PassengerId, 'Survived': predictions})\n",
    "output.to_csv('submission.csv', index = False) # Salvar arquivo CSV no computador\n",
    "print(\"Sua submissão foi salva com sucesso!\")\n",
    "print('Esse modelo alcançou uma pontuação pública na plataforma Kaggle igual a 0.77990 em uma escala de 0 (zero) a 1 (um).')"
   ]
  },
  {
   "cell_type": "code",
   "execution_count": 10,
   "metadata": {},
   "outputs": [
    {
     "name": "stdout",
     "output_type": "stream",
     "text": [
      "Sua submissão foi salva com sucesso!\n",
      "Esse modelo alcançou uma pontuação pública na plataforma Kaggle igual a 0.77990 em uma escala de 0 (zero) a 1 (um).\n"
     ]
    }
   ],
   "source": [
    "# Definir dados de entrada e saída do modelo a ser treinado\n",
    "y = treino_df['Survived'] # Saída do modelo\n",
    "features = ['Pclass', 'Sex', 'SibSp', 'Parch'] # Características usadas como entrada do modelo\n",
    "X_treino = pd.get_dummies(treino_df[features]) # Dados de treino\n",
    "X_teste = pd.get_dummies(teste_df[features]) # Dados de teste\n",
    "\n",
    "# Definir estrutura e parâmetros de um classificador XGBoost\n",
    "model = XGBClassifier(max_depth = 5, learning_rate = 0.1, n_estimators = 500, eval_metric = 'logloss') # Modelo definido\n",
    "model.fit(X_treino, y) # Treinar modelo com os dados de treino\n",
    "predictions = model.predict(X_teste) # Predições do modelo já treinado para os dados de teste\n",
    "\n",
    "# Exportar as predições do modelo na forma de um Dataframe\n",
    "output = pd.DataFrame({'PassengerId': teste_df.PassengerId, 'Survived': predictions})\n",
    "output.to_csv('submission.csv', index = False) # Salvar arquivo CSV no computador\n",
    "print(\"Sua submissão foi salva com sucesso!\")\n",
    "print('Esse modelo alcançou uma pontuação pública na plataforma Kaggle igual a 0.77990 em uma escala de 0 (zero) a 1 (um).')"
   ]
  }
 ],
 "metadata": {
  "kernelspec": {
   "display_name": "Python 3",
   "language": "python",
   "name": "python3"
  },
  "language_info": {
   "codemirror_mode": {
    "name": "ipython",
    "version": 3
   },
   "file_extension": ".py",
   "mimetype": "text/x-python",
   "name": "python",
   "nbconvert_exporter": "python",
   "pygments_lexer": "ipython3",
   "version": "3.8.3"
  }
 },
 "nbformat": 4,
 "nbformat_minor": 4
}
