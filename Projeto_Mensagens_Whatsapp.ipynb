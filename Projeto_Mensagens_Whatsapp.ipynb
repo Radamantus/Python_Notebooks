{
 "cells": [
  {
   "cell_type": "markdown",
   "metadata": {},
   "source": [
    "# Objetivo: Enviar mensagem para várias pessoas ou grupos automaticamente"
   ]
  },
  {
   "cell_type": "markdown",
   "metadata": {},
   "source": [
    "### Cuidados!\n",
    "\n",
    "1. Whatsapp não gosta de nenhum tipo de automação\n",
    "2. Isso pode dar merda, já to avisando\n",
    "3. Isso não é o uso da API oficial do Whatsapp, o próprio whatsapp tem uma API oficial. Se o seu objetivo é fazer envio em massa ou criar aqueles robozinhos que respondem automaticamente no whatsapp, então use a API oficial\n",
    "4. Meu objetivo é 100% educacional"
   ]
  },
  {
   "cell_type": "markdown",
   "metadata": {},
   "source": [
    "### Dito isso, bora automatizar o envio de mensagens no Whatsapp\n",
    "\n",
    "- Vamos usar o Selenium (vídeo da configuração na descrição)\n",
    "- Temos 1 ferramenta muito boa alternativas:\n",
    "    - Usar o wa.me (mais fácil, mais seguro, mas mais demorado)"
   ]
  },
  {
   "cell_type": "code",
   "execution_count": 1,
   "metadata": {},
   "outputs": [
    {
     "data": {
      "text/html": [
       "<div>\n",
       "<style scoped>\n",
       "    .dataframe tbody tr th:only-of-type {\n",
       "        vertical-align: middle;\n",
       "    }\n",
       "\n",
       "    .dataframe tbody tr th {\n",
       "        vertical-align: top;\n",
       "    }\n",
       "\n",
       "    .dataframe thead th {\n",
       "        text-align: right;\n",
       "    }\n",
       "</style>\n",
       "<table border=\"1\" class=\"dataframe\">\n",
       "  <thead>\n",
       "    <tr style=\"text-align: right;\">\n",
       "      <th></th>\n",
       "      <th>Pessoa</th>\n",
       "      <th>Celular</th>\n",
       "      <th>Mensagem</th>\n",
       "    </tr>\n",
       "  </thead>\n",
       "  <tbody>\n",
       "    <tr>\n",
       "      <th>0</th>\n",
       "      <td>Claude</td>\n",
       "      <td>5591981263287</td>\n",
       "      <td>mandei essa mensagem com python!</td>\n",
       "    </tr>\n",
       "    <tr>\n",
       "      <th>1</th>\n",
       "      <td>Jamjam</td>\n",
       "      <td>5591983777814</td>\n",
       "      <td>saudades do meu xuxuleco!</td>\n",
       "    </tr>\n",
       "    <tr>\n",
       "      <th>2</th>\n",
       "      <td>Tadeuzin</td>\n",
       "      <td>5591991630528</td>\n",
       "      <td>consegui enviar a mensagem pelo python.</td>\n",
       "    </tr>\n",
       "    <tr>\n",
       "      <th>3</th>\n",
       "      <td>Puto</td>\n",
       "      <td>5591980331550</td>\n",
       "      <td>tô  enviando essa mensagem usando python.</td>\n",
       "    </tr>\n",
       "  </tbody>\n",
       "</table>\n",
       "</div>"
      ],
      "text/plain": [
       "     Pessoa        Celular                                   Mensagem\n",
       "0    Claude  5591981263287           mandei essa mensagem com python!\n",
       "1    Jamjam  5591983777814                  saudades do meu xuxuleco!\n",
       "2  Tadeuzin  5591991630528    consegui enviar a mensagem pelo python.\n",
       "3      Puto  5591980331550  tô  enviando essa mensagem usando python."
      ]
     },
     "metadata": {},
     "output_type": "display_data"
    }
   ],
   "source": [
    "# Algoritmo para enviar mensagens automáticas via WhatsApp\n",
    "import pandas as pd\n",
    "\n",
    "contatos_df = pd.read_excel(\"Lista de Contatos.xlsx\") #  Acessar planilha do excel\n",
    "display(contatos_df) # Imprimir para o usuário"
   ]
  },
  {
   "cell_type": "code",
   "execution_count": 3,
   "metadata": {},
   "outputs": [
    {
     "name": "stdout",
     "output_type": "stream",
     "text": [
      "Mensagens enviadas no WhatsApp para 3 contatos.\n"
     ]
    }
   ],
   "source": [
    "from selenium import webdriver\n",
    "from selenium.webdriver.common.keys import Keys\n",
    "import time\n",
    "import urllib\n",
    "\n",
    "navegador = webdriver.Chrome() # Configurar chrome como navegador\n",
    "navegador.get(\"https://web.whatsapp.com/\") #  Acessar o link\n",
    "\n",
    "while len(navegador.find_elements_by_id(\"side\")) < 1: #  Esperar o link acessado carregar\n",
    "    time.sleep(1) # Esperar um segundo\n",
    "\n",
    "# Laço para enviar as mensagens para cada contato na planilha excel\n",
    "for i, mensagem in enumerate(contatos_df['Mensagem']):\n",
    "    pessoa = contatos_df.loc[i, \"Pessoa\"]\n",
    "    numero = contatos_df.loc[i, \"Celular\"]\n",
    "    texto = urllib.parse.quote(f\"Oi {pessoa}, {mensagem}\") #  Codificar texto para ser enviado\n",
    "    link = f\"https://web.whatsapp.com/send?phone={numero}&text={texto}\" #  Link para cada conversa\n",
    "    navegador.get(link)\n",
    "    while len(navegador.find_elements_by_id(\"side\")) < 1:\n",
    "        time.sleep(2) #  Espera 2 segundos\n",
    "    navegador.find_element_by_xpath('//*[@id=\"main\"]/footer/div[1]/div[2]/div/div[2]').send_keys(Keys.ENTER) # Envia a mensagem\n",
    "    time.sleep(10) #  Espera 10 segundos\n",
    "\n",
    "navegador.quit() #  Fechar o navegador\n",
    "print(f'Mensagens enviadas no WhatsApp para {i+1} contatos.') #  Imprime para o usuário"
   ]
  }
 ],
 "metadata": {
  "kernelspec": {
   "display_name": "Python 3",
   "language": "python",
   "name": "python3"
  },
  "language_info": {
   "codemirror_mode": {
    "name": "ipython",
    "version": 3
   },
   "file_extension": ".py",
   "mimetype": "text/x-python",
   "name": "python",
   "nbconvert_exporter": "python",
   "pygments_lexer": "ipython3",
   "version": "3.8.3"
  }
 },
 "nbformat": 4,
 "nbformat_minor": 4
}
