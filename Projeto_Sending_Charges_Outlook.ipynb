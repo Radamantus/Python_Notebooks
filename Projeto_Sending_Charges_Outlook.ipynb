{
 "cells": [
  {
   "cell_type": "markdown",
   "metadata": {},
   "source": [
    "#### Importar Bibliotecas Necessárias"
   ]
  },
  {
   "cell_type": "code",
   "execution_count": 1,
   "metadata": {},
   "outputs": [],
   "source": [
    "# Importando bibliotecas necessárias\n",
    "import win32com.client as client\n",
    "import pandas as pd\n",
    "import datetime as dt"
   ]
  },
  {
   "cell_type": "markdown",
   "metadata": {},
   "source": [
    "#### Ler e Carregar a Base de Dados"
   ]
  },
  {
   "cell_type": "code",
   "execution_count": 2,
   "metadata": {
    "scrolled": true
   },
   "outputs": [
    {
     "name": "stdout",
     "output_type": "stream",
     "text": [
      "A base de dados possui 200 linhas e 6 colunas.\n"
     ]
    },
    {
     "data": {
      "text/html": [
       "<div>\n",
       "<style scoped>\n",
       "    .dataframe tbody tr th:only-of-type {\n",
       "        vertical-align: middle;\n",
       "    }\n",
       "\n",
       "    .dataframe tbody tr th {\n",
       "        vertical-align: top;\n",
       "    }\n",
       "\n",
       "    .dataframe thead th {\n",
       "        text-align: right;\n",
       "    }\n",
       "</style>\n",
       "<table border=\"1\" class=\"dataframe\">\n",
       "  <thead>\n",
       "    <tr style=\"text-align: right;\">\n",
       "      <th></th>\n",
       "      <th>CPF</th>\n",
       "      <th>Valor em Aberto</th>\n",
       "      <th>Data para Pagamento</th>\n",
       "      <th>Status</th>\n",
       "      <th>E-mail</th>\n",
       "      <th>NF</th>\n",
       "    </tr>\n",
       "  </thead>\n",
       "  <tbody>\n",
       "    <tr>\n",
       "      <th>0</th>\n",
       "      <td>44204824413</td>\n",
       "      <td>1195</td>\n",
       "      <td>2022-01-23</td>\n",
       "      <td>Pago</td>\n",
       "      <td>meuclientedevedor@gmail.com</td>\n",
       "      <td>197</td>\n",
       "    </tr>\n",
       "    <tr>\n",
       "      <th>1</th>\n",
       "      <td>27333842934</td>\n",
       "      <td>1670</td>\n",
       "      <td>2022-01-26</td>\n",
       "      <td>Em aberto</td>\n",
       "      <td>meuclientedevedor+1@gmail.com</td>\n",
       "      <td>177</td>\n",
       "    </tr>\n",
       "    <tr>\n",
       "      <th>2</th>\n",
       "      <td>27337412934</td>\n",
       "      <td>1345</td>\n",
       "      <td>2022-01-12</td>\n",
       "      <td>Em aberto</td>\n",
       "      <td>meuclientedevedor+2@gmail.com</td>\n",
       "      <td>133</td>\n",
       "    </tr>\n",
       "    <tr>\n",
       "      <th>3</th>\n",
       "      <td>53713111219</td>\n",
       "      <td>1372</td>\n",
       "      <td>2022-01-24</td>\n",
       "      <td>Em aberto</td>\n",
       "      <td>meuclientedevedor+3@gmail.com</td>\n",
       "      <td>155</td>\n",
       "    </tr>\n",
       "    <tr>\n",
       "      <th>4</th>\n",
       "      <td>17537122867</td>\n",
       "      <td>1718</td>\n",
       "      <td>2022-01-31</td>\n",
       "      <td>Pago</td>\n",
       "      <td>meuclientedevedor+4@gmail.com</td>\n",
       "      <td>149</td>\n",
       "    </tr>\n",
       "    <tr>\n",
       "      <th>...</th>\n",
       "      <td>...</td>\n",
       "      <td>...</td>\n",
       "      <td>...</td>\n",
       "      <td>...</td>\n",
       "      <td>...</td>\n",
       "      <td>...</td>\n",
       "    </tr>\n",
       "    <tr>\n",
       "      <th>195</th>\n",
       "      <td>26130190204</td>\n",
       "      <td>1060</td>\n",
       "      <td>2022-01-19</td>\n",
       "      <td>Pago</td>\n",
       "      <td>meuclientedevedor+195@gmail.com</td>\n",
       "      <td>134</td>\n",
       "    </tr>\n",
       "    <tr>\n",
       "      <th>196</th>\n",
       "      <td>50695164206</td>\n",
       "      <td>1587</td>\n",
       "      <td>2022-01-21</td>\n",
       "      <td>Pago</td>\n",
       "      <td>meuclientedevedor+196@gmail.com</td>\n",
       "      <td>117</td>\n",
       "    </tr>\n",
       "    <tr>\n",
       "      <th>197</th>\n",
       "      <td>68885370313</td>\n",
       "      <td>1842</td>\n",
       "      <td>2022-01-15</td>\n",
       "      <td>Pago</td>\n",
       "      <td>meuclientedevedor+197@gmail.com</td>\n",
       "      <td>107</td>\n",
       "    </tr>\n",
       "    <tr>\n",
       "      <th>198</th>\n",
       "      <td>58701953352</td>\n",
       "      <td>1604</td>\n",
       "      <td>2022-01-20</td>\n",
       "      <td>Pago</td>\n",
       "      <td>meuclientedevedor+198@gmail.com</td>\n",
       "      <td>116</td>\n",
       "    </tr>\n",
       "    <tr>\n",
       "      <th>199</th>\n",
       "      <td>28986124401</td>\n",
       "      <td>1738</td>\n",
       "      <td>2022-01-27</td>\n",
       "      <td>Pago</td>\n",
       "      <td>meuclientedevedor+199@gmail.com</td>\n",
       "      <td>113</td>\n",
       "    </tr>\n",
       "  </tbody>\n",
       "</table>\n",
       "<p>200 rows × 6 columns</p>\n",
       "</div>"
      ],
      "text/plain": [
       "             CPF  Valor em Aberto Data para Pagamento     Status  \\\n",
       "0    44204824413             1195          2022-01-23       Pago   \n",
       "1    27333842934             1670          2022-01-26  Em aberto   \n",
       "2    27337412934             1345          2022-01-12  Em aberto   \n",
       "3    53713111219             1372          2022-01-24  Em aberto   \n",
       "4    17537122867             1718          2022-01-31       Pago   \n",
       "..           ...              ...                 ...        ...   \n",
       "195  26130190204             1060          2022-01-19       Pago   \n",
       "196  50695164206             1587          2022-01-21       Pago   \n",
       "197  68885370313             1842          2022-01-15       Pago   \n",
       "198  58701953352             1604          2022-01-20       Pago   \n",
       "199  28986124401             1738          2022-01-27       Pago   \n",
       "\n",
       "                              E-mail   NF  \n",
       "0        meuclientedevedor@gmail.com  197  \n",
       "1      meuclientedevedor+1@gmail.com  177  \n",
       "2      meuclientedevedor+2@gmail.com  133  \n",
       "3      meuclientedevedor+3@gmail.com  155  \n",
       "4      meuclientedevedor+4@gmail.com  149  \n",
       "..                               ...  ...  \n",
       "195  meuclientedevedor+195@gmail.com  134  \n",
       "196  meuclientedevedor+196@gmail.com  117  \n",
       "197  meuclientedevedor+197@gmail.com  107  \n",
       "198  meuclientedevedor+198@gmail.com  116  \n",
       "199  meuclientedevedor+199@gmail.com  113  \n",
       "\n",
       "[200 rows x 6 columns]"
      ]
     },
     "metadata": {},
     "output_type": "display_data"
    }
   ],
   "source": [
    "tabela_df = pd.read_excel('Contas a Receber.xlsx')\n",
    "\n",
    "# Examinar a base de dados\n",
    "linhas, colunas = tabela_df.shape # Extrair tamanho da base de dados\n",
    "print('A base de dados possui {} linhas e {} colunas.'.format(linhas, colunas)) # Apresentar informação ao usuário\n",
    "\n",
    "# tabela_df.info() # Informações sobre os tipos de dados presentes na base de dados\n",
    "display(tabela_df) # Visualizar base de dados"
   ]
  },
  {
   "cell_type": "markdown",
   "metadata": {},
   "source": [
    "#### Verificar a Data do Dia de Hoje"
   ]
  },
  {
   "cell_type": "code",
   "execution_count": 3,
   "metadata": {},
   "outputs": [
    {
     "name": "stdout",
     "output_type": "stream",
     "text": [
      "2022-01-28 09:35:07.270500\n",
      "28/01/2022\n",
      "28/01/2022 09:35\n",
      "2022-01-28\n",
      "2022-01-28 09:35:07.271498\n"
     ]
    }
   ],
   "source": [
    "hoje = dt.datetime.now() # Data e horário de hoje\n",
    "print(hoje) # Apresentar informação ao usuário\n",
    "\n",
    "hoje_em_texto = hoje.strftime('%d/%m/%Y') # Texto data de hoje\n",
    "print(hoje_em_texto) # Apresentar informação ao usuário\n",
    "\n",
    "hoje_em_texto = hoje.strftime('%d/%m/%Y %H:%M') # Texto data e horário de hoje\n",
    "print(hoje_em_texto) # Apresentar informação ao usuário\n",
    "\n",
    "hoje = dt.date.today() # Data de hoje\n",
    "print(hoje) # Apresentar informação ao usuário\n",
    "\n",
    "hoje = dt.datetime.now() # Data e horário de hoje\n",
    "print(hoje) # Apresentar informação ao usuário"
   ]
  },
  {
   "cell_type": "markdown",
   "metadata": {},
   "source": [
    "#### Exemplos de Formatação de Data e Horário"
   ]
  },
  {
   "cell_type": "code",
   "execution_count": 4,
   "metadata": {},
   "outputs": [
    {
     "name": "stdout",
     "output_type": "stream",
     "text": [
      "day = 28/01/2022\n",
      "day = January 28, 2022\n",
      "day = 01/28/22\n",
      "day = Jan-28-2022\n"
     ]
    }
   ],
   "source": [
    "# Importar biblioteca necessária\n",
    "from datetime import date\n",
    "\n",
    "today = date.today() # Data de hoje\n",
    "\n",
    "day1 = today.strftime(\"%d/%m/%Y\") # dd/mm/YY\n",
    "print(\"day =\", day1)\n",
    "\n",
    "day2 = today.strftime(\"%B %d, %Y\") # Textual month, day and year\n",
    "print(\"day =\", day2)\n",
    "\n",
    "day3 = today.strftime(\"%m/%d/%y\") # mm/dd/y\n",
    "print(\"day =\", day3)\n",
    "\n",
    "day4 = today.strftime(\"%b-%d-%Y\") # Month abbreviation, day and year\n",
    "print(\"day =\", day4)"
   ]
  },
  {
   "cell_type": "markdown",
   "metadata": {},
   "source": [
    "#### Converter Moeda para Real Brasileiro"
   ]
  },
  {
   "cell_type": "code",
   "execution_count": 5,
   "metadata": {},
   "outputs": [
    {
     "data": {
      "text/plain": [
       "'R$653.789,41'"
      ]
     },
     "execution_count": 5,
     "metadata": {},
     "output_type": "execute_result"
    }
   ],
   "source": [
    "# Importar biblioteca necessária\n",
    "import locale\n",
    "\n",
    "# Definir função para conversão de quantia em moeda real brasileiro\n",
    "def moeda(quantia): \n",
    "    # locale.setlocale(locale.LC_ALL, 'pt_BR.UTF-8')\n",
    "    locale.setlocale(locale.LC_ALL, 'Portuguese_Brazil.1252')\n",
    "    real_br = locale.currency(quantia, grouping = True, symbol = True)\n",
    "    return real_br\n",
    "\n",
    "moeda(653789.41) # Exemplo de conversão"
   ]
  },
  {
   "cell_type": "markdown",
   "metadata": {},
   "source": [
    "#### Coletar somente Dados de Clientes Devedores"
   ]
  },
  {
   "cell_type": "code",
   "execution_count": 6,
   "metadata": {},
   "outputs": [
    {
     "data": {
      "text/html": [
       "<div>\n",
       "<style scoped>\n",
       "    .dataframe tbody tr th:only-of-type {\n",
       "        vertical-align: middle;\n",
       "    }\n",
       "\n",
       "    .dataframe tbody tr th {\n",
       "        vertical-align: top;\n",
       "    }\n",
       "\n",
       "    .dataframe thead th {\n",
       "        text-align: right;\n",
       "    }\n",
       "</style>\n",
       "<table border=\"1\" class=\"dataframe\">\n",
       "  <thead>\n",
       "    <tr style=\"text-align: right;\">\n",
       "      <th></th>\n",
       "      <th>CPF</th>\n",
       "      <th>Valor em Aberto</th>\n",
       "      <th>Data para Pagamento</th>\n",
       "      <th>Status</th>\n",
       "      <th>E-mail</th>\n",
       "      <th>NF</th>\n",
       "    </tr>\n",
       "  </thead>\n",
       "  <tbody>\n",
       "    <tr>\n",
       "      <th>1</th>\n",
       "      <td>27333842934</td>\n",
       "      <td>1670</td>\n",
       "      <td>2022-01-26</td>\n",
       "      <td>Em aberto</td>\n",
       "      <td>meuclientedevedor+1@gmail.com</td>\n",
       "      <td>177</td>\n",
       "    </tr>\n",
       "    <tr>\n",
       "      <th>2</th>\n",
       "      <td>27337412934</td>\n",
       "      <td>1345</td>\n",
       "      <td>2022-01-12</td>\n",
       "      <td>Em aberto</td>\n",
       "      <td>meuclientedevedor+2@gmail.com</td>\n",
       "      <td>133</td>\n",
       "    </tr>\n",
       "    <tr>\n",
       "      <th>3</th>\n",
       "      <td>53713111219</td>\n",
       "      <td>1372</td>\n",
       "      <td>2022-01-24</td>\n",
       "      <td>Em aberto</td>\n",
       "      <td>meuclientedevedor+3@gmail.com</td>\n",
       "      <td>155</td>\n",
       "    </tr>\n",
       "    <tr>\n",
       "      <th>5</th>\n",
       "      <td>54769185414</td>\n",
       "      <td>1533</td>\n",
       "      <td>2022-01-13</td>\n",
       "      <td>Em aberto</td>\n",
       "      <td>meuclientedevedor+5@gmail.com</td>\n",
       "      <td>118</td>\n",
       "    </tr>\n",
       "    <tr>\n",
       "      <th>6</th>\n",
       "      <td>44744009510</td>\n",
       "      <td>1411</td>\n",
       "      <td>2022-01-12</td>\n",
       "      <td>Em aberto</td>\n",
       "      <td>meuclientedevedor+6@gmail.com</td>\n",
       "      <td>191</td>\n",
       "    </tr>\n",
       "    <tr>\n",
       "      <th>...</th>\n",
       "      <td>...</td>\n",
       "      <td>...</td>\n",
       "      <td>...</td>\n",
       "      <td>...</td>\n",
       "      <td>...</td>\n",
       "      <td>...</td>\n",
       "    </tr>\n",
       "    <tr>\n",
       "      <th>190</th>\n",
       "      <td>71953312562</td>\n",
       "      <td>1657</td>\n",
       "      <td>2022-01-12</td>\n",
       "      <td>Em aberto</td>\n",
       "      <td>meuclientedevedor+190@gmail.com</td>\n",
       "      <td>178</td>\n",
       "    </tr>\n",
       "    <tr>\n",
       "      <th>191</th>\n",
       "      <td>62203137527</td>\n",
       "      <td>1419</td>\n",
       "      <td>2022-01-16</td>\n",
       "      <td>Em aberto</td>\n",
       "      <td>meuclientedevedor+191@gmail.com</td>\n",
       "      <td>200</td>\n",
       "    </tr>\n",
       "    <tr>\n",
       "      <th>192</th>\n",
       "      <td>34219196712</td>\n",
       "      <td>1018</td>\n",
       "      <td>2022-01-28</td>\n",
       "      <td>Em aberto</td>\n",
       "      <td>meuclientedevedor+192@gmail.com</td>\n",
       "      <td>171</td>\n",
       "    </tr>\n",
       "    <tr>\n",
       "      <th>193</th>\n",
       "      <td>26316453421</td>\n",
       "      <td>1487</td>\n",
       "      <td>2022-01-28</td>\n",
       "      <td>Em aberto</td>\n",
       "      <td>meuclientedevedor+193@gmail.com</td>\n",
       "      <td>129</td>\n",
       "    </tr>\n",
       "    <tr>\n",
       "      <th>194</th>\n",
       "      <td>29777295739</td>\n",
       "      <td>1102</td>\n",
       "      <td>2022-01-13</td>\n",
       "      <td>Em aberto</td>\n",
       "      <td>meuclientedevedor+194@gmail.com</td>\n",
       "      <td>127</td>\n",
       "    </tr>\n",
       "  </tbody>\n",
       "</table>\n",
       "<p>87 rows × 6 columns</p>\n",
       "</div>"
      ],
      "text/plain": [
       "             CPF  Valor em Aberto Data para Pagamento     Status  \\\n",
       "1    27333842934             1670          2022-01-26  Em aberto   \n",
       "2    27337412934             1345          2022-01-12  Em aberto   \n",
       "3    53713111219             1372          2022-01-24  Em aberto   \n",
       "5    54769185414             1533          2022-01-13  Em aberto   \n",
       "6    44744009510             1411          2022-01-12  Em aberto   \n",
       "..           ...              ...                 ...        ...   \n",
       "190  71953312562             1657          2022-01-12  Em aberto   \n",
       "191  62203137527             1419          2022-01-16  Em aberto   \n",
       "192  34219196712             1018          2022-01-28  Em aberto   \n",
       "193  26316453421             1487          2022-01-28  Em aberto   \n",
       "194  29777295739             1102          2022-01-13  Em aberto   \n",
       "\n",
       "                              E-mail   NF  \n",
       "1      meuclientedevedor+1@gmail.com  177  \n",
       "2      meuclientedevedor+2@gmail.com  133  \n",
       "3      meuclientedevedor+3@gmail.com  155  \n",
       "5      meuclientedevedor+5@gmail.com  118  \n",
       "6      meuclientedevedor+6@gmail.com  191  \n",
       "..                               ...  ...  \n",
       "190  meuclientedevedor+190@gmail.com  178  \n",
       "191  meuclientedevedor+191@gmail.com  200  \n",
       "192  meuclientedevedor+192@gmail.com  171  \n",
       "193  meuclientedevedor+193@gmail.com  129  \n",
       "194  meuclientedevedor+194@gmail.com  127  \n",
       "\n",
       "[87 rows x 6 columns]"
      ]
     },
     "metadata": {},
     "output_type": "display_data"
    }
   ],
   "source": [
    "devedores_df = tabela_df.loc[tabela_df['Status'] == 'Em aberto'] # Filtrar somente clientes com status em aberto\n",
    "devedores_df = devedores_df.loc[devedores_df['Data para Pagamento'] < hoje] # Filtrar somente datas passadas a hoje\n",
    "display(devedores_df) # Visualizar base de dados"
   ]
  },
  {
   "cell_type": "markdown",
   "metadata": {},
   "source": [
    "#### Listar Valores das Colunas Selecionadas do Dataframe "
   ]
  },
  {
   "cell_type": "code",
   "execution_count": 7,
   "metadata": {},
   "outputs": [
    {
     "name": "stdout",
     "output_type": "stream",
     "text": [
      "[[1670, Timestamp('2022-01-26 00:00:00'), 'meuclientedevedor+1@gmail.com', 177], [1345, Timestamp('2022-01-12 00:00:00'), 'meuclientedevedor+2@gmail.com', 133], [1372, Timestamp('2022-01-24 00:00:00'), 'meuclientedevedor+3@gmail.com', 155], [1533, Timestamp('2022-01-13 00:00:00'), 'meuclientedevedor+5@gmail.com', 118], [1411, Timestamp('2022-01-12 00:00:00'), 'meuclientedevedor+6@gmail.com', 191], [1007, Timestamp('2022-01-11 00:00:00'), 'meuclientedevedor+9@gmail.com', 172], [1253, Timestamp('2022-01-27 00:00:00'), 'meuclientedevedor+10@gmail.com', 172], [1901, Timestamp('2022-01-12 00:00:00'), 'meuclientedevedor+15@gmail.com', 108], [1594, Timestamp('2022-01-28 00:00:00'), 'meuclientedevedor+16@gmail.com', 112], [1520, Timestamp('2022-01-16 00:00:00'), 'meuclientedevedor+17@gmail.com', 111], [1666, Timestamp('2022-01-20 00:00:00'), 'meuclientedevedor+18@gmail.com', 129], [1339, Timestamp('2022-01-19 00:00:00'), 'meuclientedevedor+19@gmail.com', 179], [1014, Timestamp('2022-01-21 00:00:00'), 'meuclientedevedor+20@gmail.com', 124], [1061, Timestamp('2022-01-12 00:00:00'), 'meuclientedevedor+21@gmail.com', 127], [1718, Timestamp('2022-01-21 00:00:00'), 'meuclientedevedor+23@gmail.com', 145], [1927, Timestamp('2022-01-20 00:00:00'), 'meuclientedevedor+27@gmail.com', 122], [1546, Timestamp('2022-01-23 00:00:00'), 'meuclientedevedor+28@gmail.com', 114], [1713, Timestamp('2022-01-27 00:00:00'), 'meuclientedevedor+30@gmail.com', 162], [1044, Timestamp('2022-01-13 00:00:00'), 'meuclientedevedor+33@gmail.com', 163], [1370, Timestamp('2022-01-12 00:00:00'), 'meuclientedevedor+36@gmail.com', 135], [1430, Timestamp('2022-01-26 00:00:00'), 'meuclientedevedor+37@gmail.com', 166], [1438, Timestamp('2022-01-12 00:00:00'), 'meuclientedevedor+38@gmail.com', 105], [1389, Timestamp('2022-01-23 00:00:00'), 'meuclientedevedor+39@gmail.com', 155], [1815, Timestamp('2022-01-25 00:00:00'), 'meuclientedevedor+45@gmail.com', 152], [1892, Timestamp('2022-01-16 00:00:00'), 'meuclientedevedor+46@gmail.com', 102], [1827, Timestamp('2022-01-15 00:00:00'), 'meuclientedevedor+51@gmail.com', 145], [1704, Timestamp('2022-01-14 00:00:00'), 'meuclientedevedor+53@gmail.com', 169], [1368, Timestamp('2022-01-25 00:00:00'), 'meuclientedevedor+56@gmail.com', 122], [1245, Timestamp('2022-01-13 00:00:00'), 'meuclientedevedor+57@gmail.com', 183], [1218, Timestamp('2022-01-16 00:00:00'), 'meuclientedevedor+58@gmail.com', 101], [1662, Timestamp('2022-01-13 00:00:00'), 'meuclientedevedor+59@gmail.com', 159], [1317, Timestamp('2022-01-12 00:00:00'), 'meuclientedevedor+62@gmail.com', 126], [1851, Timestamp('2022-01-21 00:00:00'), 'meuclientedevedor+63@gmail.com', 197], [1378, Timestamp('2022-01-17 00:00:00'), 'meuclientedevedor+67@gmail.com', 175], [1153, Timestamp('2022-01-23 00:00:00'), 'meuclientedevedor+68@gmail.com', 110], [1915, Timestamp('2022-01-19 00:00:00'), 'meuclientedevedor+71@gmail.com', 148], [1271, Timestamp('2022-01-17 00:00:00'), 'meuclientedevedor+73@gmail.com', 195], [1451, Timestamp('2022-01-24 00:00:00'), 'meuclientedevedor+74@gmail.com', 133], [1091, Timestamp('2022-01-19 00:00:00'), 'meuclientedevedor+77@gmail.com', 134], [1624, Timestamp('2022-01-20 00:00:00'), 'meuclientedevedor+78@gmail.com', 156], [1441, Timestamp('2022-01-26 00:00:00'), 'meuclientedevedor+79@gmail.com', 126], [1989, Timestamp('2022-01-19 00:00:00'), 'meuclientedevedor+80@gmail.com', 155], [1594, Timestamp('2022-01-19 00:00:00'), 'meuclientedevedor+81@gmail.com', 165], [1442, Timestamp('2022-01-11 00:00:00'), 'meuclientedevedor+85@gmail.com', 178], [1216, Timestamp('2022-01-21 00:00:00'), 'meuclientedevedor+87@gmail.com', 172], [1439, Timestamp('2022-01-14 00:00:00'), 'meuclientedevedor+88@gmail.com', 143], [1273, Timestamp('2022-01-18 00:00:00'), 'meuclientedevedor+89@gmail.com', 136], [1792, Timestamp('2022-01-20 00:00:00'), 'meuclientedevedor+90@gmail.com', 145], [1587, Timestamp('2022-01-16 00:00:00'), 'meuclientedevedor+91@gmail.com', 135], [1201, Timestamp('2022-01-20 00:00:00'), 'meuclientedevedor+94@gmail.com', 158], [1897, Timestamp('2022-01-26 00:00:00'), 'meuclientedevedor+95@gmail.com', 158], [1420, Timestamp('2022-01-24 00:00:00'), 'meuclientedevedor+100@gmail.com', 195], [1400, Timestamp('2022-01-27 00:00:00'), 'meuclientedevedor+102@gmail.com', 130], [1419, Timestamp('2022-01-19 00:00:00'), 'meuclientedevedor+103@gmail.com', 176], [1545, Timestamp('2022-01-16 00:00:00'), 'meuclientedevedor+106@gmail.com', 195], [1610, Timestamp('2022-01-17 00:00:00'), 'meuclientedevedor+108@gmail.com', 184], [1602, Timestamp('2022-01-26 00:00:00'), 'meuclientedevedor+112@gmail.com', 173], [1016, Timestamp('2022-01-22 00:00:00'), 'meuclientedevedor+113@gmail.com', 127], [1972, Timestamp('2022-01-16 00:00:00'), 'meuclientedevedor+119@gmail.com', 182], [1796, Timestamp('2022-01-11 00:00:00'), 'meuclientedevedor+120@gmail.com', 156], [1244, Timestamp('2022-01-27 00:00:00'), 'meuclientedevedor+121@gmail.com', 109], [1632, Timestamp('2022-01-19 00:00:00'), 'meuclientedevedor+122@gmail.com', 172], [1663, Timestamp('2022-01-14 00:00:00'), 'meuclientedevedor+125@gmail.com', 163], [1178, Timestamp('2022-01-14 00:00:00'), 'meuclientedevedor+126@gmail.com', 152], [1859, Timestamp('2022-01-28 00:00:00'), 'meuclientedevedor+133@gmail.com', 166], [1347, Timestamp('2022-01-12 00:00:00'), 'meuclientedevedor+139@gmail.com', 142], [1043, Timestamp('2022-01-16 00:00:00'), 'meuclientedevedor+143@gmail.com', 167], [1750, Timestamp('2022-01-20 00:00:00'), 'meuclientedevedor+152@gmail.com', 140], [1105, Timestamp('2022-01-18 00:00:00'), 'meuclientedevedor+155@gmail.com', 172], [1984, Timestamp('2022-01-23 00:00:00'), 'meuclientedevedor+156@gmail.com', 127], [1733, Timestamp('2022-01-22 00:00:00'), 'meuclientedevedor+158@gmail.com', 160], [1812, Timestamp('2022-01-14 00:00:00'), 'meuclientedevedor+159@gmail.com', 174], [1346, Timestamp('2022-01-21 00:00:00'), 'meuclientedevedor+164@gmail.com', 114], [1721, Timestamp('2022-01-11 00:00:00'), 'meuclientedevedor+165@gmail.com', 172], [1140, Timestamp('2022-01-12 00:00:00'), 'meuclientedevedor+172@gmail.com', 198], [1714, Timestamp('2022-01-11 00:00:00'), 'meuclientedevedor+174@gmail.com', 198], [1875, Timestamp('2022-01-11 00:00:00'), 'meuclientedevedor+177@gmail.com', 191], [1287, Timestamp('2022-01-17 00:00:00'), 'meuclientedevedor+178@gmail.com', 140], [1917, Timestamp('2022-01-19 00:00:00'), 'meuclientedevedor+180@gmail.com', 142], [1139, Timestamp('2022-01-24 00:00:00'), 'meuclientedevedor+185@gmail.com', 136], [1955, Timestamp('2022-01-19 00:00:00'), 'meuclientedevedor+187@gmail.com', 148], [1047, Timestamp('2022-01-15 00:00:00'), 'meuclientedevedor+188@gmail.com', 192], [1657, Timestamp('2022-01-12 00:00:00'), 'meuclientedevedor+190@gmail.com', 178], [1419, Timestamp('2022-01-16 00:00:00'), 'meuclientedevedor+191@gmail.com', 200], [1018, Timestamp('2022-01-28 00:00:00'), 'meuclientedevedor+192@gmail.com', 171], [1487, Timestamp('2022-01-28 00:00:00'), 'meuclientedevedor+193@gmail.com', 129], [1102, Timestamp('2022-01-13 00:00:00'), 'meuclientedevedor+194@gmail.com', 127]]\n"
     ]
    }
   ],
   "source": [
    "# Transformar valores das colunas selecionadas do dataframe em lista\n",
    "dados = devedores_df[['Valor em Aberto','Data para Pagamento','E-mail','NF']].values.tolist()\n",
    "print(dados) # Apresentar informação ao usuário"
   ]
  },
  {
   "cell_type": "markdown",
   "metadata": {},
   "source": [
    "#### Criar Lista de Devedores Fictícios"
   ]
  },
  {
   "cell_type": "code",
   "execution_count": 8,
   "metadata": {},
   "outputs": [
    {
     "name": "stdout",
     "output_type": "stream",
     "text": [
      "[[1670, Timestamp('2022-01-26 00:00:00'), 'luis.mesquita.castro@gmail.com', 177], [1345, Timestamp('2022-01-12 00:00:00'), 'gustavoclaude@gmail.com', 133], [1372, Timestamp('2022-01-24 00:00:00'), 'hm.ramosfilho@gmail.com', 155], [1533, Timestamp('2022-01-13 00:00:00'), 'jamillyyyy@gmail.com', 118], [1411, Timestamp('2022-01-12 00:00:00'), 'vandressanhenriques@gmail.com', 191]]\n"
     ]
    }
   ],
   "source": [
    "devedor01 = [dados[0][0], dados[0][1], 'luis.mesquita.castro@gmail.com', dados[0][3]]\n",
    "devedor02 = [dados[1][0], dados[1][1], 'gustavoclaude@gmail.com', dados[1][3]]\n",
    "devedor03 = [dados[2][0], dados[2][1], 'hm.ramosfilho@gmail.com', dados[2][3]]\n",
    "devedor04 = [dados[3][0], dados[3][1], 'jamillyyyy@gmail.com', dados[3][3]]\n",
    "devedor05 = [dados[4][0], dados[4][1], 'vandressanhenriques@gmail.com', dados[4][3]]\n",
    "\n",
    "devedores = [devedor01, devedor02, devedor03, devedor04, devedor05]\n",
    "print(devedores)"
   ]
  },
  {
   "cell_type": "markdown",
   "metadata": {},
   "source": [
    "#### Criar e Enviar um E-mail via Outlook para Devedores Fictícios"
   ]
  },
  {
   "cell_type": "code",
   "execution_count": 9,
   "metadata": {},
   "outputs": [],
   "source": [
    "# Criar a integração com o outlook\n",
    "outlook = client.Dispatch('Outlook.Application')\n",
    "\n",
    "# Definir e-mail do remetente\n",
    "emissor = outlook.session.Accounts['luis.mesquita.castro@outlook.com']"
   ]
  },
  {
   "cell_type": "code",
   "execution_count": 10,
   "metadata": {},
   "outputs": [
    {
     "name": "stdout",
     "output_type": "stream",
     "text": [
      "Email Enviado\n"
     ]
    }
   ],
   "source": [
    "# Enviar somente para um devedor\n",
    "valor = moeda(devedor01[0]) # Quantia a receber do devedor\n",
    "destinatario = devedor01[2] # E-mail do devedor\n",
    "nf = devedor01[3] # Nota fiscal do devedor\n",
    "prazo = devedor01[1] # Prazo de pagamento do devedor\n",
    "prazo = prazo.strftime(\"%d/%m/%Y\") # Formatar informação de data de forma adequada\n",
    "        \n",
    "# Criar um e-mail\n",
    "email = outlook.CreateItem(0)\n",
    "email.Subject = \"Cobrança Automática com Python\"\n",
    "# email.Display()\n",
    "email.To = destinatario\n",
    "email.HTMLBody = f\"\"\"\n",
    "<p>Prezado Cliente,</p>\n",
    "\n",
    "<p>Verificamos um atraso no pagamento referente a NF {nf} com vencimento em {prazo} e quantia total de {valor}.\n",
    "Gostaríamos de verificar se há algum problema que necessite do auxílio de nossa equipe.</p>\n",
    "\n",
    "<p>Em caso de dúvidas, entre em contato com nossa equipe por meio do e-mail: tecobreiautomaticamentecompython@gmail.com</p>\n",
    "\n",
    "\n",
    "<p>Atenciosamente,</p>\n",
    "<p>Código Python do Luís Augusto.</p>\n",
    "\"\"\"\n",
    "\n",
    "#email._oleobj_.Invoke(*(64209,0,8,0,emissor))\n",
    "email.Save()\n",
    "email.Send()\n",
    "print(\"Email Enviado\")"
   ]
  },
  {
   "cell_type": "code",
   "execution_count": 11,
   "metadata": {},
   "outputs": [
    {
     "name": "stdout",
     "output_type": "stream",
     "text": [
      "Emails Enviado\n"
     ]
    }
   ],
   "source": [
    "# Laço para escrever e enviar e-mail para uma lista de devedores\n",
    "for devedor in devedores:\n",
    "    valor = moeda(devedor[0]) # Quantia a receber do devedor\n",
    "    destinatario = devedor[2] # E-mail do devedor\n",
    "    nf = devedor[3] # Nota fiscal do devedor\n",
    "    prazo = devedor[1] # Prazo de pagamento do devedor\n",
    "    prazo = prazo.strftime(\"%d/%m/%Y\") # Formatar informação de data de forma adequada\n",
    "        \n",
    "    # Criar um e-mail\n",
    "    email = outlook.CreateItem(0)\n",
    "    email.Subject = \"Cobrança Automática com Python\"\n",
    "    # email.Display()\n",
    "    email.To = destinatario\n",
    "    email.HTMLBody = f\"\"\"\n",
    "    <p>Prezado Cliente,</p>\n",
    "\n",
    "    <p>Verificamos um atraso no pagamento referente a NF {nf} com vencimento em {prazo} e quantia total de {valor}.\n",
    "    Gostaríamos de verificar se há algum problema que necessite do auxílio de nossa equipe.</p>\n",
    "\n",
    "    <p>Em caso de dúvidas, entre em contato com nossa equipe por meio do e-mail: tecobreiautomaticamentecompython@gmail.com</p>\n",
    "\n",
    "    \n",
    "    <p>Atenciosamente,</p>\n",
    "    <p>Código Python do Luís Augusto.</p>\n",
    "    \"\"\"\n",
    "    \n",
    "    # email._oleobj_.Invoke(*(64209,0,8,0,emissor))\n",
    "    email.Save()\n",
    "    email.Send()\n",
    "print(\"Emails Enviados\")"
   ]
  }
 ],
 "metadata": {
  "kernelspec": {
   "display_name": "Python 3",
   "language": "python",
   "name": "python3"
  },
  "language_info": {
   "codemirror_mode": {
    "name": "ipython",
    "version": 3
   },
   "file_extension": ".py",
   "mimetype": "text/x-python",
   "name": "python",
   "nbconvert_exporter": "python",
   "pygments_lexer": "ipython3",
   "version": "3.8.3"
  }
 },
 "nbformat": 4,
 "nbformat_minor": 5
}
